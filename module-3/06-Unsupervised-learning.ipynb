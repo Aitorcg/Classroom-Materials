{
 "cells": [
  {
   "cell_type": "code",
   "execution_count": 1,
   "metadata": {},
   "outputs": [
    {
     "data": {
      "text/html": [
       "<style>.container { width:90% !important; }</style>"
      ],
      "text/plain": [
       "<IPython.core.display.HTML object>"
      ]
     },
     "metadata": {},
     "output_type": "display_data"
    },
    {
     "data": {
      "text/html": [
       "<style>.output_result { max-width:100% !important; }</style>"
      ],
      "text/plain": [
       "<IPython.core.display.HTML object>"
      ]
     },
     "metadata": {},
     "output_type": "display_data"
    },
    {
     "data": {
      "text/html": [
       "<style>.prompt { display:none !important; }</style>"
      ],
      "text/plain": [
       "<IPython.core.display.HTML object>"
      ]
     },
     "metadata": {},
     "output_type": "display_data"
    }
   ],
   "source": [
    "from IPython.core.display import display, HTML\n",
    "display(HTML(\"<style>.container { width:90% !important; }</style>\"))\n",
    "display(HTML(\"<style>.output_result { max-width:100% !important; }</style>\"))\n",
    "display(HTML(\"<style>.prompt { display:none !important; }</style>\"))"
   ]
  },
  {
   "cell_type": "code",
   "execution_count": 2,
   "metadata": {},
   "outputs": [],
   "source": [
    "import numpy as np\n",
    "from matplotlib import pyplot as plt\n",
    "from mpl_toolkits.mplot3d import axes3d\n",
    "from matplotlib import cm\n",
    "%matplotlib inline\n",
    "%config Inlinebackend.figure_format = 'retina'\n",
    "\n",
    "import seaborn as sns\n",
    "sns.set_context('poster')\n",
    "sns.set(rc={'figure.figsize': (16., 9.)})\n",
    "sns.set_style('whitegrid')\n",
    "\n",
    "# Modeling libraries\n",
    "from sklearn.datasets import load_boston, load_iris\n",
    "from sklearn.decomposition import PCA\n",
    "import statsmodels.formula.api as smf \n",
    "from sklearn.linear_model import LinearRegression, Lasso, Ridge, ElasticNet\n",
    "from sklearn.neighbors import KNeighborsClassifier\n",
    "from sklearn.metrics import mean_squared_error, r2_score\n",
    "from sklearn.metrics import silhouette_samples, silhouette_score\n",
    "from sklearn.model_selection import train_test_split\n",
    "from sklearn.model_selection import learning_curve, GridSearchCV\n",
    "from sklearn.model_selection import cross_validate, cross_val_score\n",
    "from sklearn.preprocessing import PolynomialFeatures\n",
    "from sklearn.cluster import AgglomerativeClustering\n",
    "from scipy.cluster.hierarchy import dendrogram\n",
    "\n",
    "from sklearn.preprocessing import StandardScaler\n",
    "from sklearn.manifold import TSNE\n",
    "from sklearn.cluster import KMeans\n",
    "from sklearn.pipeline import make_pipeline\n",
    "from sklearn import set_config\n",
    "from sklearn.cluster import DBSCAN\n",
    "set_config(display='diagram')\n",
    "\n",
    "\n",
    "import pandas as pd\n",
    "np.random.seed(123)\n",
    "\n",
    "import warnings\n",
    "warnings.filterwarnings('ignore')"
   ]
  },
  {
   "cell_type": "markdown",
   "metadata": {},
   "source": [
    "# Unsupervised learning\n",
    "\n",
    "Unsupervised learning is a branch of machine learning that is used to find underlying patterns in data.\n",
    "\n",
    "\n",
    "Unsupervised learning does not use labeled data like supervised learning, but instead focuses on the data’s features. \n",
    "Labeled training data has a corresponding output for each input. \n",
    "When using unsupervised learning, we are not concerned with the targeted outputs because the goal of the algorithm is to find relationships within the data and group data points based on the input data alone. \n",
    "Supervised learning is concerned with labeled data in order to make predictions, but unsupervised learning is not.\n",
    "\n",
    "The goal of unsupervised learning algorithms is to analyze data and find important features. \n",
    "Unsupervised learning will often find subgroups or hidden patterns within the dataset that a human observer may not pick up on. \n",
    "This is shown in the figure above. \n",
    "With the given image, you can probably pick out the subgroups, but with a more complex dataset, these subgroups may not be so easy to find. \n",
    "This is where unsupervised learning can help us."
   ]
  },
  {
   "cell_type": "markdown",
   "metadata": {
    "toc": true
   },
   "source": [
    "<h1>Table of Contents<span class=\"tocSkip\"></span></h1>\n",
    "<div class=\"toc\"><ul class=\"toc-item\"><li><span><a href=\"#Dimensionality-reduction\" data-toc-modified-id=\"Dimensionality-reduction-1\"><span class=\"toc-item-num\">1&nbsp;&nbsp;</span>Dimensionality reduction</a></span><ul class=\"toc-item\"><li><span><a href=\"#PCA\" data-toc-modified-id=\"PCA-1.1\"><span class=\"toc-item-num\">1.1&nbsp;&nbsp;</span>PCA</a></span></li><li><span><a href=\"#Proportion-of-variance-explained\" data-toc-modified-id=\"Proportion-of-variance-explained-1.2\"><span class=\"toc-item-num\">1.2&nbsp;&nbsp;</span>Proportion of variance explained</a></span></li><li><span><a href=\"#t-SNE\" data-toc-modified-id=\"t-SNE-1.3\"><span class=\"toc-item-num\">1.3&nbsp;&nbsp;</span>t-SNE</a></span></li></ul></li><li><span><a href=\"#Clustering\" data-toc-modified-id=\"Clustering-2\"><span class=\"toc-item-num\">2&nbsp;&nbsp;</span>Clustering</a></span><ul class=\"toc-item\"><li><span><a href=\"#k-means\" data-toc-modified-id=\"k-means-2.1\"><span class=\"toc-item-num\">2.1&nbsp;&nbsp;</span>k-means</a></span><ul class=\"toc-item\"><li><span><a href=\"#Choosing-k\" data-toc-modified-id=\"Choosing-k-2.1.1\"><span class=\"toc-item-num\">2.1.1&nbsp;&nbsp;</span>Choosing k</a></span></li></ul></li><li><span><a href=\"#DBSCAN\" data-toc-modified-id=\"DBSCAN-2.2\"><span class=\"toc-item-num\">2.2&nbsp;&nbsp;</span>DBSCAN</a></span></li><li><span><a href=\"#Hierarchical-Clustering\" data-toc-modified-id=\"Hierarchical-Clustering-2.3\"><span class=\"toc-item-num\">2.3&nbsp;&nbsp;</span>Hierarchical Clustering</a></span></li></ul></li><li><span><a href=\"#References\" data-toc-modified-id=\"References-3\"><span class=\"toc-item-num\">3&nbsp;&nbsp;</span>References</a></span></li></ul></div>"
   ]
  },
  {
   "cell_type": "markdown",
   "metadata": {},
   "source": [
    "# Dimensionality reduction\n",
    "\n",
    "##  PCA\n",
    "\n",
    "Principal component analysis or PCA is used in exploratory data analysis and for making predictive models. \n",
    "\n",
    "PCA can be used to visualize high dimensional data in, tipically, 2 dimensions. How? By projecting each data point onto only the first few principal components to obtain lower-dimensional data while preserving as much of the data's variation as possible.\n",
    "\n",
    "The principal components (PC) of a collection of data points are the most relevant features of your data.\n",
    "\n",
    "The first component is a weighted linear combination of all the original features where the sum of the squared weights equals 1. \n",
    "These weights are the loading factors. \n",
    "The loading factors of the first principal component maximize the weighted sum of the features for each observation.\n",
    "\n",
    "The second principal component is uncorrelated with the first which makes it orthogonal to it.\n",
    "\n",
    "The first PC can also be interpreted as the line closest to the data.\n",
    "\n",
    "It's very important to scale the data first to obtain mean = 0, std = 1. The variances won't make sense otherwise.\n",
    "\n",
    "\n",
    "\n",
    "### Proportion of variance explained\n",
    "\n",
    "Each principal component explains some of the variance of the original data. \n",
    "We can find the proportion that each principal component explains by dividing each components variance by the total raw variance. \n",
    "Summing all the variances for each component equals 1.\n",
    "\n",
    "Examine a screen plot (for an elbow) to choose the number of principal components to use. Or can use cross validation to choose.\n",
    "\n",
    "\n"
   ]
  },
  {
   "cell_type": "code",
   "execution_count": 3,
   "metadata": {},
   "outputs": [],
   "source": [
    "data = load_iris()"
   ]
  },
  {
   "cell_type": "code",
   "execution_count": null,
   "metadata": {},
   "outputs": [],
   "source": []
  },
  {
   "cell_type": "code",
   "execution_count": null,
   "metadata": {},
   "outputs": [],
   "source": []
  },
  {
   "cell_type": "code",
   "execution_count": null,
   "metadata": {},
   "outputs": [],
   "source": []
  },
  {
   "cell_type": "code",
   "execution_count": null,
   "metadata": {},
   "outputs": [],
   "source": []
  },
  {
   "cell_type": "code",
   "execution_count": null,
   "metadata": {},
   "outputs": [],
   "source": []
  },
  {
   "cell_type": "code",
   "execution_count": null,
   "metadata": {},
   "outputs": [],
   "source": []
  },
  {
   "cell_type": "markdown",
   "metadata": {},
   "source": [
    "## t-SNE\n",
    "\n",
    "t-Distributed Stochastic Neighbor Embedding (t-SNE) is an unsupervised, non-linear technique primarily used for data exploration and visualizing high-dimensional data. In simpler terms, t-SNE gives you a feel or intuition of how the data is arranged in a high-dimensional space. It was developed by Laurens van der Maatens and Geoffrey Hinton in 2008.\n",
    "\n",
    "\n",
    "### How it works\n",
    "\n",
    "1. **Measure similarities between points in the high dimensional space.** Think of a bunch of data points scattered on a 2D space (Figure 2). For each data point (xi) we’ll center a Gaussian distribution over that point. Then we measure the density of all points (xj) under that Gaussian distribution. Then renormalize for all points. \n",
    "\n",
    "    This gives us a set of probabilities (**$P_{ij}$**) for all points. Those probabilities are proportional to the similarities. All that means is, if data points x1 and x2 have equal values under this gaussian circle then their proportions and similarities are equal and hence you have local similarities in the structure of this high-dimensional space. The Gaussian distribution or circle can be manipulated using what’s called perplexity, which influences the variance of the distribution (circle size) and essentially the number of nearest neighbors. Normal range for perplexity is between 5 and 50.\n",
    "    \n",
    "    \n",
    "\n",
    "2. **Similar to the previous step but instead of using a Gaussian distribution you use a Student t-distribution with one degree of freedom, which is also known as the Cauchy distribution.** This gives us a second set of probabilities (**$Q_{ij}$**) in the low dimensional space. The Student t-distribution has heavier tails than the normal distribution. The heavy tails allow for better modeling of far apart distances.\n",
    "\n",
    "\n",
    "\n",
    "3. The last step is that we want these set of probabilities from the low-dimensional space (**$Q_{ij}$**) to reflect those of the high dimensional space (**$P_{ij}$**) as best as possible. We want the two map structures to be similar. We measure the difference between the probability distributions of the two-dimensional spaces using Kullback-Liebler divergence (KL). Finally, we use gradient descent to minimize our KL cost function.\n",
    "\n",
    "![](images/tsne.png)\n",
    "\n",
    "### Diferences with PCA\n",
    "\n",
    "PCA is a linear dimension reduction technique that seeks to maximize variance and preserves large pairwise distances. In other words, things that are different end up far apart. This can lead to poor visualization especially when dealing with non-linear structures.\n",
    "\n",
    "t-SNE differs from PCA by preserving only small pairwise distances or local similarities whereas PCA is concerned with preserving large pairwise distances to maximize variance."
   ]
  },
  {
   "cell_type": "code",
   "execution_count": null,
   "metadata": {},
   "outputs": [],
   "source": []
  },
  {
   "cell_type": "markdown",
   "metadata": {},
   "source": [
    "# Clustering\n",
    "\n",
    "Cluster analysis or clustering is a task with a simple objective: Finding groups (i.e., a structure) in data by grouping the elements that are more similar to each other.\n",
    "\n",
    "Cluster analysis itself is not one specific algorithm, but the general task to be solved."
   ]
  },
  {
   "cell_type": "markdown",
   "metadata": {},
   "source": [
    "## k-means\n",
    "\n",
    "Clustering algorithm where you define the number of clusters ahead of time.\n",
    "\n",
    "The algorithm works iteratively by first randomly assigning each point to a cluster and computing cluster centers. All points are then reassigned based on euclidean distance to centroids. A new centroid is found by averaging the points in each cluster. Process stops after centroids stop moving or some max number of iterations.\n",
    "\n",
    "This [GIF](https://miro.medium.com/max/637/1*Nx6IyGfRAV1ly6uDGnVCxQ.gif) illustrates the process pretty well."
   ]
  },
  {
   "cell_type": "code",
   "execution_count": null,
   "metadata": {},
   "outputs": [],
   "source": []
  },
  {
   "cell_type": "code",
   "execution_count": null,
   "metadata": {},
   "outputs": [],
   "source": []
  },
  {
   "cell_type": "markdown",
   "metadata": {},
   "source": [
    "### Choosing k\n",
    "\n",
    "#### Elbow criteria\n",
    "\n",
    "Elbow method gives us an idea on what a good k number of clusters would be based on the sum of squared distance (SSE) between data points and their assigned clusters’ centroids. \n",
    "We pick k at the spot where SSE starts to flatten out and forming an elbow. We’ll use the geyser dataset and evaluate SSE for different values of k and see where the curve might form an elbow and flatten out."
   ]
  },
  {
   "cell_type": "code",
   "execution_count": null,
   "metadata": {},
   "outputs": [],
   "source": []
  },
  {
   "cell_type": "markdown",
   "metadata": {},
   "source": [
    "#### Silhoutte Coefficient\n",
    "\n",
    "Silhouette analysis can be used to determine the degree of separation between clusters. For each sample:\n",
    "\n",
    "  1. Compute the average distance from all data points in the same cluster (ai).\n",
    "  2. Compute the average distance from all data points in the closest cluster (bi).\n",
    "  3. Compute the coefficient: $$\\frac{b^i-a^i}{max(a^i,b^i)}$$\n",
    "  \n",
    "\n",
    "The coefficient can take values in the interval $[-1, 1]$.\n",
    "\n",
    "  - If it is 0 –> the sample is very close to the neighboring clusters.\n",
    "  - It it is 1 –> the sample is far away from the neighboring clusters.\n",
    "  - It it is -1 –> the sample is assigned to the wrong clusters.\n",
    "  \n",
    "Therefore, we want the coefficients to be as big as possible and close to 1 to have a good clusters. We’ll use here geyser dataset again because its cheaper to run the silhouette analysis and it is actually obvious that there is most likely only two groups of data points."
   ]
  },
  {
   "cell_type": "code",
   "execution_count": null,
   "metadata": {},
   "outputs": [],
   "source": []
  },
  {
   "cell_type": "code",
   "execution_count": null,
   "metadata": {},
   "outputs": [],
   "source": []
  },
  {
   "cell_type": "markdown",
   "metadata": {},
   "source": [
    "### DBSCAN\n",
    "\n",
    "\n",
    "**Density-based spatial clustering of applications with noise (DBSCAN)** is a data clustering algorithm proposed by Martin Ester, Hans-Peter Kriegel, Jörg Sander and Xiaowei Xu in 1996.\n",
    "\n",
    "It is a density-based clustering non-parametric algorithm: given a set of points in some space, it groups together points that are closely packed together (points with many nearby neighbors), marking as outliers points that lie alone in low-density regions (whose nearest neighbors are too far away). \n",
    "\n",
    "DBSCAN is one of the most common clustering algorithms and also most cited in scientific literature It even recevied an award in 2004).\n",
    "\n",
    "![DBSCAN overview](images/DBSCAN.png)"
   ]
  },
  {
   "cell_type": "code",
   "execution_count": null,
   "metadata": {},
   "outputs": [],
   "source": []
  },
  {
   "cell_type": "markdown",
   "metadata": {},
   "source": [
    "## Hierarchical Clustering\n",
    "\n",
    "In data mining and statistics, hierarchical clustering (also called hierarchical cluster analysis or HCA) is a method of cluster analysis which seeks to build a hierarchy of clusters. \n",
    "\n",
    "Strategies for hierarchical clustering generally fall into two types:\n",
    "\n",
    "  - **Agglomerative**: This is a \"bottom-up\" approach: each observation starts in its own cluster, and pairs of clusters are merged as one moves up the hierarchy.\n",
    "  - **Divisive**: This is a \"top-down\" approach: all observations start in one cluster, and splits are performed recursively as one moves down the hierarchy.\n",
    "\n",
    "In general, the merges and splits are determined in a greedy manner. The results of hierarchical clustering are usually presented in a dendrogram. \n",
    "\n",
    "The standard algorithm for hierarchical agglomerative clustering (HAC) has a time complexity of $O(n^3)$ and requires $\\Omega(n^2)$ memory, which makes it too slow for even medium data sets. "
   ]
  },
  {
   "cell_type": "code",
   "execution_count": null,
   "metadata": {},
   "outputs": [],
   "source": []
  },
  {
   "cell_type": "code",
   "execution_count": null,
   "metadata": {},
   "outputs": [],
   "source": []
  },
  {
   "cell_type": "code",
   "execution_count": null,
   "metadata": {},
   "outputs": [],
   "source": []
  },
  {
   "cell_type": "code",
   "execution_count": 17,
   "metadata": {},
   "outputs": [],
   "source": [
    "def plot_dendrogram(model, **kwargs):\n",
    "    # Create linkage matrix and then plot the dendrogram\n",
    "\n",
    "    # create the counts of samples under each node\n",
    "    counts = np.zeros(model.children_.shape[0])\n",
    "    n_samples = len(model.labels_)\n",
    "    for i, merge in enumerate(model.children_):\n",
    "        current_count = 0\n",
    "        for child_idx in merge:\n",
    "            if child_idx < n_samples:\n",
    "                current_count += 1  # leaf node\n",
    "            else:\n",
    "                current_count += counts[child_idx - n_samples]\n",
    "        counts[i] = current_count\n",
    "\n",
    "    linkage_matrix = np.column_stack([model.children_, \n",
    "                                      model.distances_,\n",
    "                                      counts]).astype(float)\n",
    "\n",
    "    # Plot the corresponding dendrogram\n",
    "    dendrogram(linkage_matrix, **kwargs)"
   ]
  },
  {
   "cell_type": "code",
   "execution_count": 18,
   "metadata": {},
   "outputs": [
    {
     "data": {
      "image/png": "[encoded data removed]",
      "text/plain": [
       "<Figure size 1152x648 with 1 Axes>"
      ]
     },
     "metadata": {},
     "output_type": "display_data"
    }
   ],
   "source": [
    "plt.title('Hierarchical Clustering Dendrogram')\n",
    "plt.grid(b=None)\n",
    "#plt.axis('off')\n",
    "# plot the top three levels of the dendrogram\n",
    "plot_dendrogram(model, truncate_mode='level', p=5)\n",
    "plt.xlabel(\"Number of points in node (or index of point if no parenthesis).\")\n",
    "plt.show()"
   ]
  },
  {
   "cell_type": "markdown",
   "metadata": {},
   "source": [
    "## References\n",
    "* [Introduction to Statistical Learning ISL (Chapter 10)](http://faculty.marshall.usc.edu/gareth-james/ISL/ISLR%20Seventh%20Printing.pdf)\n",
    "\n",
    "* [repo from tdpetrou with materials from ISL](https://github.com/tdpetrou/Machine-Learning-Books-With-Python/tree/master/Introduction%20to%20Statistical%20Learning)\n",
    "\n",
    "* This is a video about PCA: https://youtu.be/NEaUSP4YerM\n",
    "\n",
    "* And this one is about the explanation of variance in PCA: https://youtu.be/FgakZw6K1QQ\n",
    "\n",
    "* See this video about k-means: https://www.youtube.com/watch?v=4b5d3muPQmA\n",
    " \n",
    "* See this video for another explanation of DBSCAN https://www.youtube.com/watch?v=sJQHz97sCZ0\n",
    "\n",
    "* Yep, there is a video about hierachical clustering: https://www.youtube.com/watch?v=7xHsRkOdVwo."
   ]
  }
 ],
 "metadata": {
  "kernelspec": {
   "display_name": "Python 3",
   "language": "python",
   "name": "python3"
  },
  "language_info": {
   "codemirror_mode": {
    "name": "ipython",
    "version": 3
   },
   "file_extension": ".py",
   "mimetype": "text/x-python",
   "name": "python",
   "nbconvert_exporter": "python",
   "pygments_lexer": "ipython3",
   "version": "3.9.2"
  },
  "toc": {
   "base_numbering": 1,
   "nav_menu": {
    "height": "145.994px",
    "width": "198.991px"
   },
   "number_sections": true,
   "sideBar": true,
   "skip_h1_title": true,
   "title_cell": "Table of Contents",
   "title_sidebar": "Contents",
   "toc_cell": true,
   "toc_position": {
    "height": "calc(100% - 180px)",
    "left": "10px",
    "top": "150px",
    "width": "216.094px"
   },
   "toc_section_display": true,
   "toc_window_display": true
  },
  "varInspector": {
   "cols": {
    "lenName": 16,
    "lenType": 16,
    "lenVar": 40
   },
   "kernels_config": {
    "python": {
     "delete_cmd_postfix": "",
     "delete_cmd_prefix": "del ",
     "library": "var_list.py",
     "varRefreshCmd": "print(var_dic_list())"
    },
    "r": {
     "delete_cmd_postfix": ") ",
     "delete_cmd_prefix": "rm(",
     "library": "var_list.r",
     "varRefreshCmd": "cat(var_dic_list()) "
    }
   },
   "types_to_exclude": [
    "module",
    "function",
    "builtin_function_or_method",
    "instance",
    "_Feature"
   ],
   "window_display": false
  }
 },
 "nbformat": 4,
 "nbformat_minor": 4
}
