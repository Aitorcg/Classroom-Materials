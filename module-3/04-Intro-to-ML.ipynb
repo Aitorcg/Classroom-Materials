{
 "cells": [
  {
   "cell_type": "markdown",
   "id": "residential-world",
   "metadata": {},
   "source": [
    "# Introducción Machine Learning"
   ]
  },
  {
   "cell_type": "markdown",
   "id": "aerial-american",
   "metadata": {},
   "source": [
    "![elgifderigor](https://media.giphy.com/media/NsBknNwmmWE8WU1q2U/giphy.gif)"
   ]
  },
  {
   "cell_type": "markdown",
   "id": "simple-vault",
   "metadata": {
    "toc": true
   },
   "source": [
    "<h1>Table of Contents<span class=\"tocSkip\"></span></h1>\n",
    "<div class=\"toc\"><ul class=\"toc-item\"><li><span><a href=\"#Algunos-conceptos\" data-toc-modified-id=\"Algunos-conceptos-1\"><span class=\"toc-item-num\">1&nbsp;&nbsp;</span>Algunos conceptos</a></span><ul class=\"toc-item\"><li><span><a href=\"#Estimadores\" data-toc-modified-id=\"Estimadores-1.1\"><span class=\"toc-item-num\">1.1&nbsp;&nbsp;</span>Estimadores</a></span></li><li><span><a href=\"#Error-de-Bias\" data-toc-modified-id=\"Error-de-Bias-1.2\"><span class=\"toc-item-num\">1.2&nbsp;&nbsp;</span>Error de Bias</a></span></li><li><span><a href=\"#Error-de-Varianza\" data-toc-modified-id=\"Error-de-Varianza-1.3\"><span class=\"toc-item-num\">1.3&nbsp;&nbsp;</span>Error de Varianza</a></span></li></ul></li><li><span><a href=\"#Tipos-de-Aprendizaje-Automático\" data-toc-modified-id=\"Tipos-de-Aprendizaje-Automático-2\"><span class=\"toc-item-num\">2&nbsp;&nbsp;</span>Tipos de Aprendizaje Automático</a></span></li><li><span><a href=\"#Features\" data-toc-modified-id=\"Features-3\"><span class=\"toc-item-num\">3&nbsp;&nbsp;</span>Features</a></span></li><li><span><a href=\"#Underfitting-y-Overfitting\" data-toc-modified-id=\"Underfitting-y-Overfitting-4\"><span class=\"toc-item-num\">4&nbsp;&nbsp;</span>Underfitting y Overfitting</a></span></li><li><span><a href=\"#¿Manos-a-la-obra?\" data-toc-modified-id=\"¿Manos-a-la-obra?-5\"><span class=\"toc-item-num\">5&nbsp;&nbsp;</span>¿Manos a la obra?</a></span><ul class=\"toc-item\"><li><span><a href=\"#Practicamos-ML-con-un-ejemplo-de-regresión\" data-toc-modified-id=\"Practicamos-ML-con-un-ejemplo-de-regresión-5.1\"><span class=\"toc-item-num\">5.1&nbsp;&nbsp;</span>Practicamos ML con un ejemplo de regresión</a></span></li><li><span><a href=\"#Cargamos-un-dataset-(aunque-ya-nos-resulta-famliar)\" data-toc-modified-id=\"Cargamos-un-dataset-(aunque-ya-nos-resulta-famliar)-5.2\"><span class=\"toc-item-num\">5.2&nbsp;&nbsp;</span>Cargamos un dataset (aunque ya nos resulta famliar)</a></span></li><li><span><a href=\"#Train-/-Test-Split-¿Esto-qué-es?\" data-toc-modified-id=\"Train-/-Test-Split-¿Esto-qué-es?-5.3\"><span class=\"toc-item-num\">5.3&nbsp;&nbsp;</span>Train / Test Split ¿Esto qué es?</a></span></li><li><span><a href=\"#Preparación-de-los-datos-para-train-test-split\" data-toc-modified-id=\"Preparación-de-los-datos-para-train-test-split-5.4\"><span class=\"toc-item-num\">5.4&nbsp;&nbsp;</span>Preparación de los datos para train test split</a></span></li><li><span><a href=\"#Parámetros-opcionales-del-train-test-split\" data-toc-modified-id=\"Parámetros-opcionales-del-train-test-split-5.5\"><span class=\"toc-item-num\">5.5&nbsp;&nbsp;</span>Parámetros opcionales del train test split</a></span></li><li><span><a href=\"#Ya-tenemos-el-dataset-dividido,-ahora-vamos-a-importar-un-modelo-y-entrenarlo\" data-toc-modified-id=\"Ya-tenemos-el-dataset-dividido,-ahora-vamos-a-importar-un-modelo-y-entrenarlo-5.6\"><span class=\"toc-item-num\">5.6&nbsp;&nbsp;</span>Ya tenemos el dataset dividido, ahora vamos a importar un modelo y entrenarlo</a></span></li><li><span><a href=\"#Creamos-nuestras-predicciones\" data-toc-modified-id=\"Creamos-nuestras-predicciones-5.7\"><span class=\"toc-item-num\">5.7&nbsp;&nbsp;</span>Creamos nuestras predicciones</a></span></li><li><span><a href=\"#Medimos-nuestro-modelo\" data-toc-modified-id=\"Medimos-nuestro-modelo-5.8\"><span class=\"toc-item-num\">5.8&nbsp;&nbsp;</span>Medimos nuestro modelo</a></span></li></ul></li><li><span><a href=\"#Extra!-Entrenando-diferentes-modelos-a-la-vez\" data-toc-modified-id=\"Extra!-Entrenando-diferentes-modelos-a-la-vez-6\"><span class=\"toc-item-num\">6&nbsp;&nbsp;</span>Extra! Entrenando diferentes modelos a la vez</a></span><ul class=\"toc-item\"><li><span><a href=\"#Almacenamos-todos-los-modelos-que-vamos-a-entrenar-en-un-diccionario\" data-toc-modified-id=\"Almacenamos-todos-los-modelos-que-vamos-a-entrenar-en-un-diccionario-6.1\"><span class=\"toc-item-num\">6.1&nbsp;&nbsp;</span>Almacenamos todos los modelos que vamos a entrenar en un diccionario</a></span></li><li><span><a href=\"#Iteramos-sobre-los-modelos-para-entrenarlos\" data-toc-modified-id=\"Iteramos-sobre-los-modelos-para-entrenarlos-6.2\"><span class=\"toc-item-num\">6.2&nbsp;&nbsp;</span>Iteramos sobre los modelos para entrenarlos</a></span></li></ul></li><li><span><a href=\"#Cross-Validation\" data-toc-modified-id=\"Cross-Validation-7\"><span class=\"toc-item-num\">7&nbsp;&nbsp;</span>Cross-Validation</a></span><ul class=\"toc-item\"><li><span><a href=\"#Hacemos-CV-a-un-solo-modelo\" data-toc-modified-id=\"Hacemos-CV-a-un-solo-modelo-7.1\"><span class=\"toc-item-num\">7.1&nbsp;&nbsp;</span>Hacemos CV a un solo modelo</a></span></li><li><span><a href=\"#CV-iterando-por-todos-los-modelos\" data-toc-modified-id=\"CV-iterando-por-todos-los-modelos-7.2\"><span class=\"toc-item-num\">7.2&nbsp;&nbsp;</span>CV iterando por todos los modelos</a></span></li></ul></li><li><span><a href=\"#Summmary\" data-toc-modified-id=\"Summmary-8\"><span class=\"toc-item-num\">8&nbsp;&nbsp;</span>Summmary</a></span></li></ul></div>"
   ]
  },
  {
   "cell_type": "markdown",
   "id": "shaped-pharmaceutical",
   "metadata": {},
   "source": [
    "## Algunos conceptos\n",
    "Para entender cómo un algoritmo de aprendizaje automático aprende de los datos para predecir un resultado, es esencial comprender los conceptos subyacentes que intervienen en el entrenamiento de un algoritmo."
   ]
  },
  {
   "cell_type": "markdown",
   "id": "eastern-aquatic",
   "metadata": {},
   "source": [
    "### Estimadores\n",
    "La estimación es un término estadístico para encontrar alguna estimación de un parámetro desconocido, dados algunos datos. La estimación puntual es el intento de proporcionar la mejor predicción de alguna cantidad de interés.\n",
    "La cantidad de interés puede ser: \n",
    " - Un único parámetro\n",
    " - Un vector de parámetros - por ejemplo, los pesos en la regresión lineal \n",
    " - Una función completa\n",
    "\n",
    "### Error de Bias\n",
    "\n",
    "Es la diferencia entre la predicción esperada de nuestro modelo y los valores verdaderos. Aunque al final nuestro objetivo es siempre construir modelos que puedan predecir datos muy cercanos a los valores verdaderos, no siempre es tan fácil porque algunos algoritmos son simplemente demasiado rígidos para aprender señales complejas del conjunto de datos.\n",
    "\n",
    "Imagina ajustar una regresión lineal a un conjunto de datos que tiene un patrón no lineal, no importa cuántas observaciones más recopiles, una regresión lineal no podrá modelar las curvas en esos datos. Esto se conoce como ajuste insuficiente.\n",
    "\n",
    "En general, los algoritmos paramétricos como la regresión lineal, tienen un alto bias que los hace rápidos de aprender y más fácil de entender, pero generalmente menos flexibles. A su vez, tienen un menor rendimiento predictivo en problemas complejos.\n",
    "\n",
    "### Error de Varianza\n",
    "\n",
    "Se refiere a la cantidad que la estimación de la función objetivo cambiará si se utiliza diferentes datos de entrenamiento. La función objetivo se estima a partir de los datos de entrenamiento mediante un algoritmo de Machine Learning, por lo que deberíamos esperar que el algoritmo tenga alguna variación. Idealmente no debería cambiar demasiado de un conjunto de datos de entrenamiento a otro, lo que significa que el algoritmo es bueno para elegir el mapeo subyacente oculto entre las variables de entrada y de salida.\n",
    "\n",
    "Los algoritmos de Machine Learning que tienen una gran varianza están fuertemente influenciados por los detalles de los datos de entrenamiento, esto significa que los detalles de la capacitación influyen en el número y los tipos de parámetros utilizados para caracterizar la función de mapeo.\n",
    "\n",
    "Generalmente, los algoritmos de Machine Learning no paramétrico que tienen mucha flexibilidad tienen una gran variación.\n",
    "\n",
    "- Varianza baja: sugiere pequeños cambios en la estimación de la función objetivo con cambios en el conjunto de datos de capacitación.\n",
    "- Alta varianza: sugiere grandes cambios en la estimación de la función objetivo con cambios en el conjunto de datos de capacitación.\n",
    "Los algoritmos de Machine Learning con baja varianza incluyen: regresión lineal, análisis discriminante lineal y regresión logística.\n",
    "\n",
    "Por su parte, los algoritmos con alta varianza son: árboles de decisión, k-vecinos más cercanos y máquinas de vectores de soporte."
   ]
  },
  {
   "cell_type": "markdown",
   "id": "polished-intro",
   "metadata": {},
   "source": [
    "## Tipos de Aprendizaje Automático\n",
    "**- Supervisado**      \n",
    "El modelo se entrena con datos etiquetados, es decir, con datos cuya verdad básica se conoce. Cuando se le presentan datos y una etiqueta, el modelo infiere patrones.      \n",
    "**- No supervisado**          \n",
    "No hay verdades básicas. El modelo busca patrones no detectados previamente, con los que separar los distintos puntos de datos en diferentes clusters.\n",
    "**- Refuerzo**    \n",
    "Tampoco existe una verdad de base. La acción del modelo se valora y se da una recompensa o un castigo en consecuencia. El objetivo del modelo es obtener el mayor número de recompensas posible."
   ]
  },
  {
   "cell_type": "markdown",
   "id": "blessed-bobby",
   "metadata": {},
   "source": [
    "## Features\n",
    "Las **Features** son variables individuales independientes que actúan como entrada en su sistema. Los modelos de predicción utilizan características para\n",
    "hacer predicciones.      \n",
    "**Objetivo**        \n",
    "El objetivo es la salida de las variables de entrada. Pueden ser las clases individuales a las que se asignan las variables de entrada en el caso de un problema de clasificación o el rango de valores de salida en un problema de regresión."
   ]
  },
  {
   "cell_type": "markdown",
   "id": "racial-nelson",
   "metadata": {},
   "source": [
    "## Underfitting y Overfitting  \n",
    "Dividir un conjunto de datos también puede ser importante para detectar si su modelo sufre uno de los dos problemas más comunes, denominados infraajuste y sobreajuste:\n",
    "\n",
    "El **underfitting** suele ser la consecuencia de que un modelo sea incapaz de encapsular las relaciones entre los datos. Por ejemplo, esto puede ocurrir cuando se intenta representar relaciones no lineales con un modelo lineal. Los modelos infraajustados probablemente tendrán un rendimiento pobre tanto en los conjuntos de entrenamiento como en los de prueba.\n",
    "\n",
    "El **overfitting** suele tener lugar cuando un modelo tiene una estructura excesivamente compleja y aprende tanto las relaciones existentes entre los datos como el ruido. Estos modelos suelen tener una mala capacidad de generalización. Aunque funcionan bien con los datos de entrenamiento, suelen tener un rendimiento pobre con los datos no vistos (de prueba)."
   ]
  },
  {
   "cell_type": "markdown",
   "id": "varied-apparel",
   "metadata": {},
   "source": [
    "## ¿Manos a la obra?"
   ]
  },
  {
   "cell_type": "markdown",
   "id": "norwegian-jackson",
   "metadata": {},
   "source": [
    "### Practicamos ML con un ejemplo de regresión"
   ]
  },
  {
   "cell_type": "code",
   "execution_count": 9,
   "id": "legitimate-hypothesis",
   "metadata": {},
   "outputs": [],
   "source": [
    "import pandas as pd\n",
    "from sklearn.datasets import load_boston"
   ]
  },
  {
   "cell_type": "markdown",
   "id": "explicit-reconstruction",
   "metadata": {},
   "source": [
    "### Cargamos un dataset (aunque ya nos resulta famliar)"
   ]
  },
  {
   "cell_type": "code",
   "execution_count": 10,
   "id": "respiratory-elite",
   "metadata": {},
   "outputs": [
    {
     "data": {
      "text/html": [
       "<div>\n",
       "<style scoped>\n",
       "    .dataframe tbody tr th:only-of-type {\n",
       "        vertical-align: middle;\n",
       "    }\n",
       "\n",
       "    .dataframe tbody tr th {\n",
       "        vertical-align: top;\n",
       "    }\n",
       "\n",
       "    .dataframe thead th {\n",
       "        text-align: right;\n",
       "    }\n",
       "</style>\n",
       "<table border=\"1\" class=\"dataframe\">\n",
       "  <thead>\n",
       "    <tr style=\"text-align: right;\">\n",
       "      <th></th>\n",
       "      <th>CRIM</th>\n",
       "      <th>ZN</th>\n",
       "      <th>INDUS</th>\n",
       "      <th>CHAS</th>\n",
       "      <th>NOX</th>\n",
       "      <th>RM</th>\n",
       "      <th>AGE</th>\n",
       "      <th>DIS</th>\n",
       "      <th>RAD</th>\n",
       "      <th>TAX</th>\n",
       "      <th>PTRATIO</th>\n",
       "      <th>B</th>\n",
       "      <th>LSTAT</th>\n",
       "      <th>MEDV</th>\n",
       "    </tr>\n",
       "  </thead>\n",
       "  <tbody>\n",
       "    <tr>\n",
       "      <th>0</th>\n",
       "      <td>0.00632</td>\n",
       "      <td>18.0</td>\n",
       "      <td>2.31</td>\n",
       "      <td>0.0</td>\n",
       "      <td>0.538</td>\n",
       "      <td>6.575</td>\n",
       "      <td>65.2</td>\n",
       "      <td>4.0900</td>\n",
       "      <td>1.0</td>\n",
       "      <td>296.0</td>\n",
       "      <td>15.3</td>\n",
       "      <td>396.90</td>\n",
       "      <td>4.98</td>\n",
       "      <td>24.0</td>\n",
       "    </tr>\n",
       "    <tr>\n",
       "      <th>1</th>\n",
       "      <td>0.02731</td>\n",
       "      <td>0.0</td>\n",
       "      <td>7.07</td>\n",
       "      <td>0.0</td>\n",
       "      <td>0.469</td>\n",
       "      <td>6.421</td>\n",
       "      <td>78.9</td>\n",
       "      <td>4.9671</td>\n",
       "      <td>2.0</td>\n",
       "      <td>242.0</td>\n",
       "      <td>17.8</td>\n",
       "      <td>396.90</td>\n",
       "      <td>9.14</td>\n",
       "      <td>21.6</td>\n",
       "    </tr>\n",
       "    <tr>\n",
       "      <th>2</th>\n",
       "      <td>0.02729</td>\n",
       "      <td>0.0</td>\n",
       "      <td>7.07</td>\n",
       "      <td>0.0</td>\n",
       "      <td>0.469</td>\n",
       "      <td>7.185</td>\n",
       "      <td>61.1</td>\n",
       "      <td>4.9671</td>\n",
       "      <td>2.0</td>\n",
       "      <td>242.0</td>\n",
       "      <td>17.8</td>\n",
       "      <td>392.83</td>\n",
       "      <td>4.03</td>\n",
       "      <td>34.7</td>\n",
       "    </tr>\n",
       "    <tr>\n",
       "      <th>3</th>\n",
       "      <td>0.03237</td>\n",
       "      <td>0.0</td>\n",
       "      <td>2.18</td>\n",
       "      <td>0.0</td>\n",
       "      <td>0.458</td>\n",
       "      <td>6.998</td>\n",
       "      <td>45.8</td>\n",
       "      <td>6.0622</td>\n",
       "      <td>3.0</td>\n",
       "      <td>222.0</td>\n",
       "      <td>18.7</td>\n",
       "      <td>394.63</td>\n",
       "      <td>2.94</td>\n",
       "      <td>33.4</td>\n",
       "    </tr>\n",
       "    <tr>\n",
       "      <th>4</th>\n",
       "      <td>0.06905</td>\n",
       "      <td>0.0</td>\n",
       "      <td>2.18</td>\n",
       "      <td>0.0</td>\n",
       "      <td>0.458</td>\n",
       "      <td>7.147</td>\n",
       "      <td>54.2</td>\n",
       "      <td>6.0622</td>\n",
       "      <td>3.0</td>\n",
       "      <td>222.0</td>\n",
       "      <td>18.7</td>\n",
       "      <td>396.90</td>\n",
       "      <td>5.33</td>\n",
       "      <td>36.2</td>\n",
       "    </tr>\n",
       "  </tbody>\n",
       "</table>\n",
       "</div>"
      ],
      "text/plain": [
       "      CRIM    ZN  INDUS  CHAS    NOX     RM   AGE     DIS  RAD    TAX  \\\n",
       "0  0.00632  18.0   2.31   0.0  0.538  6.575  65.2  4.0900  1.0  296.0   \n",
       "1  0.02731   0.0   7.07   0.0  0.469  6.421  78.9  4.9671  2.0  242.0   \n",
       "2  0.02729   0.0   7.07   0.0  0.469  7.185  61.1  4.9671  2.0  242.0   \n",
       "3  0.03237   0.0   2.18   0.0  0.458  6.998  45.8  6.0622  3.0  222.0   \n",
       "4  0.06905   0.0   2.18   0.0  0.458  7.147  54.2  6.0622  3.0  222.0   \n",
       "\n",
       "   PTRATIO       B  LSTAT  MEDV  \n",
       "0     15.3  396.90   4.98  24.0  \n",
       "1     17.8  396.90   9.14  21.6  \n",
       "2     17.8  392.83   4.03  34.7  \n",
       "3     18.7  394.63   2.94  33.4  \n",
       "4     18.7  396.90   5.33  36.2  "
      ]
     },
     "execution_count": 10,
     "metadata": {},
     "output_type": "execute_result"
    }
   ],
   "source": []
  },
  {
   "cell_type": "markdown",
   "id": "center-bacteria",
   "metadata": {},
   "source": [
    "### Train / Test Split ¿Esto qué es?"
   ]
  },
  {
   "cell_type": "markdown",
   "id": "portuguese-ending",
   "metadata": {},
   "source": [
    "![eldibujo](images/traintest.png)"
   ]
  },
  {
   "cell_type": "markdown",
   "id": "equipped-grove",
   "metadata": {},
   "source": [
    "La división entrenamiento-prueba es una técnica para evaluar el rendimiento de un algoritmo de aprendizaje automático.\n",
    "\n",
    "Puede utilizarse para problemas de clasificación o regresión y puede emplearse para cualquier algoritmo de aprendizaje supervisado.\n",
    "\n",
    "El procedimiento consiste en tomar un conjunto de datos y dividirlo en dos subconjuntos. El primer subconjunto se utiliza para ajustar el modelo y se denomina conjunto de datos de entrenamiento. El segundo subconjunto no se utiliza para entrenar el modelo; en su lugar, se proporciona al modelo el elemento de entrada del conjunto de datos, luego se hacen predicciones y se comparan con los valores esperados. Este segundo conjunto de datos se denomina conjunto de datos de prueba.\n",
    "\n",
    "Conjunto de datos de entrenamiento: Se utiliza para ajustar el modelo de aprendizaje automático.\n",
    "Conjunto de datos de prueba: Se utiliza para evaluar el modelo de aprendizaje automático ajustado.\n",
    "El objetivo es estimar el rendimiento del modelo de aprendizaje automático con datos nuevos: datos no utilizados para entrenar el modelo.\n",
    "\n",
    "Así es como esperamos utilizar el modelo en la práctica. Es decir, ajustarlo sobre los datos disponibles con entradas y salidas conocidas, para luego hacer predicciones sobre nuevos ejemplos en el futuro en los que no tenemos los valores de salida u objetivo esperados.\n",
    "\n",
    "El procedimiento de entrenamiento-prueba es adecuado cuando se dispone de un conjunto de datos suficientemente amplio."
   ]
  },
  {
   "cell_type": "markdown",
   "id": "changing-texas",
   "metadata": {},
   "source": [
    "### Preparación de los datos para train test split"
   ]
  },
  {
   "cell_type": "code",
   "execution_count": 11,
   "id": "automatic-adoption",
   "metadata": {},
   "outputs": [
    {
     "data": {
      "text/plain": [
       "Index(['CRIM', 'ZN', 'INDUS', 'CHAS', 'NOX', 'RM', 'AGE', 'DIS', 'RAD', 'TAX',\n",
       "       'PTRATIO', 'B', 'LSTAT', 'MEDV'],\n",
       "      dtype='object')"
      ]
     },
     "execution_count": 11,
     "metadata": {},
     "output_type": "execute_result"
    }
   ],
   "source": []
  },
  {
   "cell_type": "code",
   "execution_count": 12,
   "id": "brilliant-carry",
   "metadata": {},
   "outputs": [
    {
     "data": {
      "text/plain": [
       "['CRIM',\n",
       " 'ZN',\n",
       " 'INDUS',\n",
       " 'CHAS',\n",
       " 'NOX',\n",
       " 'RM',\n",
       " 'AGE',\n",
       " 'DIS',\n",
       " 'RAD',\n",
       " 'TAX',\n",
       " 'PTRATIO',\n",
       " 'B',\n",
       " 'LSTAT']"
      ]
     },
     "execution_count": 12,
     "metadata": {},
     "output_type": "execute_result"
    }
   ],
   "source": []
  },
  {
   "cell_type": "code",
   "execution_count": 13,
   "id": "seasonal-lincoln",
   "metadata": {},
   "outputs": [
    {
     "data": {
      "text/html": [
       "<div>\n",
       "<style scoped>\n",
       "    .dataframe tbody tr th:only-of-type {\n",
       "        vertical-align: middle;\n",
       "    }\n",
       "\n",
       "    .dataframe tbody tr th {\n",
       "        vertical-align: top;\n",
       "    }\n",
       "\n",
       "    .dataframe thead th {\n",
       "        text-align: right;\n",
       "    }\n",
       "</style>\n",
       "<table border=\"1\" class=\"dataframe\">\n",
       "  <thead>\n",
       "    <tr style=\"text-align: right;\">\n",
       "      <th></th>\n",
       "      <th>CRIM</th>\n",
       "      <th>ZN</th>\n",
       "      <th>INDUS</th>\n",
       "      <th>CHAS</th>\n",
       "      <th>NOX</th>\n",
       "      <th>RM</th>\n",
       "      <th>AGE</th>\n",
       "      <th>DIS</th>\n",
       "      <th>RAD</th>\n",
       "      <th>TAX</th>\n",
       "      <th>PTRATIO</th>\n",
       "      <th>B</th>\n",
       "      <th>LSTAT</th>\n",
       "    </tr>\n",
       "  </thead>\n",
       "  <tbody>\n",
       "    <tr>\n",
       "      <th>0</th>\n",
       "      <td>0.00632</td>\n",
       "      <td>18.0</td>\n",
       "      <td>2.31</td>\n",
       "      <td>0.0</td>\n",
       "      <td>0.538</td>\n",
       "      <td>6.575</td>\n",
       "      <td>65.2</td>\n",
       "      <td>4.0900</td>\n",
       "      <td>1.0</td>\n",
       "      <td>296.0</td>\n",
       "      <td>15.3</td>\n",
       "      <td>396.90</td>\n",
       "      <td>4.98</td>\n",
       "    </tr>\n",
       "    <tr>\n",
       "      <th>1</th>\n",
       "      <td>0.02731</td>\n",
       "      <td>0.0</td>\n",
       "      <td>7.07</td>\n",
       "      <td>0.0</td>\n",
       "      <td>0.469</td>\n",
       "      <td>6.421</td>\n",
       "      <td>78.9</td>\n",
       "      <td>4.9671</td>\n",
       "      <td>2.0</td>\n",
       "      <td>242.0</td>\n",
       "      <td>17.8</td>\n",
       "      <td>396.90</td>\n",
       "      <td>9.14</td>\n",
       "    </tr>\n",
       "    <tr>\n",
       "      <th>2</th>\n",
       "      <td>0.02729</td>\n",
       "      <td>0.0</td>\n",
       "      <td>7.07</td>\n",
       "      <td>0.0</td>\n",
       "      <td>0.469</td>\n",
       "      <td>7.185</td>\n",
       "      <td>61.1</td>\n",
       "      <td>4.9671</td>\n",
       "      <td>2.0</td>\n",
       "      <td>242.0</td>\n",
       "      <td>17.8</td>\n",
       "      <td>392.83</td>\n",
       "      <td>4.03</td>\n",
       "    </tr>\n",
       "    <tr>\n",
       "      <th>3</th>\n",
       "      <td>0.03237</td>\n",
       "      <td>0.0</td>\n",
       "      <td>2.18</td>\n",
       "      <td>0.0</td>\n",
       "      <td>0.458</td>\n",
       "      <td>6.998</td>\n",
       "      <td>45.8</td>\n",
       "      <td>6.0622</td>\n",
       "      <td>3.0</td>\n",
       "      <td>222.0</td>\n",
       "      <td>18.7</td>\n",
       "      <td>394.63</td>\n",
       "      <td>2.94</td>\n",
       "    </tr>\n",
       "    <tr>\n",
       "      <th>4</th>\n",
       "      <td>0.06905</td>\n",
       "      <td>0.0</td>\n",
       "      <td>2.18</td>\n",
       "      <td>0.0</td>\n",
       "      <td>0.458</td>\n",
       "      <td>7.147</td>\n",
       "      <td>54.2</td>\n",
       "      <td>6.0622</td>\n",
       "      <td>3.0</td>\n",
       "      <td>222.0</td>\n",
       "      <td>18.7</td>\n",
       "      <td>396.90</td>\n",
       "      <td>5.33</td>\n",
       "    </tr>\n",
       "  </tbody>\n",
       "</table>\n",
       "</div>"
      ],
      "text/plain": [
       "      CRIM    ZN  INDUS  CHAS    NOX     RM   AGE     DIS  RAD    TAX  \\\n",
       "0  0.00632  18.0   2.31   0.0  0.538  6.575  65.2  4.0900  1.0  296.0   \n",
       "1  0.02731   0.0   7.07   0.0  0.469  6.421  78.9  4.9671  2.0  242.0   \n",
       "2  0.02729   0.0   7.07   0.0  0.469  7.185  61.1  4.9671  2.0  242.0   \n",
       "3  0.03237   0.0   2.18   0.0  0.458  6.998  45.8  6.0622  3.0  222.0   \n",
       "4  0.06905   0.0   2.18   0.0  0.458  7.147  54.2  6.0622  3.0  222.0   \n",
       "\n",
       "   PTRATIO       B  LSTAT  \n",
       "0     15.3  396.90   4.98  \n",
       "1     17.8  396.90   9.14  \n",
       "2     17.8  392.83   4.03  \n",
       "3     18.7  394.63   2.94  \n",
       "4     18.7  396.90   5.33  "
      ]
     },
     "execution_count": 13,
     "metadata": {},
     "output_type": "execute_result"
    }
   ],
   "source": []
  },
  {
   "cell_type": "code",
   "execution_count": 14,
   "id": "sealed-realtor",
   "metadata": {},
   "outputs": [
    {
     "data": {
      "text/plain": [
       "0    24.0\n",
       "1    21.6\n",
       "2    34.7\n",
       "3    33.4\n",
       "4    36.2\n",
       "Name: MEDV, dtype: float64"
      ]
     },
     "execution_count": 14,
     "metadata": {},
     "output_type": "execute_result"
    }
   ],
   "source": []
  },
  {
   "cell_type": "code",
   "execution_count": 15,
   "id": "naughty-canberra",
   "metadata": {},
   "outputs": [
    {
     "data": {
      "text/plain": [
       "(506, 13)"
      ]
     },
     "execution_count": 15,
     "metadata": {},
     "output_type": "execute_result"
    }
   ],
   "source": []
  },
  {
   "cell_type": "code",
   "execution_count": 16,
   "id": "continued-dictionary",
   "metadata": {},
   "outputs": [
    {
     "data": {
      "text/plain": [
       "(506,)"
      ]
     },
     "execution_count": 16,
     "metadata": {},
     "output_type": "execute_result"
    }
   ],
   "source": []
  },
  {
   "cell_type": "markdown",
   "id": "friendly-musician",
   "metadata": {},
   "source": [
    "### Parámetros opcionales del train test split\n",
    "\n",
    "**train_size** es el número que define el tamaño del conjunto de entrenamiento. Si proporciona un float, entonces debe estar entre 0.0 y 1.0 y definirá la parte del conjunto de datos utilizado para las pruebas. Si proporciona un int, entonces representará el número total de las muestras de entrenamiento. El valor por defecto es None.\n",
    "\n",
    "**test_size** es el número que define el tamaño del conjunto de pruebas. Es muy similar a train_size. Debe proporcionar o bien train_size o bien test_size. Si no se proporciona ninguno de los dos, la parte por defecto del conjunto de datos que se utilizará para las pruebas es 0,25, o el 25 por ciento.\n",
    "\n",
    "**random_state** es el objeto que controla la aleatoriedad durante la división. Puede ser un int o una instancia de RandomState. El valor por defecto es None."
   ]
  },
  {
   "cell_type": "code",
   "execution_count": 17,
   "id": "private-subdivision",
   "metadata": {},
   "outputs": [],
   "source": []
  },
  {
   "cell_type": "code",
   "execution_count": 18,
   "id": "hybrid-stroke",
   "metadata": {},
   "outputs": [],
   "source": []
  },
  {
   "cell_type": "code",
   "execution_count": 19,
   "id": "flying-alpha",
   "metadata": {},
   "outputs": [
    {
     "data": {
      "text/plain": [
       "(404, 13)"
      ]
     },
     "execution_count": 19,
     "metadata": {},
     "output_type": "execute_result"
    }
   ],
   "source": []
  },
  {
   "cell_type": "code",
   "execution_count": 20,
   "id": "comic-brown",
   "metadata": {},
   "outputs": [
    {
     "data": {
      "text/plain": [
       "(404,)"
      ]
     },
     "execution_count": 20,
     "metadata": {},
     "output_type": "execute_result"
    }
   ],
   "source": []
  },
  {
   "cell_type": "code",
   "execution_count": 21,
   "id": "destroyed-velvet",
   "metadata": {},
   "outputs": [
    {
     "data": {
      "text/plain": [
       "(102, 13)"
      ]
     },
     "execution_count": 21,
     "metadata": {},
     "output_type": "execute_result"
    }
   ],
   "source": []
  },
  {
   "cell_type": "code",
   "execution_count": 22,
   "id": "digital-bradley",
   "metadata": {},
   "outputs": [
    {
     "data": {
      "text/plain": [
       "(102,)"
      ]
     },
     "execution_count": 22,
     "metadata": {},
     "output_type": "execute_result"
    }
   ],
   "source": []
  },
  {
   "cell_type": "markdown",
   "id": "prerequisite-defense",
   "metadata": {},
   "source": [
    "### Ya tenemos el dataset dividido, ahora vamos a importar un modelo y entrenarlo"
   ]
  },
  {
   "cell_type": "code",
   "execution_count": 23,
   "id": "ultimate-tumor",
   "metadata": {},
   "outputs": [],
   "source": [
    "from sklearn.linear_model import LinearRegression"
   ]
  },
  {
   "cell_type": "code",
   "execution_count": 24,
   "id": "manual-salmon",
   "metadata": {},
   "outputs": [],
   "source": [
    "#Creamos el objeto LinearRegression en una variable\n"
   ]
  },
  {
   "cell_type": "code",
   "execution_count": 25,
   "id": "small-sessions",
   "metadata": {},
   "outputs": [
    {
     "data": {
      "text/plain": [
       "LinearRegression()"
      ]
     },
     "execution_count": 25,
     "metadata": {},
     "output_type": "execute_result"
    }
   ],
   "source": [
    "# Entrenamos el modelo"
   ]
  },
  {
   "cell_type": "markdown",
   "id": "coastal-migration",
   "metadata": {},
   "source": [
    "### Creamos nuestras predicciones"
   ]
  },
  {
   "cell_type": "code",
   "execution_count": 26,
   "id": "executed-composite",
   "metadata": {},
   "outputs": [],
   "source": []
  },
  {
   "cell_type": "code",
   "execution_count": 27,
   "id": "noble-producer",
   "metadata": {},
   "outputs": [
    {
     "data": {
      "text/plain": [
       "array([24.39551091, 17.87196982, 19.06737709, 32.70962968, 24.47751211,\n",
       "        0.12131925, 40.59785637, 20.70205984, 22.99589221, 27.2312649 ,\n",
       "       19.81448295, 21.13010404, 30.33145503, 19.75900429, 20.55593619,\n",
       "       12.41306766,  9.08170639, 23.66765111, 17.59613068, 11.15347281,\n",
       "       30.53515659, 27.32327585, 16.97731762, 23.73376986, 29.42941815,\n",
       "       14.13301922, 27.07133108, 35.98815331, 11.52159719, 21.02571942,\n",
       "       23.85776866, 18.32926827, 40.13188714, 18.2702572 ,  7.70142124,\n",
       "       34.61528095, 23.69057478, 19.93604189, 15.67040961, 28.34495952,\n",
       "       17.01267824, 26.00614406, 25.11547308, 22.02996476,  8.93686853,\n",
       "       20.1362399 , 20.09308369, 34.29280098, 34.64326687, -5.15272349,\n",
       "       21.14541073, 18.70634143, 23.59936662, 25.46281724, 23.96488035,\n",
       "       32.70333608, 22.20145531, 18.01165749, 22.41382042, 20.1673544 ,\n",
       "       29.66748308, 38.06802839, 15.80902885, 30.72081441, 27.72491664,\n",
       "       14.64407741, 17.45612542,  4.46243249, 20.26811975, 22.46902209,\n",
       "       15.13053493, 34.75706215, 25.98562243, 14.23718738, 30.89244793,\n",
       "       13.41975293, 20.42586777, 11.0002029 , 23.06137715, 21.26343512,\n",
       "       14.35536474, 21.79631816, 17.36469031, 16.74296442,  2.68090144,\n",
       "       39.0604337 , 27.41899781, 33.17547494, 31.99548874, 13.34114303,\n",
       "       16.47907803, 30.63340235, 38.83308651, 36.18561784, 28.17331345,\n",
       "       25.48859552, 36.79283467, 23.53895905, 19.58473428, 31.13873818,\n",
       "        8.54412809, 11.73423368])"
      ]
     },
     "execution_count": 27,
     "metadata": {},
     "output_type": "execute_result"
    }
   ],
   "source": []
  },
  {
   "cell_type": "code",
   "execution_count": 42,
   "id": "premier-actor",
   "metadata": {},
   "outputs": [],
   "source": []
  },
  {
   "cell_type": "code",
   "execution_count": 43,
   "id": "sweet-requirement",
   "metadata": {},
   "outputs": [
    {
     "data": {
      "text/html": [
       "<div>\n",
       "<style scoped>\n",
       "    .dataframe tbody tr th:only-of-type {\n",
       "        vertical-align: middle;\n",
       "    }\n",
       "\n",
       "    .dataframe tbody tr th {\n",
       "        vertical-align: top;\n",
       "    }\n",
       "\n",
       "    .dataframe thead th {\n",
       "        text-align: right;\n",
       "    }\n",
       "</style>\n",
       "<table border=\"1\" class=\"dataframe\">\n",
       "  <thead>\n",
       "    <tr style=\"text-align: right;\">\n",
       "      <th></th>\n",
       "      <th>CRIM</th>\n",
       "      <th>ZN</th>\n",
       "      <th>INDUS</th>\n",
       "      <th>CHAS</th>\n",
       "      <th>NOX</th>\n",
       "      <th>RM</th>\n",
       "      <th>AGE</th>\n",
       "      <th>DIS</th>\n",
       "      <th>RAD</th>\n",
       "      <th>TAX</th>\n",
       "      <th>PTRATIO</th>\n",
       "      <th>B</th>\n",
       "      <th>LSTAT</th>\n",
       "    </tr>\n",
       "  </thead>\n",
       "  <tbody>\n",
       "    <tr>\n",
       "      <th>504</th>\n",
       "      <td>0.10959</td>\n",
       "      <td>0.0</td>\n",
       "      <td>11.93</td>\n",
       "      <td>0.0</td>\n",
       "      <td>0.573</td>\n",
       "      <td>6.794</td>\n",
       "      <td>89.3</td>\n",
       "      <td>2.3889</td>\n",
       "      <td>1.0</td>\n",
       "      <td>273.0</td>\n",
       "      <td>21.0</td>\n",
       "      <td>393.45</td>\n",
       "      <td>6.48</td>\n",
       "    </tr>\n",
       "  </tbody>\n",
       "</table>\n",
       "</div>"
      ],
      "text/plain": [
       "        CRIM   ZN  INDUS  CHAS    NOX     RM   AGE     DIS  RAD    TAX  \\\n",
       "504  0.10959  0.0  11.93   0.0  0.573  6.794  89.3  2.3889  1.0  273.0   \n",
       "\n",
       "     PTRATIO       B  LSTAT  \n",
       "504     21.0  393.45   6.48  "
      ]
     },
     "execution_count": 43,
     "metadata": {},
     "output_type": "execute_result"
    }
   ],
   "source": []
  },
  {
   "cell_type": "code",
   "execution_count": 44,
   "id": "verified-intent",
   "metadata": {},
   "outputs": [],
   "source": []
  },
  {
   "cell_type": "code",
   "execution_count": 45,
   "id": "adult-crazy",
   "metadata": {},
   "outputs": [
    {
     "data": {
      "text/plain": [
       "array([26.32769856])"
      ]
     },
     "execution_count": 45,
     "metadata": {},
     "output_type": "execute_result"
    }
   ],
   "source": []
  },
  {
   "cell_type": "markdown",
   "id": "mediterranean-imaging",
   "metadata": {},
   "source": [
    "### Medimos nuestro modelo"
   ]
  },
  {
   "cell_type": "code",
   "execution_count": 29,
   "id": "treated-remedy",
   "metadata": {},
   "outputs": [],
   "source": [
    "from sklearn import metrics\n",
    "import numpy as np"
   ]
  },
  {
   "cell_type": "code",
   "execution_count": 30,
   "id": "ordered-nickel",
   "metadata": {},
   "outputs": [
    {
     "name": "stdout",
     "output_type": "stream",
     "text": [
      "MAE:  3.347978454677325\n",
      "MSE:  21.15963306388053\n",
      "RMSE:  4.599960115466278\n",
      "R2:  0.7732798511834158\n"
     ]
    }
   ],
   "source": []
  },
  {
   "cell_type": "markdown",
   "id": "frank-banking",
   "metadata": {},
   "source": [
    "## Extra! Entrenando diferentes modelos a la vez"
   ]
  },
  {
   "cell_type": "code",
   "execution_count": 31,
   "id": "designed-stomach",
   "metadata": {},
   "outputs": [],
   "source": [
    "from sklearn.linear_model import Ridge, Lasso\n",
    "from sklearn.linear_model import SGDRegressor\n",
    "from sklearn.neighbors import KNeighborsRegressor\n",
    "from sklearn.ensemble import GradientBoostingRegressor"
   ]
  },
  {
   "cell_type": "markdown",
   "id": "wrapped-momentum",
   "metadata": {},
   "source": [
    "### Almacenamos todos los modelos que vamos a entrenar en un diccionario"
   ]
  },
  {
   "cell_type": "code",
   "execution_count": 32,
   "id": "former-exchange",
   "metadata": {},
   "outputs": [],
   "source": []
  },
  {
   "cell_type": "markdown",
   "id": "ultimate-pierce",
   "metadata": {},
   "source": [
    "### Iteramos sobre los modelos para entrenarlos"
   ]
  },
  {
   "cell_type": "code",
   "execution_count": 33,
   "id": "rising-cambridge",
   "metadata": {},
   "outputs": [
    {
     "name": "stdout",
     "output_type": "stream",
     "text": [
      "Entrenando modelo ---> ridge\n",
      "He acabado :)\n",
      "Entrenando modelo ---> lasso\n",
      "He acabado :)\n",
      "Entrenando modelo ---> sgd\n",
      "He acabado :)\n",
      "Entrenando modelo ---> knn\n",
      "He acabado :)\n",
      "Entrenando modelo ---> gradient\n",
      "He acabado :)\n"
     ]
    }
   ],
   "source": []
  },
  {
   "cell_type": "code",
   "execution_count": 34,
   "id": "bigger-novel",
   "metadata": {},
   "outputs": [
    {
     "name": "stdout",
     "output_type": "stream",
     "text": [
      "--------ridge--------\n",
      "MAE:  3.2911858757504766\n",
      "MSE:  20.503048294345632\n",
      "RMSE:  4.528029184352242\n",
      "R2:  0.7803149919257077\n",
      "\n",
      "\n",
      "--------lasso--------\n",
      "MAE:  3.705454846528147\n",
      "MSE:  25.450836048546346\n",
      "RMSE:  5.044882163990191\n",
      "R2:  0.7273006899971877\n",
      "\n",
      "\n",
      "--------sgd--------\n",
      "MAE:  32304762143521.324\n",
      "MSE:  2.0097756151343049e+27\n",
      "RMSE:  44830521022338.17\n",
      "R2:  -2.153424046511454e+25\n",
      "\n",
      "\n",
      "--------knn--------\n",
      "MAE:  4.75764705882353\n",
      "MSE:  49.48955294117648\n",
      "RMSE:  7.034881160416036\n",
      "R2:  0.46973188174785707\n",
      "\n",
      "\n",
      "--------gradient--------\n",
      "MAE:  2.2015213559550197\n",
      "MSE:  8.137666978399045\n",
      "RMSE:  2.852659632413065\n",
      "R2:  0.9128069441094514\n",
      "\n",
      "\n"
     ]
    }
   ],
   "source": [
    "#Podemos seguir el mismo proceso para realizar predicciones de cada algoritmo y sacar métricas\n"
   ]
  }
 ],
 "metadata": {
  "kernelspec": {
   "display_name": "ironhack",
   "language": "python",
   "name": "ironhack"
  },
  "language_info": {
   "codemirror_mode": {
    "name": "ipython",
    "version": 3
   },
   "file_extension": ".py",
   "mimetype": "text/x-python",
   "name": "python",
   "nbconvert_exporter": "python",
   "pygments_lexer": "ipython3",
   "version": "3.8.5"
  },
  "toc": {
   "base_numbering": 1,
   "nav_menu": {},
   "number_sections": true,
   "sideBar": true,
   "skip_h1_title": true,
   "title_cell": "Table of Contents",
   "title_sidebar": "Contents",
   "toc_cell": true,
   "toc_position": {
    "height": "calc(100% - 180px)",
    "left": "10px",
    "top": "150px",
    "width": "288px"
   },
   "toc_section_display": true,
   "toc_window_display": false
  }
 },
 "nbformat": 4,
 "nbformat_minor": 5
}
