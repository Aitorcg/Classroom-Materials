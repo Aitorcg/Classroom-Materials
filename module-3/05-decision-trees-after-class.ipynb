{
 "cells": [
  {
   "cell_type": "code",
   "execution_count": 1,
   "metadata": {},
   "outputs": [
    {
     "data": {
      "text/html": [
       "<style>.container { width:90% !important; }</style>"
      ],
      "text/plain": [
       "<IPython.core.display.HTML object>"
      ]
     },
     "metadata": {},
     "output_type": "display_data"
    },
    {
     "data": {
      "text/html": [
       "<style>.output_result { max-width:100% !important; }</style>"
      ],
      "text/plain": [
       "<IPython.core.display.HTML object>"
      ]
     },
     "metadata": {},
     "output_type": "display_data"
    },
    {
     "data": {
      "text/html": [
       "<style>.prompt { display:none !important; }</style>"
      ],
      "text/plain": [
       "<IPython.core.display.HTML object>"
      ]
     },
     "metadata": {},
     "output_type": "display_data"
    }
   ],
   "source": [
    "from IPython.core.display import display, HTML\n",
    "display(HTML(\"<style>.container { width:90% !important; }</style>\"))\n",
    "display(HTML(\"<style>.output_result { max-width:100% !important; }</style>\"))\n",
    "display(HTML(\"<style>.prompt { display:none !important; }</style>\"))"
   ]
  },
  {
   "cell_type": "markdown",
   "metadata": {},
   "source": [
    "# Decision trees"
   ]
  },
  {
   "cell_type": "markdown",
   "metadata": {
    "toc": true
   },
   "source": [
    "<h1>Table of Contents<span class=\"tocSkip\"></span></h1>\n",
    "<div class=\"toc\"><ul class=\"toc-item\"><li><span><a href=\"#Intro\" data-toc-modified-id=\"Intro-1\"><span class=\"toc-item-num\">1&nbsp;&nbsp;</span>Intro</a></span></li><li><span><a href=\"#The-problem\" data-toc-modified-id=\"The-problem-2\"><span class=\"toc-item-num\">2&nbsp;&nbsp;</span>The problem</a></span></li><li><span><a href=\"#Data-exploration\" data-toc-modified-id=\"Data-exploration-3\"><span class=\"toc-item-num\">3&nbsp;&nbsp;</span>Data exploration</a></span></li><li><span><a href=\"#Train-test-splitting\" data-toc-modified-id=\"Train-test-splitting-4\"><span class=\"toc-item-num\">4&nbsp;&nbsp;</span>Train test splitting</a></span></li><li><span><a href=\"#Models\" data-toc-modified-id=\"Models-5\"><span class=\"toc-item-num\">5&nbsp;&nbsp;</span>Models</a></span><ul class=\"toc-item\"><li><span><a href=\"#Baseline-model\" data-toc-modified-id=\"Baseline-model-5.1\"><span class=\"toc-item-num\">5.1&nbsp;&nbsp;</span>Baseline model</a></span></li><li><span><a href=\"#Simple-tree-(depth=1)\" data-toc-modified-id=\"Simple-tree-(depth=1)-5.2\"><span class=\"toc-item-num\">5.2&nbsp;&nbsp;</span>Simple tree (depth=1)</a></span></li><li><span><a href=\"#Bigger-tree-(depth=3)\" data-toc-modified-id=\"Bigger-tree-(depth=3)-5.3\"><span class=\"toc-item-num\">5.3&nbsp;&nbsp;</span>Bigger tree (depth=3)</a></span></li><li><span><a href=\"#Huge-tree-(depth=20)\" data-toc-modified-id=\"Huge-tree-(depth=20)-5.4\"><span class=\"toc-item-num\">5.4&nbsp;&nbsp;</span>Huge tree (depth=20)</a></span></li><li><span><a href=\"#Overfitting\" data-toc-modified-id=\"Overfitting-5.5\"><span class=\"toc-item-num\">5.5&nbsp;&nbsp;</span>Overfitting</a></span></li><li><span><a href=\"#Other-hyperparameters\" data-toc-modified-id=\"Other-hyperparameters-5.6\"><span class=\"toc-item-num\">5.6&nbsp;&nbsp;</span>Other hyperparameters</a></span></li><li><span><a href=\"#Grid-search\" data-toc-modified-id=\"Grid-search-5.7\"><span class=\"toc-item-num\">5.7&nbsp;&nbsp;</span>Grid search</a></span></li></ul></li><li><span><a href=\"#Feature-importance\" data-toc-modified-id=\"Feature-importance-6\"><span class=\"toc-item-num\">6&nbsp;&nbsp;</span>Feature importance</a></span></li><li><span><a href=\"#Summary\" data-toc-modified-id=\"Summary-7\"><span class=\"toc-item-num\">7&nbsp;&nbsp;</span>Summary</a></span></li></ul></div>"
   ]
  },
  {
   "cell_type": "code",
   "execution_count": 2,
   "metadata": {},
   "outputs": [],
   "source": [
    "import pandas as pd\n",
    "import numpy as np\n",
    "\n",
    "import seaborn as sns\n",
    "import matplotlib.pyplot as plt"
   ]
  },
  {
   "cell_type": "markdown",
   "metadata": {},
   "source": [
    "# Introduction"
   ]
  },
  {
   "cell_type": "markdown",
   "metadata": {},
   "source": [
    "As an example, do you remember the Titanic dataset? We are going to create a predictor of who will die following a decision tree. A decision tree tries to predict the value \"Survived\" (as a Yes/No) using the following approach:"
   ]
  },
  {
   "cell_type": "markdown",
   "metadata": {},
   "source": [
    "<img src=\"https://www.researchgate.net/profile/Joop_Hox/publication/317307818/figure/fig2/AS:633029202571264@1527937331016/Decision-tree-on-Titanic-survival-data-Source-https-en_Q640.jpg\" width=300>"
   ]
  },
  {
   "cell_type": "markdown",
   "metadata": {},
   "source": [
    "Decision trees:\n",
    " * are used **both** for regression and classification,\n",
    " * involve stratifying (segmenting) the prediction stage,\n",
    " * act an iterative manner,\n",
    " * have this name because splitting rules are represented in a tree.\n",
    " * work really well with non-linear data."
   ]
  },
  {
   "cell_type": "markdown",
   "metadata": {},
   "source": [
    "Addiionally, decision trees:\n",
    " * are simple\n",
    " * are useful for interpretation\n",
    " * alone, are not very powerful predictors but...\n",
    " * ...give rise to more complex models, like Random Forest or Gradient Boosted Trees algorithms."
   ]
  },
  {
   "cell_type": "markdown",
   "metadata": {},
   "source": [
    "# The problem"
   ]
  },
  {
   "cell_type": "markdown",
   "metadata": {},
   "source": [
    "Today we will be using a **white wine** dataset. Experts have rated several wines, whose physical properties are also given."
   ]
  },
  {
   "cell_type": "code",
   "execution_count": 3,
   "metadata": {},
   "outputs": [],
   "source": [
    "df = pd.read_csv(\"../data/wine_quality.csv\")"
   ]
  },
  {
   "cell_type": "code",
   "execution_count": 4,
   "metadata": {},
   "outputs": [
    {
     "data": {
      "text/html": [
       "<div>\n",
       "<style scoped>\n",
       "    .dataframe tbody tr th:only-of-type {\n",
       "        vertical-align: middle;\n",
       "    }\n",
       "\n",
       "    .dataframe tbody tr th {\n",
       "        vertical-align: top;\n",
       "    }\n",
       "\n",
       "    .dataframe thead th {\n",
       "        text-align: right;\n",
       "    }\n",
       "</style>\n",
       "<table border=\"1\" class=\"dataframe\">\n",
       "  <thead>\n",
       "    <tr style=\"text-align: right;\">\n",
       "      <th></th>\n",
       "      <th>fixed acidity</th>\n",
       "      <th>volatile acidity</th>\n",
       "      <th>citric acid</th>\n",
       "      <th>residual sugar</th>\n",
       "      <th>chlorides</th>\n",
       "      <th>free sulfur dioxide</th>\n",
       "      <th>total sulfur dioxide</th>\n",
       "      <th>density</th>\n",
       "      <th>pH</th>\n",
       "      <th>sulphates</th>\n",
       "      <th>alcohol</th>\n",
       "      <th>quality</th>\n",
       "    </tr>\n",
       "  </thead>\n",
       "  <tbody>\n",
       "    <tr>\n",
       "      <th>0</th>\n",
       "      <td>7.0</td>\n",
       "      <td>0.27</td>\n",
       "      <td>0.36</td>\n",
       "      <td>20.7</td>\n",
       "      <td>0.045</td>\n",
       "      <td>45.0</td>\n",
       "      <td>170.0</td>\n",
       "      <td>1.00100</td>\n",
       "      <td>3.00</td>\n",
       "      <td>0.45</td>\n",
       "      <td>8.8</td>\n",
       "      <td>6</td>\n",
       "    </tr>\n",
       "    <tr>\n",
       "      <th>1</th>\n",
       "      <td>6.3</td>\n",
       "      <td>0.30</td>\n",
       "      <td>0.34</td>\n",
       "      <td>1.6</td>\n",
       "      <td>0.049</td>\n",
       "      <td>14.0</td>\n",
       "      <td>132.0</td>\n",
       "      <td>0.99400</td>\n",
       "      <td>3.30</td>\n",
       "      <td>0.49</td>\n",
       "      <td>9.5</td>\n",
       "      <td>6</td>\n",
       "    </tr>\n",
       "    <tr>\n",
       "      <th>2</th>\n",
       "      <td>8.1</td>\n",
       "      <td>0.28</td>\n",
       "      <td>0.40</td>\n",
       "      <td>6.9</td>\n",
       "      <td>0.050</td>\n",
       "      <td>30.0</td>\n",
       "      <td>97.0</td>\n",
       "      <td>0.99510</td>\n",
       "      <td>3.26</td>\n",
       "      <td>0.44</td>\n",
       "      <td>10.1</td>\n",
       "      <td>6</td>\n",
       "    </tr>\n",
       "    <tr>\n",
       "      <th>3</th>\n",
       "      <td>7.2</td>\n",
       "      <td>0.23</td>\n",
       "      <td>0.32</td>\n",
       "      <td>8.5</td>\n",
       "      <td>0.058</td>\n",
       "      <td>47.0</td>\n",
       "      <td>186.0</td>\n",
       "      <td>0.99560</td>\n",
       "      <td>3.19</td>\n",
       "      <td>0.40</td>\n",
       "      <td>9.9</td>\n",
       "      <td>6</td>\n",
       "    </tr>\n",
       "    <tr>\n",
       "      <th>4</th>\n",
       "      <td>7.2</td>\n",
       "      <td>0.23</td>\n",
       "      <td>0.32</td>\n",
       "      <td>8.5</td>\n",
       "      <td>0.058</td>\n",
       "      <td>47.0</td>\n",
       "      <td>186.0</td>\n",
       "      <td>0.99560</td>\n",
       "      <td>3.19</td>\n",
       "      <td>0.40</td>\n",
       "      <td>9.9</td>\n",
       "      <td>6</td>\n",
       "    </tr>\n",
       "    <tr>\n",
       "      <th>...</th>\n",
       "      <td>...</td>\n",
       "      <td>...</td>\n",
       "      <td>...</td>\n",
       "      <td>...</td>\n",
       "      <td>...</td>\n",
       "      <td>...</td>\n",
       "      <td>...</td>\n",
       "      <td>...</td>\n",
       "      <td>...</td>\n",
       "      <td>...</td>\n",
       "      <td>...</td>\n",
       "      <td>...</td>\n",
       "    </tr>\n",
       "    <tr>\n",
       "      <th>4893</th>\n",
       "      <td>6.2</td>\n",
       "      <td>0.21</td>\n",
       "      <td>0.29</td>\n",
       "      <td>1.6</td>\n",
       "      <td>0.039</td>\n",
       "      <td>24.0</td>\n",
       "      <td>92.0</td>\n",
       "      <td>0.99114</td>\n",
       "      <td>3.27</td>\n",
       "      <td>0.50</td>\n",
       "      <td>11.2</td>\n",
       "      <td>6</td>\n",
       "    </tr>\n",
       "    <tr>\n",
       "      <th>4894</th>\n",
       "      <td>6.6</td>\n",
       "      <td>0.32</td>\n",
       "      <td>0.36</td>\n",
       "      <td>8.0</td>\n",
       "      <td>0.047</td>\n",
       "      <td>57.0</td>\n",
       "      <td>168.0</td>\n",
       "      <td>0.99490</td>\n",
       "      <td>3.15</td>\n",
       "      <td>0.46</td>\n",
       "      <td>9.6</td>\n",
       "      <td>5</td>\n",
       "    </tr>\n",
       "    <tr>\n",
       "      <th>4895</th>\n",
       "      <td>6.5</td>\n",
       "      <td>0.24</td>\n",
       "      <td>0.19</td>\n",
       "      <td>1.2</td>\n",
       "      <td>0.041</td>\n",
       "      <td>30.0</td>\n",
       "      <td>111.0</td>\n",
       "      <td>0.99254</td>\n",
       "      <td>2.99</td>\n",
       "      <td>0.46</td>\n",
       "      <td>9.4</td>\n",
       "      <td>6</td>\n",
       "    </tr>\n",
       "    <tr>\n",
       "      <th>4896</th>\n",
       "      <td>5.5</td>\n",
       "      <td>0.29</td>\n",
       "      <td>0.30</td>\n",
       "      <td>1.1</td>\n",
       "      <td>0.022</td>\n",
       "      <td>20.0</td>\n",
       "      <td>110.0</td>\n",
       "      <td>0.98869</td>\n",
       "      <td>3.34</td>\n",
       "      <td>0.38</td>\n",
       "      <td>12.8</td>\n",
       "      <td>7</td>\n",
       "    </tr>\n",
       "    <tr>\n",
       "      <th>4897</th>\n",
       "      <td>6.0</td>\n",
       "      <td>0.21</td>\n",
       "      <td>0.38</td>\n",
       "      <td>0.8</td>\n",
       "      <td>0.020</td>\n",
       "      <td>22.0</td>\n",
       "      <td>98.0</td>\n",
       "      <td>0.98941</td>\n",
       "      <td>3.26</td>\n",
       "      <td>0.32</td>\n",
       "      <td>11.8</td>\n",
       "      <td>6</td>\n",
       "    </tr>\n",
       "  </tbody>\n",
       "</table>\n",
       "<p>4898 rows × 12 columns</p>\n",
       "</div>"
      ],
      "text/plain": [
       "      fixed acidity  volatile acidity  citric acid  residual sugar  chlorides  \\\n",
       "0               7.0              0.27         0.36            20.7      0.045   \n",
       "1               6.3              0.30         0.34             1.6      0.049   \n",
       "2               8.1              0.28         0.40             6.9      0.050   \n",
       "3               7.2              0.23         0.32             8.5      0.058   \n",
       "4               7.2              0.23         0.32             8.5      0.058   \n",
       "...             ...               ...          ...             ...        ...   \n",
       "4893            6.2              0.21         0.29             1.6      0.039   \n",
       "4894            6.6              0.32         0.36             8.0      0.047   \n",
       "4895            6.5              0.24         0.19             1.2      0.041   \n",
       "4896            5.5              0.29         0.30             1.1      0.022   \n",
       "4897            6.0              0.21         0.38             0.8      0.020   \n",
       "\n",
       "      free sulfur dioxide  total sulfur dioxide  density    pH  sulphates  \\\n",
       "0                    45.0                 170.0  1.00100  3.00       0.45   \n",
       "1                    14.0                 132.0  0.99400  3.30       0.49   \n",
       "2                    30.0                  97.0  0.99510  3.26       0.44   \n",
       "3                    47.0                 186.0  0.99560  3.19       0.40   \n",
       "4                    47.0                 186.0  0.99560  3.19       0.40   \n",
       "...                   ...                   ...      ...   ...        ...   \n",
       "4893                 24.0                  92.0  0.99114  3.27       0.50   \n",
       "4894                 57.0                 168.0  0.99490  3.15       0.46   \n",
       "4895                 30.0                 111.0  0.99254  2.99       0.46   \n",
       "4896                 20.0                 110.0  0.98869  3.34       0.38   \n",
       "4897                 22.0                  98.0  0.98941  3.26       0.32   \n",
       "\n",
       "      alcohol  quality  \n",
       "0         8.8        6  \n",
       "1         9.5        6  \n",
       "2        10.1        6  \n",
       "3         9.9        6  \n",
       "4         9.9        6  \n",
       "...       ...      ...  \n",
       "4893     11.2        6  \n",
       "4894      9.6        5  \n",
       "4895      9.4        6  \n",
       "4896     12.8        7  \n",
       "4897     11.8        6  \n",
       "\n",
       "[4898 rows x 12 columns]"
      ]
     },
     "execution_count": 4,
     "metadata": {},
     "output_type": "execute_result"
    }
   ],
   "source": [
    "df"
   ]
  },
  {
   "cell_type": "markdown",
   "metadata": {},
   "source": [
    "## What do we want to do?\n",
    " * predict the quality of the wine base on the other properties.\n",
    " \n",
    "To do that, we are going to:\n",
    " * build a **supervised** learning model...\n",
    " * ...which is a **regression** model (predict quantitative feature) and...\n",
    " * ...that tries to predict wine `quality` from its physical properties"
   ]
  },
  {
   "cell_type": "markdown",
   "metadata": {},
   "source": [
    "We will do train-test splitting for correct asessment of model performance.\n",
    "\n",
    "We will use MSE metric: Mean Squared Error $$MSE=\\frac{1}{N}\\sum(\\hat{y} - y)^2$$"
   ]
  },
  {
   "cell_type": "code",
   "execution_count": 5,
   "metadata": {},
   "outputs": [],
   "source": [
    "from sklearn.metrics import mean_squared_error"
   ]
  },
  {
   "cell_type": "markdown",
   "metadata": {},
   "source": [
    "To study which model is the best, we will:\n",
    " * try several models and...\n",
    " * ...keep the one with the **least** MSE on **test set** (i.e., the least test error)\n",
    " * ...we will show what happens with training error."
   ]
  },
  {
   "cell_type": "markdown",
   "metadata": {},
   "source": [
    "## Data exploration"
   ]
  },
  {
   "cell_type": "code",
   "execution_count": 7,
   "metadata": {},
   "outputs": [
    {
     "data": {
      "text/plain": [
       "Index(['fixed acidity', 'volatile acidity', 'citric acid', 'residual sugar',\n",
       "       'chlorides', 'free sulfur dioxide', 'total sulfur dioxide', 'density',\n",
       "       'pH', 'sulphates', 'alcohol', 'quality'],\n",
       "      dtype='object')"
      ]
     },
     "execution_count": 7,
     "metadata": {},
     "output_type": "execute_result"
    }
   ],
   "source": [
    "df.columns"
   ]
  },
  {
   "cell_type": "code",
   "execution_count": 8,
   "metadata": {},
   "outputs": [
    {
     "data": {
      "text/plain": [
       "<AxesSubplot:xlabel='quality', ylabel='count'>"
      ]
     },
     "execution_count": 8,
     "metadata": {},
     "output_type": "execute_result"
    },
    {
     "data": {
      "image/png": "[encoded data removed]",
      "text/plain": [
       "<Figure size 432x288 with 1 Axes>"
      ]
     },
     "metadata": {
      "needs_background": "light"
     },
     "output_type": "display_data"
    }
   ],
   "source": [
    "sns.countplot(x=df.quality, palette='Blues')"
   ]
  },
  {
   "cell_type": "code",
   "execution_count": 9,
   "metadata": {},
   "outputs": [
    {
     "data": {
      "text/html": [
       "<div>\n",
       "<style scoped>\n",
       "    .dataframe tbody tr th:only-of-type {\n",
       "        vertical-align: middle;\n",
       "    }\n",
       "\n",
       "    .dataframe tbody tr th {\n",
       "        vertical-align: top;\n",
       "    }\n",
       "\n",
       "    .dataframe thead th {\n",
       "        text-align: right;\n",
       "    }\n",
       "</style>\n",
       "<table border=\"1\" class=\"dataframe\">\n",
       "  <thead>\n",
       "    <tr style=\"text-align: right;\">\n",
       "      <th></th>\n",
       "      <th>fixed acidity</th>\n",
       "      <th>volatile acidity</th>\n",
       "      <th>citric acid</th>\n",
       "      <th>residual sugar</th>\n",
       "      <th>chlorides</th>\n",
       "      <th>free sulfur dioxide</th>\n",
       "      <th>total sulfur dioxide</th>\n",
       "      <th>density</th>\n",
       "      <th>pH</th>\n",
       "      <th>sulphates</th>\n",
       "      <th>alcohol</th>\n",
       "      <th>quality</th>\n",
       "    </tr>\n",
       "  </thead>\n",
       "  <tbody>\n",
       "    <tr>\n",
       "      <th>count</th>\n",
       "      <td>4898.000000</td>\n",
       "      <td>4898.000000</td>\n",
       "      <td>4898.000000</td>\n",
       "      <td>4898.000000</td>\n",
       "      <td>4898.000000</td>\n",
       "      <td>4898.000000</td>\n",
       "      <td>4898.000000</td>\n",
       "      <td>4898.000000</td>\n",
       "      <td>4898.000000</td>\n",
       "      <td>4898.000000</td>\n",
       "      <td>4898.000000</td>\n",
       "      <td>4898.000000</td>\n",
       "    </tr>\n",
       "    <tr>\n",
       "      <th>mean</th>\n",
       "      <td>6.854788</td>\n",
       "      <td>0.278241</td>\n",
       "      <td>0.334192</td>\n",
       "      <td>6.391415</td>\n",
       "      <td>0.045772</td>\n",
       "      <td>35.308085</td>\n",
       "      <td>138.360657</td>\n",
       "      <td>0.994027</td>\n",
       "      <td>3.188267</td>\n",
       "      <td>0.489847</td>\n",
       "      <td>10.514267</td>\n",
       "      <td>5.877909</td>\n",
       "    </tr>\n",
       "    <tr>\n",
       "      <th>std</th>\n",
       "      <td>0.843868</td>\n",
       "      <td>0.100795</td>\n",
       "      <td>0.121020</td>\n",
       "      <td>5.072058</td>\n",
       "      <td>0.021848</td>\n",
       "      <td>17.007137</td>\n",
       "      <td>42.498065</td>\n",
       "      <td>0.002991</td>\n",
       "      <td>0.151001</td>\n",
       "      <td>0.114126</td>\n",
       "      <td>1.230621</td>\n",
       "      <td>0.885639</td>\n",
       "    </tr>\n",
       "    <tr>\n",
       "      <th>min</th>\n",
       "      <td>3.800000</td>\n",
       "      <td>0.080000</td>\n",
       "      <td>0.000000</td>\n",
       "      <td>0.600000</td>\n",
       "      <td>0.009000</td>\n",
       "      <td>2.000000</td>\n",
       "      <td>9.000000</td>\n",
       "      <td>0.987110</td>\n",
       "      <td>2.720000</td>\n",
       "      <td>0.220000</td>\n",
       "      <td>8.000000</td>\n",
       "      <td>3.000000</td>\n",
       "    </tr>\n",
       "    <tr>\n",
       "      <th>25%</th>\n",
       "      <td>6.300000</td>\n",
       "      <td>0.210000</td>\n",
       "      <td>0.270000</td>\n",
       "      <td>1.700000</td>\n",
       "      <td>0.036000</td>\n",
       "      <td>23.000000</td>\n",
       "      <td>108.000000</td>\n",
       "      <td>0.991723</td>\n",
       "      <td>3.090000</td>\n",
       "      <td>0.410000</td>\n",
       "      <td>9.500000</td>\n",
       "      <td>5.000000</td>\n",
       "    </tr>\n",
       "    <tr>\n",
       "      <th>50%</th>\n",
       "      <td>6.800000</td>\n",
       "      <td>0.260000</td>\n",
       "      <td>0.320000</td>\n",
       "      <td>5.200000</td>\n",
       "      <td>0.043000</td>\n",
       "      <td>34.000000</td>\n",
       "      <td>134.000000</td>\n",
       "      <td>0.993740</td>\n",
       "      <td>3.180000</td>\n",
       "      <td>0.470000</td>\n",
       "      <td>10.400000</td>\n",
       "      <td>6.000000</td>\n",
       "    </tr>\n",
       "    <tr>\n",
       "      <th>75%</th>\n",
       "      <td>7.300000</td>\n",
       "      <td>0.320000</td>\n",
       "      <td>0.390000</td>\n",
       "      <td>9.900000</td>\n",
       "      <td>0.050000</td>\n",
       "      <td>46.000000</td>\n",
       "      <td>167.000000</td>\n",
       "      <td>0.996100</td>\n",
       "      <td>3.280000</td>\n",
       "      <td>0.550000</td>\n",
       "      <td>11.400000</td>\n",
       "      <td>6.000000</td>\n",
       "    </tr>\n",
       "    <tr>\n",
       "      <th>max</th>\n",
       "      <td>14.200000</td>\n",
       "      <td>1.100000</td>\n",
       "      <td>1.660000</td>\n",
       "      <td>65.800000</td>\n",
       "      <td>0.346000</td>\n",
       "      <td>289.000000</td>\n",
       "      <td>440.000000</td>\n",
       "      <td>1.038980</td>\n",
       "      <td>3.820000</td>\n",
       "      <td>1.080000</td>\n",
       "      <td>14.200000</td>\n",
       "      <td>9.000000</td>\n",
       "    </tr>\n",
       "  </tbody>\n",
       "</table>\n",
       "</div>"
      ],
      "text/plain": [
       "       fixed acidity  volatile acidity  citric acid  residual sugar  \\\n",
       "count    4898.000000       4898.000000  4898.000000     4898.000000   \n",
       "mean        6.854788          0.278241     0.334192        6.391415   \n",
       "std         0.843868          0.100795     0.121020        5.072058   \n",
       "min         3.800000          0.080000     0.000000        0.600000   \n",
       "25%         6.300000          0.210000     0.270000        1.700000   \n",
       "50%         6.800000          0.260000     0.320000        5.200000   \n",
       "75%         7.300000          0.320000     0.390000        9.900000   \n",
       "max        14.200000          1.100000     1.660000       65.800000   \n",
       "\n",
       "         chlorides  free sulfur dioxide  total sulfur dioxide      density  \\\n",
       "count  4898.000000          4898.000000           4898.000000  4898.000000   \n",
       "mean      0.045772            35.308085            138.360657     0.994027   \n",
       "std       0.021848            17.007137             42.498065     0.002991   \n",
       "min       0.009000             2.000000              9.000000     0.987110   \n",
       "25%       0.036000            23.000000            108.000000     0.991723   \n",
       "50%       0.043000            34.000000            134.000000     0.993740   \n",
       "75%       0.050000            46.000000            167.000000     0.996100   \n",
       "max       0.346000           289.000000            440.000000     1.038980   \n",
       "\n",
       "                pH    sulphates      alcohol      quality  \n",
       "count  4898.000000  4898.000000  4898.000000  4898.000000  \n",
       "mean      3.188267     0.489847    10.514267     5.877909  \n",
       "std       0.151001     0.114126     1.230621     0.885639  \n",
       "min       2.720000     0.220000     8.000000     3.000000  \n",
       "25%       3.090000     0.410000     9.500000     5.000000  \n",
       "50%       3.180000     0.470000    10.400000     6.000000  \n",
       "75%       3.280000     0.550000    11.400000     6.000000  \n",
       "max       3.820000     1.080000    14.200000     9.000000  "
      ]
     },
     "execution_count": 9,
     "metadata": {},
     "output_type": "execute_result"
    }
   ],
   "source": [
    "df.describe()"
   ]
  },
  {
   "cell_type": "code",
   "execution_count": 15,
   "metadata": {},
   "outputs": [
    {
     "data": {
      "text/plain": [
       "12"
      ]
     },
     "execution_count": 15,
     "metadata": {},
     "output_type": "execute_result"
    }
   ],
   "source": [
    "len(df.columns)"
   ]
  },
  {
   "cell_type": "code",
   "execution_count": 12,
   "metadata": {},
   "outputs": [
    {
     "data": {
      "text/plain": [
       "fixed acidity           0\n",
       "volatile acidity        0\n",
       "citric acid             0\n",
       "residual sugar          0\n",
       "chlorides               0\n",
       "free sulfur dioxide     0\n",
       "total sulfur dioxide    0\n",
       "density                 0\n",
       "pH                      0\n",
       "sulphates               0\n",
       "alcohol                 0\n",
       "quality                 0\n",
       "dtype: int64"
      ]
     },
     "execution_count": 12,
     "metadata": {},
     "output_type": "execute_result"
    }
   ],
   "source": [
    "# Importante\n",
    "# Los decision trees no pueden ser entrenados con datos faltantes (NaNs - None - Null)\n",
    "\n",
    "df.isna().sum()\n",
    "\n",
    "# si todas las columnas suman 0, quiere decir que no falta ningún dato."
   ]
  },
  {
   "cell_type": "markdown",
   "metadata": {},
   "source": [
    "## Train-test splitting"
   ]
  },
  {
   "cell_type": "markdown",
   "metadata": {},
   "source": [
    "Supervised machine learning is about creating models that accurately map the given **inputs** to the given **outputs**.\n",
    "\n",
    "What’s most important to understand is that you usually need, assess the predictive performance of your model, and validate the model.\n",
    "\n",
    "Because you need unbiased evaluation to properly use these models, it means that you can’t evaluate the predictive performance of a model with the same data you used for training. \n",
    "It's like studying a few pages from a book and just taking the test for those pages, when you should take the test for the whole book.\n",
    "\n",
    "You need evaluate the model with fresh data that hasn’t been seen by the model before. You can accomplish that by splitting your dataset before you use it."
   ]
  },
  {
   "cell_type": "code",
   "execution_count": 16,
   "metadata": {},
   "outputs": [],
   "source": [
    "from sklearn.model_selection import train_test_split"
   ]
  },
  {
   "cell_type": "code",
   "execution_count": 20,
   "metadata": {},
   "outputs": [],
   "source": [
    "# Cojo las variables independientes: coger todas las columnas menos la \"objetivo\" (quality)\n",
    "X = df.drop(\"quality\", axis=1)\n",
    "\n",
    "# Cojo la variable quality solamente\n",
    "y = df['quality']"
   ]
  },
  {
   "cell_type": "code",
   "execution_count": 21,
   "metadata": {},
   "outputs": [
    {
     "data": {
      "text/html": [
       "<div>\n",
       "<style scoped>\n",
       "    .dataframe tbody tr th:only-of-type {\n",
       "        vertical-align: middle;\n",
       "    }\n",
       "\n",
       "    .dataframe tbody tr th {\n",
       "        vertical-align: top;\n",
       "    }\n",
       "\n",
       "    .dataframe thead th {\n",
       "        text-align: right;\n",
       "    }\n",
       "</style>\n",
       "<table border=\"1\" class=\"dataframe\">\n",
       "  <thead>\n",
       "    <tr style=\"text-align: right;\">\n",
       "      <th></th>\n",
       "      <th>fixed acidity</th>\n",
       "      <th>volatile acidity</th>\n",
       "      <th>citric acid</th>\n",
       "      <th>residual sugar</th>\n",
       "      <th>chlorides</th>\n",
       "      <th>free sulfur dioxide</th>\n",
       "      <th>total sulfur dioxide</th>\n",
       "      <th>density</th>\n",
       "      <th>pH</th>\n",
       "      <th>sulphates</th>\n",
       "      <th>alcohol</th>\n",
       "    </tr>\n",
       "  </thead>\n",
       "  <tbody>\n",
       "    <tr>\n",
       "      <th>0</th>\n",
       "      <td>7.0</td>\n",
       "      <td>0.27</td>\n",
       "      <td>0.36</td>\n",
       "      <td>20.7</td>\n",
       "      <td>0.045</td>\n",
       "      <td>45.0</td>\n",
       "      <td>170.0</td>\n",
       "      <td>1.00100</td>\n",
       "      <td>3.00</td>\n",
       "      <td>0.45</td>\n",
       "      <td>8.8</td>\n",
       "    </tr>\n",
       "    <tr>\n",
       "      <th>1</th>\n",
       "      <td>6.3</td>\n",
       "      <td>0.30</td>\n",
       "      <td>0.34</td>\n",
       "      <td>1.6</td>\n",
       "      <td>0.049</td>\n",
       "      <td>14.0</td>\n",
       "      <td>132.0</td>\n",
       "      <td>0.99400</td>\n",
       "      <td>3.30</td>\n",
       "      <td>0.49</td>\n",
       "      <td>9.5</td>\n",
       "    </tr>\n",
       "    <tr>\n",
       "      <th>2</th>\n",
       "      <td>8.1</td>\n",
       "      <td>0.28</td>\n",
       "      <td>0.40</td>\n",
       "      <td>6.9</td>\n",
       "      <td>0.050</td>\n",
       "      <td>30.0</td>\n",
       "      <td>97.0</td>\n",
       "      <td>0.99510</td>\n",
       "      <td>3.26</td>\n",
       "      <td>0.44</td>\n",
       "      <td>10.1</td>\n",
       "    </tr>\n",
       "    <tr>\n",
       "      <th>3</th>\n",
       "      <td>7.2</td>\n",
       "      <td>0.23</td>\n",
       "      <td>0.32</td>\n",
       "      <td>8.5</td>\n",
       "      <td>0.058</td>\n",
       "      <td>47.0</td>\n",
       "      <td>186.0</td>\n",
       "      <td>0.99560</td>\n",
       "      <td>3.19</td>\n",
       "      <td>0.40</td>\n",
       "      <td>9.9</td>\n",
       "    </tr>\n",
       "    <tr>\n",
       "      <th>4</th>\n",
       "      <td>7.2</td>\n",
       "      <td>0.23</td>\n",
       "      <td>0.32</td>\n",
       "      <td>8.5</td>\n",
       "      <td>0.058</td>\n",
       "      <td>47.0</td>\n",
       "      <td>186.0</td>\n",
       "      <td>0.99560</td>\n",
       "      <td>3.19</td>\n",
       "      <td>0.40</td>\n",
       "      <td>9.9</td>\n",
       "    </tr>\n",
       "    <tr>\n",
       "      <th>...</th>\n",
       "      <td>...</td>\n",
       "      <td>...</td>\n",
       "      <td>...</td>\n",
       "      <td>...</td>\n",
       "      <td>...</td>\n",
       "      <td>...</td>\n",
       "      <td>...</td>\n",
       "      <td>...</td>\n",
       "      <td>...</td>\n",
       "      <td>...</td>\n",
       "      <td>...</td>\n",
       "    </tr>\n",
       "    <tr>\n",
       "      <th>4893</th>\n",
       "      <td>6.2</td>\n",
       "      <td>0.21</td>\n",
       "      <td>0.29</td>\n",
       "      <td>1.6</td>\n",
       "      <td>0.039</td>\n",
       "      <td>24.0</td>\n",
       "      <td>92.0</td>\n",
       "      <td>0.99114</td>\n",
       "      <td>3.27</td>\n",
       "      <td>0.50</td>\n",
       "      <td>11.2</td>\n",
       "    </tr>\n",
       "    <tr>\n",
       "      <th>4894</th>\n",
       "      <td>6.6</td>\n",
       "      <td>0.32</td>\n",
       "      <td>0.36</td>\n",
       "      <td>8.0</td>\n",
       "      <td>0.047</td>\n",
       "      <td>57.0</td>\n",
       "      <td>168.0</td>\n",
       "      <td>0.99490</td>\n",
       "      <td>3.15</td>\n",
       "      <td>0.46</td>\n",
       "      <td>9.6</td>\n",
       "    </tr>\n",
       "    <tr>\n",
       "      <th>4895</th>\n",
       "      <td>6.5</td>\n",
       "      <td>0.24</td>\n",
       "      <td>0.19</td>\n",
       "      <td>1.2</td>\n",
       "      <td>0.041</td>\n",
       "      <td>30.0</td>\n",
       "      <td>111.0</td>\n",
       "      <td>0.99254</td>\n",
       "      <td>2.99</td>\n",
       "      <td>0.46</td>\n",
       "      <td>9.4</td>\n",
       "    </tr>\n",
       "    <tr>\n",
       "      <th>4896</th>\n",
       "      <td>5.5</td>\n",
       "      <td>0.29</td>\n",
       "      <td>0.30</td>\n",
       "      <td>1.1</td>\n",
       "      <td>0.022</td>\n",
       "      <td>20.0</td>\n",
       "      <td>110.0</td>\n",
       "      <td>0.98869</td>\n",
       "      <td>3.34</td>\n",
       "      <td>0.38</td>\n",
       "      <td>12.8</td>\n",
       "    </tr>\n",
       "    <tr>\n",
       "      <th>4897</th>\n",
       "      <td>6.0</td>\n",
       "      <td>0.21</td>\n",
       "      <td>0.38</td>\n",
       "      <td>0.8</td>\n",
       "      <td>0.020</td>\n",
       "      <td>22.0</td>\n",
       "      <td>98.0</td>\n",
       "      <td>0.98941</td>\n",
       "      <td>3.26</td>\n",
       "      <td>0.32</td>\n",
       "      <td>11.8</td>\n",
       "    </tr>\n",
       "  </tbody>\n",
       "</table>\n",
       "<p>4898 rows × 11 columns</p>\n",
       "</div>"
      ],
      "text/plain": [
       "      fixed acidity  volatile acidity  citric acid  residual sugar  chlorides  \\\n",
       "0               7.0              0.27         0.36            20.7      0.045   \n",
       "1               6.3              0.30         0.34             1.6      0.049   \n",
       "2               8.1              0.28         0.40             6.9      0.050   \n",
       "3               7.2              0.23         0.32             8.5      0.058   \n",
       "4               7.2              0.23         0.32             8.5      0.058   \n",
       "...             ...               ...          ...             ...        ...   \n",
       "4893            6.2              0.21         0.29             1.6      0.039   \n",
       "4894            6.6              0.32         0.36             8.0      0.047   \n",
       "4895            6.5              0.24         0.19             1.2      0.041   \n",
       "4896            5.5              0.29         0.30             1.1      0.022   \n",
       "4897            6.0              0.21         0.38             0.8      0.020   \n",
       "\n",
       "      free sulfur dioxide  total sulfur dioxide  density    pH  sulphates  \\\n",
       "0                    45.0                 170.0  1.00100  3.00       0.45   \n",
       "1                    14.0                 132.0  0.99400  3.30       0.49   \n",
       "2                    30.0                  97.0  0.99510  3.26       0.44   \n",
       "3                    47.0                 186.0  0.99560  3.19       0.40   \n",
       "4                    47.0                 186.0  0.99560  3.19       0.40   \n",
       "...                   ...                   ...      ...   ...        ...   \n",
       "4893                 24.0                  92.0  0.99114  3.27       0.50   \n",
       "4894                 57.0                 168.0  0.99490  3.15       0.46   \n",
       "4895                 30.0                 111.0  0.99254  2.99       0.46   \n",
       "4896                 20.0                 110.0  0.98869  3.34       0.38   \n",
       "4897                 22.0                  98.0  0.98941  3.26       0.32   \n",
       "\n",
       "      alcohol  \n",
       "0         8.8  \n",
       "1         9.5  \n",
       "2        10.1  \n",
       "3         9.9  \n",
       "4         9.9  \n",
       "...       ...  \n",
       "4893     11.2  \n",
       "4894      9.6  \n",
       "4895      9.4  \n",
       "4896     12.8  \n",
       "4897     11.8  \n",
       "\n",
       "[4898 rows x 11 columns]"
      ]
     },
     "execution_count": 21,
     "metadata": {},
     "output_type": "execute_result"
    }
   ],
   "source": [
    "# las variables que uso para predecir la calidad del vino\n",
    "X"
   ]
  },
  {
   "cell_type": "code",
   "execution_count": 22,
   "metadata": {},
   "outputs": [
    {
     "data": {
      "text/plain": [
       "0       6\n",
       "1       6\n",
       "2       6\n",
       "3       6\n",
       "4       6\n",
       "       ..\n",
       "4893    6\n",
       "4894    5\n",
       "4895    6\n",
       "4896    7\n",
       "4897    6\n",
       "Name: quality, Length: 4898, dtype: int64"
      ]
     },
     "execution_count": 22,
     "metadata": {},
     "output_type": "execute_result"
    }
   ],
   "source": [
    "# la variable que quiero predecir (mi target/output)\n",
    "y"
   ]
  },
  {
   "cell_type": "code",
   "execution_count": 25,
   "metadata": {},
   "outputs": [],
   "source": [
    "X_train, X_test, y_train, y_test = train_test_split(X, y, test_size=0.2, random_state=666)"
   ]
  },
  {
   "cell_type": "code",
   "execution_count": 27,
   "metadata": {},
   "outputs": [
    {
     "data": {
      "text/plain": [
       "(3918, 11)"
      ]
     },
     "execution_count": 27,
     "metadata": {},
     "output_type": "execute_result"
    }
   ],
   "source": [
    "X_train.shape"
   ]
  },
  {
   "cell_type": "code",
   "execution_count": 28,
   "metadata": {},
   "outputs": [
    {
     "data": {
      "text/plain": [
       "(980, 11)"
      ]
     },
     "execution_count": 28,
     "metadata": {},
     "output_type": "execute_result"
    }
   ],
   "source": [
    "X_test.shape"
   ]
  },
  {
   "cell_type": "code",
   "execution_count": 29,
   "metadata": {},
   "outputs": [
    {
     "data": {
      "text/plain": [
       "(3918,)"
      ]
     },
     "execution_count": 29,
     "metadata": {},
     "output_type": "execute_result"
    }
   ],
   "source": [
    "y_train.shape"
   ]
  },
  {
   "cell_type": "code",
   "execution_count": 30,
   "metadata": {},
   "outputs": [
    {
     "data": {
      "text/plain": [
       "(980,)"
      ]
     },
     "execution_count": 30,
     "metadata": {},
     "output_type": "execute_result"
    }
   ],
   "source": [
    "y_test.shape"
   ]
  },
  {
   "cell_type": "code",
   "execution_count": 31,
   "metadata": {},
   "outputs": [
    {
     "data": {
      "text/plain": [
       "367     6\n",
       "1939    5\n",
       "3475    6\n",
       "4630    7\n",
       "209     6\n",
       "       ..\n",
       "1452    6\n",
       "2993    7\n",
       "295     6\n",
       "37      6\n",
       "1666    5\n",
       "Name: quality, Length: 980, dtype: int64"
      ]
     },
     "execution_count": 31,
     "metadata": {},
     "output_type": "execute_result"
    }
   ],
   "source": [
    "y_test"
   ]
  },
  {
   "cell_type": "markdown",
   "metadata": {},
   "source": [
    "## Models"
   ]
  },
  {
   "cell_type": "markdown",
   "metadata": {},
   "source": [
    "We need to create several models to see which one is the best. And how do we know \"the best\"? We compare the models to a *baseline* case."
   ]
  },
  {
   "cell_type": "markdown",
   "metadata": {},
   "source": [
    "We will change the maximum depth of a tree to explore different models"
   ]
  },
  {
   "cell_type": "markdown",
   "metadata": {},
   "source": [
    "### Baseline model"
   ]
  },
  {
   "cell_type": "markdown",
   "metadata": {},
   "source": [
    "The baseline model is predicting **just** the mean, to ask the question: \"Can we do better than the average value?\""
   ]
  },
  {
   "cell_type": "code",
   "execution_count": 32,
   "metadata": {},
   "outputs": [
    {
     "data": {
      "text/plain": [
       "5.8894844308320575"
      ]
     },
     "execution_count": 32,
     "metadata": {},
     "output_type": "execute_result"
    }
   ],
   "source": [
    "baseline = y_train.mean()\n",
    "baseline"
   ]
  },
  {
   "cell_type": "markdown",
   "metadata": {},
   "source": [
    "Train error"
   ]
  },
  {
   "cell_type": "code",
   "execution_count": 33,
   "metadata": {},
   "outputs": [
    {
     "data": {
      "text/plain": [
       "0.7782406223967026"
      ]
     },
     "execution_count": 33,
     "metadata": {},
     "output_type": "execute_result"
    }
   ],
   "source": [
    "((y_train - baseline) ** 2).mean()"
   ]
  },
  {
   "cell_type": "markdown",
   "metadata": {},
   "source": [
    "Test error"
   ]
  },
  {
   "cell_type": "code",
   "execution_count": 35,
   "metadata": {},
   "outputs": [
    {
     "data": {
      "text/plain": [
       "0.8086727340637989"
      ]
     },
     "execution_count": 35,
     "metadata": {},
     "output_type": "execute_result"
    }
   ],
   "source": [
    "((y_test - baseline) ** 2).mean()"
   ]
  },
  {
   "cell_type": "markdown",
   "metadata": {},
   "source": [
    "### Simple tree (depth=1)"
   ]
  },
  {
   "cell_type": "code",
   "execution_count": 39,
   "metadata": {},
   "outputs": [],
   "source": [
    "from sklearn.tree import DecisionTreeRegressor, DecisionTreeClassifier\n",
    "# Solo usamos DecisionTreeRegressor, porque nuestra variable 'quality' es numérica;\n",
    "# si fuese categórica, usaríamos DecisionTreeClassifier."
   ]
  },
  {
   "cell_type": "code",
   "execution_count": 41,
   "metadata": {},
   "outputs": [],
   "source": [
    "model = DecisionTreeRegressor(max_depth=1)"
   ]
  },
  {
   "cell_type": "code",
   "execution_count": 43,
   "metadata": {},
   "outputs": [
    {
     "data": {
      "text/plain": [
       "DecisionTreeRegressor(max_depth=1)"
      ]
     },
     "execution_count": 43,
     "metadata": {},
     "output_type": "execute_result"
    }
   ],
   "source": [
    "model.fit(X=X_train, y=y_train)"
   ]
  },
  {
   "cell_type": "code",
   "execution_count": 45,
   "metadata": {},
   "outputs": [
    {
     "data": {
      "text/plain": [
       "0.6511398839609709"
      ]
     },
     "execution_count": 45,
     "metadata": {},
     "output_type": "execute_result"
    }
   ],
   "source": [
    "# Train error\n",
    "\n",
    "# comparacion de los valores que debería predecir (y_true) con respecto \n",
    "# a lo que está prediciendo (y_pred)\n",
    "\n",
    "mean_squared_error(\n",
    "    y_true=y_train, \n",
    "    y_pred=model.predict(X_train)\n",
    ")"
   ]
  },
  {
   "cell_type": "code",
   "execution_count": 46,
   "metadata": {},
   "outputs": [
    {
     "data": {
      "text/plain": [
       "0.685559553685101"
      ]
     },
     "execution_count": 46,
     "metadata": {},
     "output_type": "execute_result"
    }
   ],
   "source": [
    "# Test error\n",
    "\n",
    "mean_squared_error(\n",
    "    y_true=y_test, \n",
    "    y_pred=model.predict(X_test)\n",
    ")"
   ]
  },
  {
   "cell_type": "code",
   "execution_count": 47,
   "metadata": {},
   "outputs": [],
   "source": [
    "from sklearn.tree import plot_tree"
   ]
  },
  {
   "cell_type": "code",
   "execution_count": 50,
   "metadata": {},
   "outputs": [
    {
     "data": {
      "image/png": "[encoded data removed]",
      "text/plain": [
       "<Figure size 720x432 with 1 Axes>"
      ]
     },
     "metadata": {
      "needs_background": "light"
     },
     "output_type": "display_data"
    }
   ],
   "source": [
    "fig = plt.figure(figsize=(10,6))\n",
    "\n",
    "# en feature_names cojo todas las columnas menos la \n",
    "# última (quality) que es la que quiero predecir\n",
    "plot_tree(model, feature_names=df.columns[:-1], filled=True);"
   ]
  },
  {
   "cell_type": "code",
   "execution_count": 52,
   "metadata": {},
   "outputs": [
    {
     "data": {
      "text/plain": [
       "(3918, 11)"
      ]
     },
     "execution_count": 52,
     "metadata": {},
     "output_type": "execute_result"
    }
   ],
   "source": [
    "X_train.shape"
   ]
  },
  {
   "cell_type": "markdown",
   "metadata": {},
   "source": [
    "### Bigger tree (depth=3)"
   ]
  },
  {
   "cell_type": "code",
   "execution_count": 53,
   "metadata": {},
   "outputs": [],
   "source": [
    "model = DecisionTreeRegressor(max_depth=3)"
   ]
  },
  {
   "cell_type": "code",
   "execution_count": 54,
   "metadata": {},
   "outputs": [
    {
     "data": {
      "text/plain": [
       "DecisionTreeRegressor(max_depth=3)"
      ]
     },
     "execution_count": 54,
     "metadata": {},
     "output_type": "execute_result"
    }
   ],
   "source": [
    "model.fit(X_train, y_train)"
   ]
  },
  {
   "cell_type": "code",
   "execution_count": 55,
   "metadata": {},
   "outputs": [
    {
     "data": {
      "text/plain": [
       "0.5598058565365571"
      ]
     },
     "execution_count": 55,
     "metadata": {},
     "output_type": "execute_result"
    }
   ],
   "source": [
    "# Train error\n",
    "\n",
    "mean_squared_error(\n",
    "    y_true=y_train, \n",
    "    y_pred=model.predict(X_train)\n",
    ")\n",
    "\n",
    "# valor anterior (max_depth=1): 0.6511398839609709"
   ]
  },
  {
   "cell_type": "code",
   "execution_count": 56,
   "metadata": {},
   "outputs": [
    {
     "data": {
      "text/plain": [
       "0.5831944046394488"
      ]
     },
     "execution_count": 56,
     "metadata": {},
     "output_type": "execute_result"
    }
   ],
   "source": [
    "# Test error\n",
    "\n",
    "mean_squared_error(\n",
    "    y_true=y_test, \n",
    "    y_pred=model.predict(X_test)\n",
    ")\n",
    "\n",
    "# valor anterior (max_depth=1): 0.685559553685101"
   ]
  },
  {
   "cell_type": "code",
   "execution_count": 62,
   "metadata": {},
   "outputs": [
    {
     "data": {
      "image/png": "[encoded data removed]",
      "text/plain": [
       "<Figure size 1800x1440 with 1 Axes>"
      ]
     },
     "metadata": {
      "needs_background": "light"
     },
     "output_type": "display_data"
    }
   ],
   "source": [
    "fig = plt.figure(figsize=(25,20))\n",
    "plot_tree(model, feature_names=df.columns[:-1], filled=True);"
   ]
  },
  {
   "cell_type": "code",
   "execution_count": null,
   "metadata": {},
   "outputs": [],
   "source": [
    "# en cada cajita, aparece una \"variable\" llamada VALUE, \n",
    "# que en nuestro caso, representa la calidad del vino."
   ]
  },
  {
   "cell_type": "code",
   "execution_count": null,
   "metadata": {},
   "outputs": [],
   "source": [
    "# level 0: alcohol <= 10.85\n",
    "# level 1: volatile acidity <= 0.242        free sulfur dioxide <= 11.5\n",
    "# level 2: volatile acidity <= 0.207   free sulfur dioxide <= 11.5      citric acid ... alcoho"
   ]
  },
  {
   "cell_type": "markdown",
   "metadata": {},
   "source": [
    "### Huge tree (depth=20)"
   ]
  },
  {
   "cell_type": "code",
   "execution_count": 63,
   "metadata": {},
   "outputs": [],
   "source": [
    "model = DecisionTreeRegressor(max_depth=20)"
   ]
  },
  {
   "cell_type": "code",
   "execution_count": 64,
   "metadata": {},
   "outputs": [
    {
     "data": {
      "text/plain": [
       "DecisionTreeRegressor(max_depth=20)"
      ]
     },
     "execution_count": 64,
     "metadata": {},
     "output_type": "execute_result"
    }
   ],
   "source": [
    "model.fit(X_train, y_train)"
   ]
  },
  {
   "cell_type": "code",
   "execution_count": 66,
   "metadata": {},
   "outputs": [
    {
     "data": {
      "text/plain": [
       "0.004910610155920119"
      ]
     },
     "execution_count": 66,
     "metadata": {},
     "output_type": "execute_result"
    }
   ],
   "source": [
    "# train error \n",
    "mean_squared_error(\n",
    "    y_true = y_train,\n",
    "    y_pred = model.predict(X_train)\n",
    ")"
   ]
  },
  {
   "cell_type": "code",
   "execution_count": 67,
   "metadata": {},
   "outputs": [
    {
     "data": {
      "text/plain": [
       "0.714701990730418"
      ]
     },
     "execution_count": 67,
     "metadata": {},
     "output_type": "execute_result"
    }
   ],
   "source": [
    "# test error \n",
    "mean_squared_error(\n",
    "    y_true = y_test,\n",
    "    y_pred = model.predict(X_test)\n",
    ")"
   ]
  },
  {
   "cell_type": "markdown",
   "metadata": {},
   "source": [
    "**Something happened?**"
   ]
  },
  {
   "cell_type": "markdown",
   "metadata": {},
   "source": [
    "El error del conjunto de datos de entrenamiento ha bajado (bastante) pero el error del conjunto de datos de testeo (con el que compruebo si el modelo predice bien) no ha bajado.\n",
    "\n",
    "Esto quiere decir que el modelo está aprendiendo a hacer solamente lo que hay en los datos de entrenamiento."
   ]
  },
  {
   "cell_type": "code",
   "execution_count": null,
   "metadata": {},
   "outputs": [],
   "source": [
    "fig = plt.figure(figsize=(25,20))\n",
    "\n",
    "plot_tree(model, feature_names=df.columns[:-1], filled=True);"
   ]
  },
  {
   "cell_type": "code",
   "execution_count": null,
   "metadata": {},
   "outputs": [],
   "source": [
    "fig.savefig(\"decision_tree.svg\", facecolor=\"white\")"
   ]
  },
  {
   "cell_type": "markdown",
   "metadata": {},
   "source": [
    "### Overfitting"
   ]
  },
  {
   "cell_type": "markdown",
   "metadata": {},
   "source": [
    "Lets see how training and test error changes with `max_depth`"
   ]
  },
  {
   "cell_type": "code",
   "execution_count": 69,
   "metadata": {},
   "outputs": [],
   "source": [
    "# va a almacenar los resultados de crear los arboles\n",
    "results = []\n",
    "\n",
    "# creamos arboles con profundidad desde 1 hasta 20\n",
    "for depth in range(1, 21):\n",
    "    \n",
    "    # creamos el arbol de decision con la profundidad del bucle for (depth)\n",
    "    model = DecisionTreeRegressor(max_depth=depth)\n",
    "    # ajustando los datos de entrenamiento al modelo que hemos creado\n",
    "    model.fit(X_train, y_train)\n",
    "    \n",
    "    # creo un diccionario para para guardar los datos\n",
    "    result = {\n",
    "        'depth': depth,\n",
    "        'train_error': mean_squared_error(y_train, model.predict(X_train)), \n",
    "        'test_error':  mean_squared_error(y_test, model.predict(X_test))\n",
    "    }\n",
    "    \n",
    "    # almaceno los datos que acabo de calcular en la variable del principio\n",
    "    results.append(result)"
   ]
  },
  {
   "cell_type": "code",
   "execution_count": 70,
   "metadata": {},
   "outputs": [
    {
     "data": {
      "text/html": [
       "<div>\n",
       "<style scoped>\n",
       "    .dataframe tbody tr th:only-of-type {\n",
       "        vertical-align: middle;\n",
       "    }\n",
       "\n",
       "    .dataframe tbody tr th {\n",
       "        vertical-align: top;\n",
       "    }\n",
       "\n",
       "    .dataframe thead th {\n",
       "        text-align: right;\n",
       "    }\n",
       "</style>\n",
       "<table border=\"1\" class=\"dataframe\">\n",
       "  <thead>\n",
       "    <tr style=\"text-align: right;\">\n",
       "      <th></th>\n",
       "      <th>depth</th>\n",
       "      <th>train_error</th>\n",
       "      <th>test_error</th>\n",
       "    </tr>\n",
       "  </thead>\n",
       "  <tbody>\n",
       "    <tr>\n",
       "      <th>0</th>\n",
       "      <td>1</td>\n",
       "      <td>0.651140</td>\n",
       "      <td>0.685560</td>\n",
       "    </tr>\n",
       "    <tr>\n",
       "      <th>1</th>\n",
       "      <td>2</td>\n",
       "      <td>0.590774</td>\n",
       "      <td>0.615895</td>\n",
       "    </tr>\n",
       "    <tr>\n",
       "      <th>2</th>\n",
       "      <td>3</td>\n",
       "      <td>0.559806</td>\n",
       "      <td>0.583194</td>\n",
       "    </tr>\n",
       "    <tr>\n",
       "      <th>3</th>\n",
       "      <td>4</td>\n",
       "      <td>0.526841</td>\n",
       "      <td>0.552649</td>\n",
       "    </tr>\n",
       "    <tr>\n",
       "      <th>4</th>\n",
       "      <td>5</td>\n",
       "      <td>0.491170</td>\n",
       "      <td>0.550328</td>\n",
       "    </tr>\n",
       "    <tr>\n",
       "      <th>5</th>\n",
       "      <td>6</td>\n",
       "      <td>0.452954</td>\n",
       "      <td>0.547087</td>\n",
       "    </tr>\n",
       "    <tr>\n",
       "      <th>6</th>\n",
       "      <td>7</td>\n",
       "      <td>0.413359</td>\n",
       "      <td>0.552820</td>\n",
       "    </tr>\n",
       "    <tr>\n",
       "      <th>7</th>\n",
       "      <td>8</td>\n",
       "      <td>0.373497</td>\n",
       "      <td>0.558979</td>\n",
       "    </tr>\n",
       "    <tr>\n",
       "      <th>8</th>\n",
       "      <td>9</td>\n",
       "      <td>0.328421</td>\n",
       "      <td>0.584788</td>\n",
       "    </tr>\n",
       "    <tr>\n",
       "      <th>9</th>\n",
       "      <td>10</td>\n",
       "      <td>0.277888</td>\n",
       "      <td>0.602404</td>\n",
       "    </tr>\n",
       "    <tr>\n",
       "      <th>10</th>\n",
       "      <td>11</td>\n",
       "      <td>0.225411</td>\n",
       "      <td>0.619334</td>\n",
       "    </tr>\n",
       "    <tr>\n",
       "      <th>11</th>\n",
       "      <td>12</td>\n",
       "      <td>0.175662</td>\n",
       "      <td>0.664240</td>\n",
       "    </tr>\n",
       "    <tr>\n",
       "      <th>12</th>\n",
       "      <td>13</td>\n",
       "      <td>0.130879</td>\n",
       "      <td>0.657840</td>\n",
       "    </tr>\n",
       "    <tr>\n",
       "      <th>13</th>\n",
       "      <td>14</td>\n",
       "      <td>0.094379</td>\n",
       "      <td>0.668163</td>\n",
       "    </tr>\n",
       "    <tr>\n",
       "      <th>14</th>\n",
       "      <td>15</td>\n",
       "      <td>0.066843</td>\n",
       "      <td>0.688856</td>\n",
       "    </tr>\n",
       "    <tr>\n",
       "      <th>15</th>\n",
       "      <td>16</td>\n",
       "      <td>0.043312</td>\n",
       "      <td>0.698062</td>\n",
       "    </tr>\n",
       "    <tr>\n",
       "      <th>16</th>\n",
       "      <td>17</td>\n",
       "      <td>0.027638</td>\n",
       "      <td>0.700626</td>\n",
       "    </tr>\n",
       "    <tr>\n",
       "      <th>17</th>\n",
       "      <td>18</td>\n",
       "      <td>0.016119</td>\n",
       "      <td>0.705714</td>\n",
       "    </tr>\n",
       "    <tr>\n",
       "      <th>18</th>\n",
       "      <td>19</td>\n",
       "      <td>0.009865</td>\n",
       "      <td>0.705426</td>\n",
       "    </tr>\n",
       "    <tr>\n",
       "      <th>19</th>\n",
       "      <td>20</td>\n",
       "      <td>0.004911</td>\n",
       "      <td>0.685273</td>\n",
       "    </tr>\n",
       "  </tbody>\n",
       "</table>\n",
       "</div>"
      ],
      "text/plain": [
       "    depth  train_error  test_error\n",
       "0       1     0.651140    0.685560\n",
       "1       2     0.590774    0.615895\n",
       "2       3     0.559806    0.583194\n",
       "3       4     0.526841    0.552649\n",
       "4       5     0.491170    0.550328\n",
       "5       6     0.452954    0.547087\n",
       "6       7     0.413359    0.552820\n",
       "7       8     0.373497    0.558979\n",
       "8       9     0.328421    0.584788\n",
       "9      10     0.277888    0.602404\n",
       "10     11     0.225411    0.619334\n",
       "11     12     0.175662    0.664240\n",
       "12     13     0.130879    0.657840\n",
       "13     14     0.094379    0.668163\n",
       "14     15     0.066843    0.688856\n",
       "15     16     0.043312    0.698062\n",
       "16     17     0.027638    0.700626\n",
       "17     18     0.016119    0.705714\n",
       "18     19     0.009865    0.705426\n",
       "19     20     0.004911    0.685273"
      ]
     },
     "execution_count": 70,
     "metadata": {},
     "output_type": "execute_result"
    }
   ],
   "source": [
    "results_df = pd.DataFrame(results)\n",
    "results_df"
   ]
  },
  {
   "cell_type": "code",
   "execution_count": 78,
   "metadata": {},
   "outputs": [
    {
     "data": {
      "text/plain": [
       "5    6\n",
       "Name: depth, dtype: int64"
      ]
     },
     "execution_count": 78,
     "metadata": {},
     "output_type": "execute_result"
    }
   ],
   "source": [
    "results_df[ results_df['test_error'] == results_df['test_error'].min() ]['depth']"
   ]
  },
  {
   "cell_type": "code",
   "execution_count": 73,
   "metadata": {},
   "outputs": [
    {
     "data": {
      "text/plain": [
       "<matplotlib.legend.Legend at 0x7fb2cfcb9c10>"
      ]
     },
     "execution_count": 73,
     "metadata": {},
     "output_type": "execute_result"
    },
    {
     "data": {
      "image/png": "[encoded data removed]",
      "text/plain": [
       "<Figure size 720x720 with 1 Axes>"
      ]
     },
     "metadata": {
      "needs_background": "light"
     },
     "output_type": "display_data"
    }
   ],
   "source": [
    "fig = plt.figure(figsize=(10,10))\n",
    "\n",
    "plt.plot(results_df.depth, results_df.train_error, label='train error')\n",
    "plt.plot(results_df.depth, results_df.test_error, label='test error')\n",
    "plt.legend(loc='lower left')"
   ]
  },
  {
   "cell_type": "markdown",
   "metadata": {},
   "source": [
    "We can see how, when `max_depth` increases above ~5:\n",
    " * training error decresases (more precise on training samples)\n",
    " * test error increases (model is memorizing training set and not generalizing very well)\n",
    " \n",
    "This is the famous overfitting! And this is why **test error** is the one you should look at!"
   ]
  },
  {
   "cell_type": "code",
   "execution_count": 79,
   "metadata": {},
   "outputs": [],
   "source": [
    "model = DecisionTreeRegressor(max_depth=6)"
   ]
  },
  {
   "cell_type": "markdown",
   "metadata": {},
   "source": [
    "### Other hyperparameters"
   ]
  },
  {
   "cell_type": "code",
   "execution_count": 80,
   "metadata": {},
   "outputs": [],
   "source": [
    "model = DecisionTreeRegressor(max_depth=6, min_samples_split=100, max_features=5)"
   ]
  },
  {
   "cell_type": "code",
   "execution_count": 81,
   "metadata": {},
   "outputs": [
    {
     "data": {
      "text/plain": [
       "DecisionTreeRegressor(max_depth=6, max_features=5, min_samples_split=100)"
      ]
     },
     "execution_count": 81,
     "metadata": {},
     "output_type": "execute_result"
    }
   ],
   "source": [
    "model.fit(X_train, y_train)"
   ]
  },
  {
   "cell_type": "code",
   "execution_count": 82,
   "metadata": {},
   "outputs": [
    {
     "name": "stdout",
     "output_type": "stream",
     "text": [
      "train error: 0.5147235120829788\n",
      "test error: 0.5782183019940658\n"
     ]
    }
   ],
   "source": [
    "print(f\"train error: {mean_squared_error(y_train, model.predict(X_train))}\")\n",
    "print(f\"test error: {mean_squared_error(y_test, model.predict(X_test))}\")"
   ]
  },
  {
   "cell_type": "markdown",
   "metadata": {},
   "source": [
    "`min_samples_split`: the minimum number of samples required to split an internal node  "
   ]
  },
  {
   "cell_type": "markdown",
   "metadata": {},
   "source": [
    "`max_features`: the number of features to consider when looking for the best split.\n",
    "\n",
    "\n",
    "Why would you not consider all the features to find a Decision Tree?"
   ]
  },
  {
   "cell_type": "markdown",
   "metadata": {},
   "source": [
    "# Grid search"
   ]
  },
  {
   "cell_type": "markdown",
   "metadata": {},
   "source": [
    "Lets find the **best** combination of hyperparameters, i.e. the ones yielding the least test error"
   ]
  },
  {
   "cell_type": "code",
   "execution_count": 83,
   "metadata": {},
   "outputs": [],
   "source": [
    "from sklearn.model_selection import GridSearchCV "
   ]
  },
  {
   "cell_type": "code",
   "execution_count": 95,
   "metadata": {},
   "outputs": [],
   "source": [
    "gs = GridSearchCV(\n",
    "    estimator=DecisionTreeRegressor(),\n",
    "    param_grid={\n",
    "        \"max_depth\": [2, 4, 6, 8, 10, 12],\n",
    "        \"min_samples_split\": [10, 50, 100, 200, 300, 500, 1000],\n",
    "        \"max_features\": [5, 7, 9, 11],\n",
    "    },\n",
    "    cv=5,  # numero de veces que hace el ajuste\n",
    "    verbose=3,  # para imprimir cosas por pantalla\n",
    "    scoring=\"neg_mean_squared_error\",  # metrica que usa\n",
    "    return_train_score=True\n",
    ")"
   ]
  },
  {
   "cell_type": "code",
   "execution_count": 96,
   "metadata": {},
   "outputs": [
    {
     "name": "stdout",
     "output_type": "stream",
     "text": [
      "Fitting 5 folds for each of 168 candidates, totalling 840 fits\n",
      "[CV 1/5] END max_depth=2, max_features=5, min_samples_split=10; total time=   0.0s\n",
      "[CV 2/5] END max_depth=2, max_features=5, min_samples_split=10; total time=   0.0s\n",
      "[CV 3/5] END max_depth=2, max_features=5, min_samples_split=10; total time=   0.0s\n",
      "[CV 4/5] END max_depth=2, max_features=5, min_samples_split=10; total time=   0.0s\n",
      "[CV 5/5] END max_depth=2, max_features=5, min_samples_split=10; total time=   0.0s\n",
      "[CV 1/5] END max_depth=2, max_features=5, min_samples_split=50; total time=   0.0s\n",
      "[CV 2/5] END max_depth=2, max_features=5, min_samples_split=50; total time=   0.0s\n",
      "[CV 3/5] END max_depth=2, max_features=5, min_samples_split=50; total time=   0.0s\n",
      "[CV 4/5] END max_depth=2, max_features=5, min_samples_split=50; total time=   0.0s\n",
      "[CV 5/5] END max_depth=2, max_features=5, min_samples_split=50; total time=   0.0s\n",
      "[CV 1/5] END max_depth=2, max_features=5, min_samples_split=100; total time=   0.0s\n",
      "[CV 2/5] END max_depth=2, max_features=5, min_samples_split=100; total time=   0.0s\n",
      "[CV 3/5] END max_depth=2, max_features=5, min_samples_split=100; total time=   0.0s\n",
      "[CV 4/5] END max_depth=2, max_features=5, min_samples_split=100; total time=   0.0s\n",
      "[CV 5/5] END max_depth=2, max_features=5, min_samples_split=100; total time=   0.0s\n",
      "[CV 1/5] END max_depth=2, max_features=5, min_samples_split=200; total time=   0.0s\n",
      "[CV 2/5] END max_depth=2, max_features=5, min_samples_split=200; total time=   0.0s\n",
      "[CV 3/5] END max_depth=2, max_features=5, min_samples_split=200; total time=   0.0s\n",
      "[CV 4/5] END max_depth=2, max_features=5, min_samples_split=200; total time=   0.0s\n",
      "[CV 5/5] END max_depth=2, max_features=5, min_samples_split=200; total time=   0.0s\n",
      "[CV 1/5] END max_depth=2, max_features=5, min_samples_split=300; total time=   0.0s\n",
      "[CV 2/5] END max_depth=2, max_features=5, min_samples_split=300; total time=   0.0s\n",
      "[CV 3/5] END max_depth=2, max_features=5, min_samples_split=300; total time=   0.0s\n",
      "[CV 4/5] END max_depth=2, max_features=5, min_samples_split=300; total time=   0.0s\n",
      "[CV 5/5] END max_depth=2, max_features=5, min_samples_split=300; total time=   0.0s\n",
      "[CV 1/5] END max_depth=2, max_features=5, min_samples_split=500; total time=   0.0s\n",
      "[CV 2/5] END max_depth=2, max_features=5, min_samples_split=500; total time=   0.0s\n",
      "[CV 3/5] END max_depth=2, max_features=5, min_samples_split=500; total time=   0.0s\n",
      "[CV 4/5] END max_depth=2, max_features=5, min_samples_split=500; total time=   0.0s\n",
      "[CV 5/5] END max_depth=2, max_features=5, min_samples_split=500; total time=   0.0s\n",
      "[CV 1/5] END max_depth=2, max_features=5, min_samples_split=1000; total time=   0.0s\n",
      "[CV 2/5] END max_depth=2, max_features=5, min_samples_split=1000; total time=   0.0s\n",
      "[CV 3/5] END max_depth=2, max_features=5, min_samples_split=1000; total time=   0.0s\n",
      "[CV 4/5] END max_depth=2, max_features=5, min_samples_split=1000; total time=   0.0s\n",
      "[CV 5/5] END max_depth=2, max_features=5, min_samples_split=1000; total time=   0.0s\n",
      "[CV 1/5] END max_depth=2, max_features=7, min_samples_split=10; total time=   0.0s\n",
      "[CV 2/5] END max_depth=2, max_features=7, min_samples_split=10; total time=   0.0s\n",
      "[CV 3/5] END max_depth=2, max_features=7, min_samples_split=10; total time=   0.0s\n",
      "[CV 4/5] END max_depth=2, max_features=7, min_samples_split=10; total time=   0.0s\n",
      "[CV 5/5] END max_depth=2, max_features=7, min_samples_split=10; total time=   0.0s\n",
      "[CV 1/5] END max_depth=2, max_features=7, min_samples_split=50; total time=   0.0s\n",
      "[CV 2/5] END max_depth=2, max_features=7, min_samples_split=50; total time=   0.0s\n",
      "[CV 3/5] END max_depth=2, max_features=7, min_samples_split=50; total time=   0.0s\n",
      "[CV 4/5] END max_depth=2, max_features=7, min_samples_split=50; total time=   0.0s\n",
      "[CV 5/5] END max_depth=2, max_features=7, min_samples_split=50; total time=   0.0s\n",
      "[CV 1/5] END max_depth=2, max_features=7, min_samples_split=100; total time=   0.0s\n",
      "[CV 2/5] END max_depth=2, max_features=7, min_samples_split=100; total time=   0.0s\n",
      "[CV 3/5] END max_depth=2, max_features=7, min_samples_split=100; total time=   0.0s\n",
      "[CV 4/5] END max_depth=2, max_features=7, min_samples_split=100; total time=   0.0s\n",
      "[CV 5/5] END max_depth=2, max_features=7, min_samples_split=100; total time=   0.0s\n",
      "[CV 1/5] END max_depth=2, max_features=7, min_samples_split=200; total time=   0.0s\n",
      "[CV 2/5] END max_depth=2, max_features=7, min_samples_split=200; total time=   0.0s\n",
      "[CV 3/5] END max_depth=2, max_features=7, min_samples_split=200; total time=   0.0s\n",
      "[CV 4/5] END max_depth=2, max_features=7, min_samples_split=200; total time=   0.0s\n",
      "[CV 5/5] END max_depth=2, max_features=7, min_samples_split=200; total time=   0.0s\n",
      "[CV 1/5] END max_depth=2, max_features=7, min_samples_split=300; total time=   0.0s\n",
      "[CV 2/5] END max_depth=2, max_features=7, min_samples_split=300; total time=   0.0s\n",
      "[CV 3/5] END max_depth=2, max_features=7, min_samples_split=300; total time=   0.0s\n",
      "[CV 4/5] END max_depth=2, max_features=7, min_samples_split=300; total time=   0.0s\n",
      "[CV 5/5] END max_depth=2, max_features=7, min_samples_split=300; total time=   0.0s\n",
      "[CV 1/5] END max_depth=2, max_features=7, min_samples_split=500; total time=   0.0s\n",
      "[CV 2/5] END max_depth=2, max_features=7, min_samples_split=500; total time=   0.0s\n",
      "[CV 3/5] END max_depth=2, max_features=7, min_samples_split=500; total time=   0.0s\n",
      "[CV 4/5] END max_depth=2, max_features=7, min_samples_split=500; total time=   0.0s\n",
      "[CV 5/5] END max_depth=2, max_features=7, min_samples_split=500; total time=   0.0s\n",
      "[CV 1/5] END max_depth=2, max_features=7, min_samples_split=1000; total time=   0.0s\n",
      "[CV 2/5] END max_depth=2, max_features=7, min_samples_split=1000; total time=   0.0s\n",
      "[CV 3/5] END max_depth=2, max_features=7, min_samples_split=1000; total time=   0.0s\n",
      "[CV 4/5] END max_depth=2, max_features=7, min_samples_split=1000; total time=   0.0s\n",
      "[CV 5/5] END max_depth=2, max_features=7, min_samples_split=1000; total time=   0.0s\n",
      "[CV 1/5] END max_depth=2, max_features=9, min_samples_split=10; total time=   0.0s\n",
      "[CV 2/5] END max_depth=2, max_features=9, min_samples_split=10; total time=   0.0s\n",
      "[CV 3/5] END max_depth=2, max_features=9, min_samples_split=10; total time=   0.0s\n",
      "[CV 4/5] END max_depth=2, max_features=9, min_samples_split=10; total time=   0.0s\n",
      "[CV 5/5] END max_depth=2, max_features=9, min_samples_split=10; total time=   0.0s\n",
      "[CV 1/5] END max_depth=2, max_features=9, min_samples_split=50; total time=   0.0s\n",
      "[CV 2/5] END max_depth=2, max_features=9, min_samples_split=50; total time=   0.0s\n",
      "[CV 3/5] END max_depth=2, max_features=9, min_samples_split=50; total time=   0.0s\n",
      "[CV 4/5] END max_depth=2, max_features=9, min_samples_split=50; total time=   0.0s\n",
      "[CV 5/5] END max_depth=2, max_features=9, min_samples_split=50; total time=   0.0s\n",
      "[CV 1/5] END max_depth=2, max_features=9, min_samples_split=100; total time=   0.0s\n",
      "[CV 2/5] END max_depth=2, max_features=9, min_samples_split=100; total time=   0.0s\n",
      "[CV 3/5] END max_depth=2, max_features=9, min_samples_split=100; total time=   0.0s\n",
      "[CV 4/5] END max_depth=2, max_features=9, min_samples_split=100; total time=   0.0s\n",
      "[CV 5/5] END max_depth=2, max_features=9, min_samples_split=100; total time=   0.0s\n",
      "[CV 1/5] END max_depth=2, max_features=9, min_samples_split=200; total time=   0.0s\n",
      "[CV 2/5] END max_depth=2, max_features=9, min_samples_split=200; total time=   0.0s\n",
      "[CV 3/5] END max_depth=2, max_features=9, min_samples_split=200; total time=   0.0s\n",
      "[CV 4/5] END max_depth=2, max_features=9, min_samples_split=200; total time=   0.0s\n",
      "[CV 5/5] END max_depth=2, max_features=9, min_samples_split=200; total time=   0.0s\n",
      "[CV 1/5] END max_depth=2, max_features=9, min_samples_split=300; total time=   0.0s\n",
      "[CV 2/5] END max_depth=2, max_features=9, min_samples_split=300; total time=   0.0s\n",
      "[CV 3/5] END max_depth=2, max_features=9, min_samples_split=300; total time=   0.0s\n",
      "[CV 4/5] END max_depth=2, max_features=9, min_samples_split=300; total time=   0.0s\n",
      "[CV 5/5] END max_depth=2, max_features=9, min_samples_split=300; total time=   0.0s\n",
      "[CV 1/5] END max_depth=2, max_features=9, min_samples_split=500; total time=   0.0s\n",
      "[CV 2/5] END max_depth=2, max_features=9, min_samples_split=500; total time=   0.0s\n",
      "[CV 3/5] END max_depth=2, max_features=9, min_samples_split=500; total time=   0.0s\n",
      "[CV 4/5] END max_depth=2, max_features=9, min_samples_split=500; total time=   0.0s\n",
      "[CV 5/5] END max_depth=2, max_features=9, min_samples_split=500; total time=   0.0s\n",
      "[CV 1/5] END max_depth=2, max_features=9, min_samples_split=1000; total time=   0.0s\n",
      "[CV 2/5] END max_depth=2, max_features=9, min_samples_split=1000; total time=   0.0s\n",
      "[CV 3/5] END max_depth=2, max_features=9, min_samples_split=1000; total time=   0.0s\n",
      "[CV 4/5] END max_depth=2, max_features=9, min_samples_split=1000; total time=   0.0s\n",
      "[CV 5/5] END max_depth=2, max_features=9, min_samples_split=1000; total time=   0.0s\n",
      "[CV 1/5] END max_depth=2, max_features=11, min_samples_split=10; total time=   0.0s\n",
      "[CV 2/5] END max_depth=2, max_features=11, min_samples_split=10; total time=   0.0s\n",
      "[CV 3/5] END max_depth=2, max_features=11, min_samples_split=10; total time=   0.0s\n",
      "[CV 4/5] END max_depth=2, max_features=11, min_samples_split=10; total time=   0.0s\n",
      "[CV 5/5] END max_depth=2, max_features=11, min_samples_split=10; total time=   0.0s\n",
      "[CV 1/5] END max_depth=2, max_features=11, min_samples_split=50; total time=   0.0s\n",
      "[CV 2/5] END max_depth=2, max_features=11, min_samples_split=50; total time=   0.0s\n",
      "[CV 3/5] END max_depth=2, max_features=11, min_samples_split=50; total time=   0.0s\n",
      "[CV 4/5] END max_depth=2, max_features=11, min_samples_split=50; total time=   0.0s\n",
      "[CV 5/5] END max_depth=2, max_features=11, min_samples_split=50; total time=   0.0s\n",
      "[CV 1/5] END max_depth=2, max_features=11, min_samples_split=100; total time=   0.0s\n",
      "[CV 2/5] END max_depth=2, max_features=11, min_samples_split=100; total time=   0.0s\n",
      "[CV 3/5] END max_depth=2, max_features=11, min_samples_split=100; total time=   0.0s\n",
      "[CV 4/5] END max_depth=2, max_features=11, min_samples_split=100; total time=   0.0s\n"
     ]
    },
    {
     "name": "stdout",
     "output_type": "stream",
     "text": [
      "[CV 5/5] END max_depth=2, max_features=11, min_samples_split=100; total time=   0.0s\n",
      "[CV 1/5] END max_depth=2, max_features=11, min_samples_split=200; total time=   0.0s\n",
      "[CV 2/5] END max_depth=2, max_features=11, min_samples_split=200; total time=   0.0s\n",
      "[CV 3/5] END max_depth=2, max_features=11, min_samples_split=200; total time=   0.0s\n",
      "[CV 4/5] END max_depth=2, max_features=11, min_samples_split=200; total time=   0.0s\n",
      "[CV 5/5] END max_depth=2, max_features=11, min_samples_split=200; total time=   0.0s\n",
      "[CV 1/5] END max_depth=2, max_features=11, min_samples_split=300; total time=   0.0s\n",
      "[CV 2/5] END max_depth=2, max_features=11, min_samples_split=300; total time=   0.0s\n",
      "[CV 3/5] END max_depth=2, max_features=11, min_samples_split=300; total time=   0.0s\n",
      "[CV 4/5] END max_depth=2, max_features=11, min_samples_split=300; total time=   0.0s\n",
      "[CV 5/5] END max_depth=2, max_features=11, min_samples_split=300; total time=   0.0s\n",
      "[CV 1/5] END max_depth=2, max_features=11, min_samples_split=500; total time=   0.0s\n",
      "[CV 2/5] END max_depth=2, max_features=11, min_samples_split=500; total time=   0.0s\n",
      "[CV 3/5] END max_depth=2, max_features=11, min_samples_split=500; total time=   0.0s\n",
      "[CV 4/5] END max_depth=2, max_features=11, min_samples_split=500; total time=   0.0s\n",
      "[CV 5/5] END max_depth=2, max_features=11, min_samples_split=500; total time=   0.0s\n",
      "[CV 1/5] END max_depth=2, max_features=11, min_samples_split=1000; total time=   0.0s\n",
      "[CV 2/5] END max_depth=2, max_features=11, min_samples_split=1000; total time=   0.0s\n",
      "[CV 3/5] END max_depth=2, max_features=11, min_samples_split=1000; total time=   0.0s\n",
      "[CV 4/5] END max_depth=2, max_features=11, min_samples_split=1000; total time=   0.0s\n",
      "[CV 5/5] END max_depth=2, max_features=11, min_samples_split=1000; total time=   0.0s\n",
      "[CV 1/5] END max_depth=4, max_features=5, min_samples_split=10; total time=   0.0s\n",
      "[CV 2/5] END max_depth=4, max_features=5, min_samples_split=10; total time=   0.0s\n",
      "[CV 3/5] END max_depth=4, max_features=5, min_samples_split=10; total time=   0.0s\n",
      "[CV 4/5] END max_depth=4, max_features=5, min_samples_split=10; total time=   0.0s\n",
      "[CV 5/5] END max_depth=4, max_features=5, min_samples_split=10; total time=   0.0s\n",
      "[CV 1/5] END max_depth=4, max_features=5, min_samples_split=50; total time=   0.0s\n",
      "[CV 2/5] END max_depth=4, max_features=5, min_samples_split=50; total time=   0.0s\n",
      "[CV 3/5] END max_depth=4, max_features=5, min_samples_split=50; total time=   0.0s\n",
      "[CV 4/5] END max_depth=4, max_features=5, min_samples_split=50; total time=   0.0s\n",
      "[CV 5/5] END max_depth=4, max_features=5, min_samples_split=50; total time=   0.0s\n",
      "[CV 1/5] END max_depth=4, max_features=5, min_samples_split=100; total time=   0.0s\n",
      "[CV 2/5] END max_depth=4, max_features=5, min_samples_split=100; total time=   0.0s\n",
      "[CV 3/5] END max_depth=4, max_features=5, min_samples_split=100; total time=   0.0s\n",
      "[CV 4/5] END max_depth=4, max_features=5, min_samples_split=100; total time=   0.0s\n",
      "[CV 5/5] END max_depth=4, max_features=5, min_samples_split=100; total time=   0.0s\n",
      "[CV 1/5] END max_depth=4, max_features=5, min_samples_split=200; total time=   0.0s\n",
      "[CV 2/5] END max_depth=4, max_features=5, min_samples_split=200; total time=   0.0s\n",
      "[CV 3/5] END max_depth=4, max_features=5, min_samples_split=200; total time=   0.0s\n",
      "[CV 4/5] END max_depth=4, max_features=5, min_samples_split=200; total time=   0.0s\n",
      "[CV 5/5] END max_depth=4, max_features=5, min_samples_split=200; total time=   0.0s\n",
      "[CV 1/5] END max_depth=4, max_features=5, min_samples_split=300; total time=   0.0s\n",
      "[CV 2/5] END max_depth=4, max_features=5, min_samples_split=300; total time=   0.0s\n",
      "[CV 3/5] END max_depth=4, max_features=5, min_samples_split=300; total time=   0.0s\n",
      "[CV 4/5] END max_depth=4, max_features=5, min_samples_split=300; total time=   0.0s\n",
      "[CV 5/5] END max_depth=4, max_features=5, min_samples_split=300; total time=   0.0s\n",
      "[CV 1/5] END max_depth=4, max_features=5, min_samples_split=500; total time=   0.0s\n",
      "[CV 2/5] END max_depth=4, max_features=5, min_samples_split=500; total time=   0.0s\n",
      "[CV 3/5] END max_depth=4, max_features=5, min_samples_split=500; total time=   0.0s\n",
      "[CV 4/5] END max_depth=4, max_features=5, min_samples_split=500; total time=   0.0s\n",
      "[CV 5/5] END max_depth=4, max_features=5, min_samples_split=500; total time=   0.0s\n",
      "[CV 1/5] END max_depth=4, max_features=5, min_samples_split=1000; total time=   0.0s\n",
      "[CV 2/5] END max_depth=4, max_features=5, min_samples_split=1000; total time=   0.0s\n",
      "[CV 3/5] END max_depth=4, max_features=5, min_samples_split=1000; total time=   0.0s\n",
      "[CV 4/5] END max_depth=4, max_features=5, min_samples_split=1000; total time=   0.0s\n",
      "[CV 5/5] END max_depth=4, max_features=5, min_samples_split=1000; total time=   0.0s\n",
      "[CV 1/5] END max_depth=4, max_features=7, min_samples_split=10; total time=   0.0s\n",
      "[CV 2/5] END max_depth=4, max_features=7, min_samples_split=10; total time=   0.0s\n",
      "[CV 3/5] END max_depth=4, max_features=7, min_samples_split=10; total time=   0.0s\n",
      "[CV 4/5] END max_depth=4, max_features=7, min_samples_split=10; total time=   0.0s\n",
      "[CV 5/5] END max_depth=4, max_features=7, min_samples_split=10; total time=   0.0s\n",
      "[CV 1/5] END max_depth=4, max_features=7, min_samples_split=50; total time=   0.0s\n",
      "[CV 2/5] END max_depth=4, max_features=7, min_samples_split=50; total time=   0.0s\n",
      "[CV 3/5] END max_depth=4, max_features=7, min_samples_split=50; total time=   0.0s\n",
      "[CV 4/5] END max_depth=4, max_features=7, min_samples_split=50; total time=   0.0s\n",
      "[CV 5/5] END max_depth=4, max_features=7, min_samples_split=50; total time=   0.0s\n",
      "[CV 1/5] END max_depth=4, max_features=7, min_samples_split=100; total time=   0.0s\n",
      "[CV 2/5] END max_depth=4, max_features=7, min_samples_split=100; total time=   0.0s\n",
      "[CV 3/5] END max_depth=4, max_features=7, min_samples_split=100; total time=   0.0s\n",
      "[CV 4/5] END max_depth=4, max_features=7, min_samples_split=100; total time=   0.0s\n",
      "[CV 5/5] END max_depth=4, max_features=7, min_samples_split=100; total time=   0.0s\n",
      "[CV 1/5] END max_depth=4, max_features=7, min_samples_split=200; total time=   0.0s\n",
      "[CV 2/5] END max_depth=4, max_features=7, min_samples_split=200; total time=   0.0s\n",
      "[CV 3/5] END max_depth=4, max_features=7, min_samples_split=200; total time=   0.0s\n",
      "[CV 4/5] END max_depth=4, max_features=7, min_samples_split=200; total time=   0.0s\n",
      "[CV 5/5] END max_depth=4, max_features=7, min_samples_split=200; total time=   0.0s\n",
      "[CV 1/5] END max_depth=4, max_features=7, min_samples_split=300; total time=   0.0s\n",
      "[CV 2/5] END max_depth=4, max_features=7, min_samples_split=300; total time=   0.0s\n",
      "[CV 3/5] END max_depth=4, max_features=7, min_samples_split=300; total time=   0.0s\n",
      "[CV 4/5] END max_depth=4, max_features=7, min_samples_split=300; total time=   0.0s\n",
      "[CV 5/5] END max_depth=4, max_features=7, min_samples_split=300; total time=   0.0s\n",
      "[CV 1/5] END max_depth=4, max_features=7, min_samples_split=500; total time=   0.0s\n",
      "[CV 2/5] END max_depth=4, max_features=7, min_samples_split=500; total time=   0.0s\n",
      "[CV 3/5] END max_depth=4, max_features=7, min_samples_split=500; total time=   0.0s\n",
      "[CV 4/5] END max_depth=4, max_features=7, min_samples_split=500; total time=   0.0s\n",
      "[CV 5/5] END max_depth=4, max_features=7, min_samples_split=500; total time=   0.0s\n",
      "[CV 1/5] END max_depth=4, max_features=7, min_samples_split=1000; total time=   0.0s\n",
      "[CV 2/5] END max_depth=4, max_features=7, min_samples_split=1000; total time=   0.0s\n",
      "[CV 3/5] END max_depth=4, max_features=7, min_samples_split=1000; total time=   0.0s\n",
      "[CV 4/5] END max_depth=4, max_features=7, min_samples_split=1000; total time=   0.0s\n",
      "[CV 5/5] END max_depth=4, max_features=7, min_samples_split=1000; total time=   0.0s\n",
      "[CV 1/5] END max_depth=4, max_features=9, min_samples_split=10; total time=   0.0s\n",
      "[CV 2/5] END max_depth=4, max_features=9, min_samples_split=10; total time=   0.0s\n",
      "[CV 3/5] END max_depth=4, max_features=9, min_samples_split=10; total time=   0.0s\n",
      "[CV 4/5] END max_depth=4, max_features=9, min_samples_split=10; total time=   0.0s\n",
      "[CV 5/5] END max_depth=4, max_features=9, min_samples_split=10; total time=   0.0s\n",
      "[CV 1/5] END max_depth=4, max_features=9, min_samples_split=50; total time=   0.0s\n",
      "[CV 2/5] END max_depth=4, max_features=9, min_samples_split=50; total time=   0.0s\n",
      "[CV 3/5] END max_depth=4, max_features=9, min_samples_split=50; total time=   0.0s\n",
      "[CV 4/5] END max_depth=4, max_features=9, min_samples_split=50; total time=   0.0s\n",
      "[CV 5/5] END max_depth=4, max_features=9, min_samples_split=50; total time=   0.0s\n",
      "[CV 1/5] END max_depth=4, max_features=9, min_samples_split=100; total time=   0.0s\n"
     ]
    },
    {
     "name": "stdout",
     "output_type": "stream",
     "text": [
      "[CV 2/5] END max_depth=4, max_features=9, min_samples_split=100; total time=   0.0s\n",
      "[CV 3/5] END max_depth=4, max_features=9, min_samples_split=100; total time=   0.0s\n",
      "[CV 4/5] END max_depth=4, max_features=9, min_samples_split=100; total time=   0.0s\n",
      "[CV 5/5] END max_depth=4, max_features=9, min_samples_split=100; total time=   0.0s\n",
      "[CV 1/5] END max_depth=4, max_features=9, min_samples_split=200; total time=   0.0s\n",
      "[CV 2/5] END max_depth=4, max_features=9, min_samples_split=200; total time=   0.0s\n",
      "[CV 3/5] END max_depth=4, max_features=9, min_samples_split=200; total time=   0.0s\n",
      "[CV 4/5] END max_depth=4, max_features=9, min_samples_split=200; total time=   0.0s\n",
      "[CV 5/5] END max_depth=4, max_features=9, min_samples_split=200; total time=   0.0s\n",
      "[CV 1/5] END max_depth=4, max_features=9, min_samples_split=300; total time=   0.0s\n",
      "[CV 2/5] END max_depth=4, max_features=9, min_samples_split=300; total time=   0.0s\n",
      "[CV 3/5] END max_depth=4, max_features=9, min_samples_split=300; total time=   0.0s\n",
      "[CV 4/5] END max_depth=4, max_features=9, min_samples_split=300; total time=   0.0s\n",
      "[CV 5/5] END max_depth=4, max_features=9, min_samples_split=300; total time=   0.0s\n",
      "[CV 1/5] END max_depth=4, max_features=9, min_samples_split=500; total time=   0.0s\n",
      "[CV 2/5] END max_depth=4, max_features=9, min_samples_split=500; total time=   0.0s\n",
      "[CV 3/5] END max_depth=4, max_features=9, min_samples_split=500; total time=   0.0s\n",
      "[CV 4/5] END max_depth=4, max_features=9, min_samples_split=500; total time=   0.0s\n",
      "[CV 5/5] END max_depth=4, max_features=9, min_samples_split=500; total time=   0.0s\n",
      "[CV 1/5] END max_depth=4, max_features=9, min_samples_split=1000; total time=   0.0s\n",
      "[CV 2/5] END max_depth=4, max_features=9, min_samples_split=1000; total time=   0.0s\n",
      "[CV 3/5] END max_depth=4, max_features=9, min_samples_split=1000; total time=   0.0s\n",
      "[CV 4/5] END max_depth=4, max_features=9, min_samples_split=1000; total time=   0.0s\n",
      "[CV 5/5] END max_depth=4, max_features=9, min_samples_split=1000; total time=   0.0s\n",
      "[CV 1/5] END max_depth=4, max_features=11, min_samples_split=10; total time=   0.0s\n",
      "[CV 2/5] END max_depth=4, max_features=11, min_samples_split=10; total time=   0.0s\n",
      "[CV 3/5] END max_depth=4, max_features=11, min_samples_split=10; total time=   0.0s\n",
      "[CV 4/5] END max_depth=4, max_features=11, min_samples_split=10; total time=   0.0s\n",
      "[CV 5/5] END max_depth=4, max_features=11, min_samples_split=10; total time=   0.0s\n",
      "[CV 1/5] END max_depth=4, max_features=11, min_samples_split=50; total time=   0.0s\n",
      "[CV 2/5] END max_depth=4, max_features=11, min_samples_split=50; total time=   0.0s\n",
      "[CV 3/5] END max_depth=4, max_features=11, min_samples_split=50; total time=   0.0s\n",
      "[CV 4/5] END max_depth=4, max_features=11, min_samples_split=50; total time=   0.0s\n",
      "[CV 5/5] END max_depth=4, max_features=11, min_samples_split=50; total time=   0.0s\n",
      "[CV 1/5] END max_depth=4, max_features=11, min_samples_split=100; total time=   0.0s\n",
      "[CV 2/5] END max_depth=4, max_features=11, min_samples_split=100; total time=   0.0s\n",
      "[CV 3/5] END max_depth=4, max_features=11, min_samples_split=100; total time=   0.0s\n",
      "[CV 4/5] END max_depth=4, max_features=11, min_samples_split=100; total time=   0.0s\n",
      "[CV 5/5] END max_depth=4, max_features=11, min_samples_split=100; total time=   0.0s\n",
      "[CV 1/5] END max_depth=4, max_features=11, min_samples_split=200; total time=   0.0s\n",
      "[CV 2/5] END max_depth=4, max_features=11, min_samples_split=200; total time=   0.0s\n",
      "[CV 3/5] END max_depth=4, max_features=11, min_samples_split=200; total time=   0.0s\n",
      "[CV 4/5] END max_depth=4, max_features=11, min_samples_split=200; total time=   0.0s\n",
      "[CV 5/5] END max_depth=4, max_features=11, min_samples_split=200; total time=   0.0s\n",
      "[CV 1/5] END max_depth=4, max_features=11, min_samples_split=300; total time=   0.0s\n",
      "[CV 2/5] END max_depth=4, max_features=11, min_samples_split=300; total time=   0.0s\n",
      "[CV 3/5] END max_depth=4, max_features=11, min_samples_split=300; total time=   0.0s\n",
      "[CV 4/5] END max_depth=4, max_features=11, min_samples_split=300; total time=   0.0s\n",
      "[CV 5/5] END max_depth=4, max_features=11, min_samples_split=300; total time=   0.0s\n",
      "[CV 1/5] END max_depth=4, max_features=11, min_samples_split=500; total time=   0.0s\n",
      "[CV 2/5] END max_depth=4, max_features=11, min_samples_split=500; total time=   0.0s\n",
      "[CV 3/5] END max_depth=4, max_features=11, min_samples_split=500; total time=   0.0s\n",
      "[CV 4/5] END max_depth=4, max_features=11, min_samples_split=500; total time=   0.0s\n",
      "[CV 5/5] END max_depth=4, max_features=11, min_samples_split=500; total time=   0.0s\n",
      "[CV 1/5] END max_depth=4, max_features=11, min_samples_split=1000; total time=   0.0s\n",
      "[CV 2/5] END max_depth=4, max_features=11, min_samples_split=1000; total time=   0.0s\n",
      "[CV 3/5] END max_depth=4, max_features=11, min_samples_split=1000; total time=   0.0s\n",
      "[CV 4/5] END max_depth=4, max_features=11, min_samples_split=1000; total time=   0.0s\n",
      "[CV 5/5] END max_depth=4, max_features=11, min_samples_split=1000; total time=   0.0s\n",
      "[CV 1/5] END max_depth=6, max_features=5, min_samples_split=10; total time=   0.0s\n",
      "[CV 2/5] END max_depth=6, max_features=5, min_samples_split=10; total time=   0.0s\n",
      "[CV 3/5] END max_depth=6, max_features=5, min_samples_split=10; total time=   0.0s\n",
      "[CV 4/5] END max_depth=6, max_features=5, min_samples_split=10; total time=   0.0s\n",
      "[CV 5/5] END max_depth=6, max_features=5, min_samples_split=10; total time=   0.0s\n",
      "[CV 1/5] END max_depth=6, max_features=5, min_samples_split=50; total time=   0.0s\n",
      "[CV 2/5] END max_depth=6, max_features=5, min_samples_split=50; total time=   0.0s\n",
      "[CV 3/5] END max_depth=6, max_features=5, min_samples_split=50; total time=   0.0s\n",
      "[CV 4/5] END max_depth=6, max_features=5, min_samples_split=50; total time=   0.0s\n",
      "[CV 5/5] END max_depth=6, max_features=5, min_samples_split=50; total time=   0.0s\n",
      "[CV 1/5] END max_depth=6, max_features=5, min_samples_split=100; total time=   0.0s\n",
      "[CV 2/5] END max_depth=6, max_features=5, min_samples_split=100; total time=   0.0s\n",
      "[CV 3/5] END max_depth=6, max_features=5, min_samples_split=100; total time=   0.0s\n",
      "[CV 4/5] END max_depth=6, max_features=5, min_samples_split=100; total time=   0.0s\n",
      "[CV 5/5] END max_depth=6, max_features=5, min_samples_split=100; total time=   0.0s\n",
      "[CV 1/5] END max_depth=6, max_features=5, min_samples_split=200; total time=   0.0s\n",
      "[CV 2/5] END max_depth=6, max_features=5, min_samples_split=200; total time=   0.0s\n",
      "[CV 3/5] END max_depth=6, max_features=5, min_samples_split=200; total time=   0.0s\n",
      "[CV 4/5] END max_depth=6, max_features=5, min_samples_split=200; total time=   0.0s\n",
      "[CV 5/5] END max_depth=6, max_features=5, min_samples_split=200; total time=   0.0s\n",
      "[CV 1/5] END max_depth=6, max_features=5, min_samples_split=300; total time=   0.0s\n",
      "[CV 2/5] END max_depth=6, max_features=5, min_samples_split=300; total time=   0.0s\n",
      "[CV 3/5] END max_depth=6, max_features=5, min_samples_split=300; total time=   0.0s\n",
      "[CV 4/5] END max_depth=6, max_features=5, min_samples_split=300; total time=   0.0s\n",
      "[CV 5/5] END max_depth=6, max_features=5, min_samples_split=300; total time=   0.0s\n",
      "[CV 1/5] END max_depth=6, max_features=5, min_samples_split=500; total time=   0.0s\n",
      "[CV 2/5] END max_depth=6, max_features=5, min_samples_split=500; total time=   0.0s\n",
      "[CV 3/5] END max_depth=6, max_features=5, min_samples_split=500; total time=   0.0s\n",
      "[CV 4/5] END max_depth=6, max_features=5, min_samples_split=500; total time=   0.0s\n",
      "[CV 5/5] END max_depth=6, max_features=5, min_samples_split=500; total time=   0.0s\n",
      "[CV 1/5] END max_depth=6, max_features=5, min_samples_split=1000; total time=   0.0s\n",
      "[CV 2/5] END max_depth=6, max_features=5, min_samples_split=1000; total time=   0.0s\n",
      "[CV 3/5] END max_depth=6, max_features=5, min_samples_split=1000; total time=   0.0s\n",
      "[CV 4/5] END max_depth=6, max_features=5, min_samples_split=1000; total time=   0.0s\n",
      "[CV 5/5] END max_depth=6, max_features=5, min_samples_split=1000; total time=   0.0s\n",
      "[CV 1/5] END max_depth=6, max_features=7, min_samples_split=10; total time=   0.0s\n",
      "[CV 2/5] END max_depth=6, max_features=7, min_samples_split=10; total time=   0.0s\n",
      "[CV 3/5] END max_depth=6, max_features=7, min_samples_split=10; total time=   0.0s\n",
      "[CV 4/5] END max_depth=6, max_features=7, min_samples_split=10; total time=   0.0s\n",
      "[CV 5/5] END max_depth=6, max_features=7, min_samples_split=10; total time=   0.0s\n",
      "[CV 1/5] END max_depth=6, max_features=7, min_samples_split=50; total time=   0.0s\n",
      "[CV 2/5] END max_depth=6, max_features=7, min_samples_split=50; total time=   0.0s\n",
      "[CV 3/5] END max_depth=6, max_features=7, min_samples_split=50; total time=   0.0s\n",
      "[CV 4/5] END max_depth=6, max_features=7, min_samples_split=50; total time=   0.0s\n",
      "[CV 5/5] END max_depth=6, max_features=7, min_samples_split=50; total time=   0.0s\n",
      "[CV 1/5] END max_depth=6, max_features=7, min_samples_split=100; total time=   0.0s\n",
      "[CV 2/5] END max_depth=6, max_features=7, min_samples_split=100; total time=   0.0s\n",
      "[CV 3/5] END max_depth=6, max_features=7, min_samples_split=100; total time=   0.0s\n",
      "[CV 4/5] END max_depth=6, max_features=7, min_samples_split=100; total time=   0.0s\n"
     ]
    },
    {
     "name": "stdout",
     "output_type": "stream",
     "text": [
      "[CV 5/5] END max_depth=6, max_features=7, min_samples_split=100; total time=   0.0s\n",
      "[CV 1/5] END max_depth=6, max_features=7, min_samples_split=200; total time=   0.0s\n",
      "[CV 2/5] END max_depth=6, max_features=7, min_samples_split=200; total time=   0.0s\n",
      "[CV 3/5] END max_depth=6, max_features=7, min_samples_split=200; total time=   0.0s\n",
      "[CV 4/5] END max_depth=6, max_features=7, min_samples_split=200; total time=   0.0s\n",
      "[CV 5/5] END max_depth=6, max_features=7, min_samples_split=200; total time=   0.0s\n",
      "[CV 1/5] END max_depth=6, max_features=7, min_samples_split=300; total time=   0.0s\n",
      "[CV 2/5] END max_depth=6, max_features=7, min_samples_split=300; total time=   0.0s\n",
      "[CV 3/5] END max_depth=6, max_features=7, min_samples_split=300; total time=   0.0s\n",
      "[CV 4/5] END max_depth=6, max_features=7, min_samples_split=300; total time=   0.0s\n",
      "[CV 5/5] END max_depth=6, max_features=7, min_samples_split=300; total time=   0.0s\n",
      "[CV 1/5] END max_depth=6, max_features=7, min_samples_split=500; total time=   0.0s\n",
      "[CV 2/5] END max_depth=6, max_features=7, min_samples_split=500; total time=   0.0s\n",
      "[CV 3/5] END max_depth=6, max_features=7, min_samples_split=500; total time=   0.0s\n",
      "[CV 4/5] END max_depth=6, max_features=7, min_samples_split=500; total time=   0.0s\n",
      "[CV 5/5] END max_depth=6, max_features=7, min_samples_split=500; total time=   0.0s\n",
      "[CV 1/5] END max_depth=6, max_features=7, min_samples_split=1000; total time=   0.0s\n",
      "[CV 2/5] END max_depth=6, max_features=7, min_samples_split=1000; total time=   0.0s\n",
      "[CV 3/5] END max_depth=6, max_features=7, min_samples_split=1000; total time=   0.0s\n",
      "[CV 4/5] END max_depth=6, max_features=7, min_samples_split=1000; total time=   0.0s\n",
      "[CV 5/5] END max_depth=6, max_features=7, min_samples_split=1000; total time=   0.0s\n",
      "[CV 1/5] END max_depth=6, max_features=9, min_samples_split=10; total time=   0.0s\n",
      "[CV 2/5] END max_depth=6, max_features=9, min_samples_split=10; total time=   0.0s\n",
      "[CV 3/5] END max_depth=6, max_features=9, min_samples_split=10; total time=   0.0s\n",
      "[CV 4/5] END max_depth=6, max_features=9, min_samples_split=10; total time=   0.0s\n",
      "[CV 5/5] END max_depth=6, max_features=9, min_samples_split=10; total time=   0.0s\n",
      "[CV 1/5] END max_depth=6, max_features=9, min_samples_split=50; total time=   0.0s\n",
      "[CV 2/5] END max_depth=6, max_features=9, min_samples_split=50; total time=   0.0s\n",
      "[CV 3/5] END max_depth=6, max_features=9, min_samples_split=50; total time=   0.0s\n",
      "[CV 4/5] END max_depth=6, max_features=9, min_samples_split=50; total time=   0.0s\n",
      "[CV 5/5] END max_depth=6, max_features=9, min_samples_split=50; total time=   0.0s\n",
      "[CV 1/5] END max_depth=6, max_features=9, min_samples_split=100; total time=   0.0s\n",
      "[CV 2/5] END max_depth=6, max_features=9, min_samples_split=100; total time=   0.0s\n",
      "[CV 3/5] END max_depth=6, max_features=9, min_samples_split=100; total time=   0.0s\n",
      "[CV 4/5] END max_depth=6, max_features=9, min_samples_split=100; total time=   0.0s\n",
      "[CV 5/5] END max_depth=6, max_features=9, min_samples_split=100; total time=   0.0s\n",
      "[CV 1/5] END max_depth=6, max_features=9, min_samples_split=200; total time=   0.0s\n",
      "[CV 2/5] END max_depth=6, max_features=9, min_samples_split=200; total time=   0.0s\n",
      "[CV 3/5] END max_depth=6, max_features=9, min_samples_split=200; total time=   0.0s\n",
      "[CV 4/5] END max_depth=6, max_features=9, min_samples_split=200; total time=   0.0s\n",
      "[CV 5/5] END max_depth=6, max_features=9, min_samples_split=200; total time=   0.0s\n",
      "[CV 1/5] END max_depth=6, max_features=9, min_samples_split=300; total time=   0.0s\n",
      "[CV 2/5] END max_depth=6, max_features=9, min_samples_split=300; total time=   0.0s\n",
      "[CV 3/5] END max_depth=6, max_features=9, min_samples_split=300; total time=   0.0s\n",
      "[CV 4/5] END max_depth=6, max_features=9, min_samples_split=300; total time=   0.0s\n",
      "[CV 5/5] END max_depth=6, max_features=9, min_samples_split=300; total time=   0.0s\n",
      "[CV 1/5] END max_depth=6, max_features=9, min_samples_split=500; total time=   0.0s\n",
      "[CV 2/5] END max_depth=6, max_features=9, min_samples_split=500; total time=   0.0s\n",
      "[CV 3/5] END max_depth=6, max_features=9, min_samples_split=500; total time=   0.0s\n",
      "[CV 4/5] END max_depth=6, max_features=9, min_samples_split=500; total time=   0.0s\n",
      "[CV 5/5] END max_depth=6, max_features=9, min_samples_split=500; total time=   0.0s\n",
      "[CV 1/5] END max_depth=6, max_features=9, min_samples_split=1000; total time=   0.0s\n",
      "[CV 2/5] END max_depth=6, max_features=9, min_samples_split=1000; total time=   0.0s\n",
      "[CV 3/5] END max_depth=6, max_features=9, min_samples_split=1000; total time=   0.0s\n",
      "[CV 4/5] END max_depth=6, max_features=9, min_samples_split=1000; total time=   0.0s\n",
      "[CV 5/5] END max_depth=6, max_features=9, min_samples_split=1000; total time=   0.0s\n",
      "[CV 1/5] END max_depth=6, max_features=11, min_samples_split=10; total time=   0.0s\n",
      "[CV 2/5] END max_depth=6, max_features=11, min_samples_split=10; total time=   0.0s\n",
      "[CV 3/5] END max_depth=6, max_features=11, min_samples_split=10; total time=   0.0s\n",
      "[CV 4/5] END max_depth=6, max_features=11, min_samples_split=10; total time=   0.0s\n",
      "[CV 5/5] END max_depth=6, max_features=11, min_samples_split=10; total time=   0.0s\n",
      "[CV 1/5] END max_depth=6, max_features=11, min_samples_split=50; total time=   0.0s\n",
      "[CV 2/5] END max_depth=6, max_features=11, min_samples_split=50; total time=   0.0s\n",
      "[CV 3/5] END max_depth=6, max_features=11, min_samples_split=50; total time=   0.0s\n",
      "[CV 4/5] END max_depth=6, max_features=11, min_samples_split=50; total time=   0.0s\n",
      "[CV 5/5] END max_depth=6, max_features=11, min_samples_split=50; total time=   0.0s\n",
      "[CV 1/5] END max_depth=6, max_features=11, min_samples_split=100; total time=   0.0s\n",
      "[CV 2/5] END max_depth=6, max_features=11, min_samples_split=100; total time=   0.0s\n",
      "[CV 3/5] END max_depth=6, max_features=11, min_samples_split=100; total time=   0.0s\n",
      "[CV 4/5] END max_depth=6, max_features=11, min_samples_split=100; total time=   0.0s\n",
      "[CV 5/5] END max_depth=6, max_features=11, min_samples_split=100; total time=   0.0s\n",
      "[CV 1/5] END max_depth=6, max_features=11, min_samples_split=200; total time=   0.0s\n",
      "[CV 2/5] END max_depth=6, max_features=11, min_samples_split=200; total time=   0.0s\n",
      "[CV 3/5] END max_depth=6, max_features=11, min_samples_split=200; total time=   0.0s\n",
      "[CV 4/5] END max_depth=6, max_features=11, min_samples_split=200; total time=   0.0s\n",
      "[CV 5/5] END max_depth=6, max_features=11, min_samples_split=200; total time=   0.0s\n",
      "[CV 1/5] END max_depth=6, max_features=11, min_samples_split=300; total time=   0.0s\n",
      "[CV 2/5] END max_depth=6, max_features=11, min_samples_split=300; total time=   0.0s\n",
      "[CV 3/5] END max_depth=6, max_features=11, min_samples_split=300; total time=   0.0s\n",
      "[CV 4/5] END max_depth=6, max_features=11, min_samples_split=300; total time=   0.0s\n",
      "[CV 5/5] END max_depth=6, max_features=11, min_samples_split=300; total time=   0.0s\n",
      "[CV 1/5] END max_depth=6, max_features=11, min_samples_split=500; total time=   0.0s\n",
      "[CV 2/5] END max_depth=6, max_features=11, min_samples_split=500; total time=   0.0s\n",
      "[CV 3/5] END max_depth=6, max_features=11, min_samples_split=500; total time=   0.0s\n",
      "[CV 4/5] END max_depth=6, max_features=11, min_samples_split=500; total time=   0.0s\n",
      "[CV 5/5] END max_depth=6, max_features=11, min_samples_split=500; total time=   0.0s\n",
      "[CV 1/5] END max_depth=6, max_features=11, min_samples_split=1000; total time=   0.0s\n",
      "[CV 2/5] END max_depth=6, max_features=11, min_samples_split=1000; total time=   0.0s\n",
      "[CV 3/5] END max_depth=6, max_features=11, min_samples_split=1000; total time=   0.0s\n",
      "[CV 4/5] END max_depth=6, max_features=11, min_samples_split=1000; total time=   0.0s\n",
      "[CV 5/5] END max_depth=6, max_features=11, min_samples_split=1000; total time=   0.0s\n",
      "[CV 1/5] END max_depth=8, max_features=5, min_samples_split=10; total time=   0.0s\n",
      "[CV 2/5] END max_depth=8, max_features=5, min_samples_split=10; total time=   0.0s\n",
      "[CV 3/5] END max_depth=8, max_features=5, min_samples_split=10; total time=   0.0s\n",
      "[CV 4/5] END max_depth=8, max_features=5, min_samples_split=10; total time=   0.0s\n",
      "[CV 5/5] END max_depth=8, max_features=5, min_samples_split=10; total time=   0.0s\n",
      "[CV 1/5] END max_depth=8, max_features=5, min_samples_split=50; total time=   0.0s\n",
      "[CV 2/5] END max_depth=8, max_features=5, min_samples_split=50; total time=   0.0s\n",
      "[CV 3/5] END max_depth=8, max_features=5, min_samples_split=50; total time=   0.0s\n",
      "[CV 4/5] END max_depth=8, max_features=5, min_samples_split=50; total time=   0.0s\n",
      "[CV 5/5] END max_depth=8, max_features=5, min_samples_split=50; total time=   0.0s\n",
      "[CV 1/5] END max_depth=8, max_features=5, min_samples_split=100; total time=   0.0s\n",
      "[CV 2/5] END max_depth=8, max_features=5, min_samples_split=100; total time=   0.0s\n",
      "[CV 3/5] END max_depth=8, max_features=5, min_samples_split=100; total time=   0.0s\n",
      "[CV 4/5] END max_depth=8, max_features=5, min_samples_split=100; total time=   0.0s\n",
      "[CV 5/5] END max_depth=8, max_features=5, min_samples_split=100; total time=   0.0s\n",
      "[CV 1/5] END max_depth=8, max_features=5, min_samples_split=200; total time=   0.0s\n"
     ]
    },
    {
     "name": "stdout",
     "output_type": "stream",
     "text": [
      "[CV 2/5] END max_depth=8, max_features=5, min_samples_split=200; total time=   0.0s\n",
      "[CV 3/5] END max_depth=8, max_features=5, min_samples_split=200; total time=   0.0s\n",
      "[CV 4/5] END max_depth=8, max_features=5, min_samples_split=200; total time=   0.0s\n",
      "[CV 5/5] END max_depth=8, max_features=5, min_samples_split=200; total time=   0.0s\n",
      "[CV 1/5] END max_depth=8, max_features=5, min_samples_split=300; total time=   0.0s\n",
      "[CV 2/5] END max_depth=8, max_features=5, min_samples_split=300; total time=   0.0s\n",
      "[CV 3/5] END max_depth=8, max_features=5, min_samples_split=300; total time=   0.0s\n",
      "[CV 4/5] END max_depth=8, max_features=5, min_samples_split=300; total time=   0.0s\n",
      "[CV 5/5] END max_depth=8, max_features=5, min_samples_split=300; total time=   0.0s\n",
      "[CV 1/5] END max_depth=8, max_features=5, min_samples_split=500; total time=   0.0s\n",
      "[CV 2/5] END max_depth=8, max_features=5, min_samples_split=500; total time=   0.0s\n",
      "[CV 3/5] END max_depth=8, max_features=5, min_samples_split=500; total time=   0.0s\n",
      "[CV 4/5] END max_depth=8, max_features=5, min_samples_split=500; total time=   0.0s\n",
      "[CV 5/5] END max_depth=8, max_features=5, min_samples_split=500; total time=   0.0s\n",
      "[CV 1/5] END max_depth=8, max_features=5, min_samples_split=1000; total time=   0.0s\n",
      "[CV 2/5] END max_depth=8, max_features=5, min_samples_split=1000; total time=   0.0s\n",
      "[CV 3/5] END max_depth=8, max_features=5, min_samples_split=1000; total time=   0.0s\n",
      "[CV 4/5] END max_depth=8, max_features=5, min_samples_split=1000; total time=   0.0s\n",
      "[CV 5/5] END max_depth=8, max_features=5, min_samples_split=1000; total time=   0.0s\n",
      "[CV 1/5] END max_depth=8, max_features=7, min_samples_split=10; total time=   0.0s\n",
      "[CV 2/5] END max_depth=8, max_features=7, min_samples_split=10; total time=   0.0s\n",
      "[CV 3/5] END max_depth=8, max_features=7, min_samples_split=10; total time=   0.0s\n",
      "[CV 4/5] END max_depth=8, max_features=7, min_samples_split=10; total time=   0.0s\n",
      "[CV 5/5] END max_depth=8, max_features=7, min_samples_split=10; total time=   0.0s\n",
      "[CV 1/5] END max_depth=8, max_features=7, min_samples_split=50; total time=   0.0s\n",
      "[CV 2/5] END max_depth=8, max_features=7, min_samples_split=50; total time=   0.0s\n",
      "[CV 3/5] END max_depth=8, max_features=7, min_samples_split=50; total time=   0.0s\n",
      "[CV 4/5] END max_depth=8, max_features=7, min_samples_split=50; total time=   0.0s\n",
      "[CV 5/5] END max_depth=8, max_features=7, min_samples_split=50; total time=   0.0s\n",
      "[CV 1/5] END max_depth=8, max_features=7, min_samples_split=100; total time=   0.0s\n",
      "[CV 2/5] END max_depth=8, max_features=7, min_samples_split=100; total time=   0.0s\n",
      "[CV 3/5] END max_depth=8, max_features=7, min_samples_split=100; total time=   0.0s\n",
      "[CV 4/5] END max_depth=8, max_features=7, min_samples_split=100; total time=   0.0s\n",
      "[CV 5/5] END max_depth=8, max_features=7, min_samples_split=100; total time=   0.0s\n",
      "[CV 1/5] END max_depth=8, max_features=7, min_samples_split=200; total time=   0.0s\n",
      "[CV 2/5] END max_depth=8, max_features=7, min_samples_split=200; total time=   0.0s\n",
      "[CV 3/5] END max_depth=8, max_features=7, min_samples_split=200; total time=   0.0s\n",
      "[CV 4/5] END max_depth=8, max_features=7, min_samples_split=200; total time=   0.0s\n",
      "[CV 5/5] END max_depth=8, max_features=7, min_samples_split=200; total time=   0.0s\n",
      "[CV 1/5] END max_depth=8, max_features=7, min_samples_split=300; total time=   0.0s\n",
      "[CV 2/5] END max_depth=8, max_features=7, min_samples_split=300; total time=   0.0s\n",
      "[CV 3/5] END max_depth=8, max_features=7, min_samples_split=300; total time=   0.0s\n",
      "[CV 4/5] END max_depth=8, max_features=7, min_samples_split=300; total time=   0.0s\n",
      "[CV 5/5] END max_depth=8, max_features=7, min_samples_split=300; total time=   0.0s\n",
      "[CV 1/5] END max_depth=8, max_features=7, min_samples_split=500; total time=   0.0s\n",
      "[CV 2/5] END max_depth=8, max_features=7, min_samples_split=500; total time=   0.0s\n",
      "[CV 3/5] END max_depth=8, max_features=7, min_samples_split=500; total time=   0.0s\n",
      "[CV 4/5] END max_depth=8, max_features=7, min_samples_split=500; total time=   0.0s\n",
      "[CV 5/5] END max_depth=8, max_features=7, min_samples_split=500; total time=   0.0s\n",
      "[CV 1/5] END max_depth=8, max_features=7, min_samples_split=1000; total time=   0.0s\n",
      "[CV 2/5] END max_depth=8, max_features=7, min_samples_split=1000; total time=   0.0s\n",
      "[CV 3/5] END max_depth=8, max_features=7, min_samples_split=1000; total time=   0.0s\n",
      "[CV 4/5] END max_depth=8, max_features=7, min_samples_split=1000; total time=   0.0s\n",
      "[CV 5/5] END max_depth=8, max_features=7, min_samples_split=1000; total time=   0.0s\n",
      "[CV 1/5] END max_depth=8, max_features=9, min_samples_split=10; total time=   0.0s\n",
      "[CV 2/5] END max_depth=8, max_features=9, min_samples_split=10; total time=   0.0s\n",
      "[CV 3/5] END max_depth=8, max_features=9, min_samples_split=10; total time=   0.0s\n",
      "[CV 4/5] END max_depth=8, max_features=9, min_samples_split=10; total time=   0.0s\n",
      "[CV 5/5] END max_depth=8, max_features=9, min_samples_split=10; total time=   0.0s\n",
      "[CV 1/5] END max_depth=8, max_features=9, min_samples_split=50; total time=   0.0s\n",
      "[CV 2/5] END max_depth=8, max_features=9, min_samples_split=50; total time=   0.0s\n",
      "[CV 3/5] END max_depth=8, max_features=9, min_samples_split=50; total time=   0.0s\n",
      "[CV 4/5] END max_depth=8, max_features=9, min_samples_split=50; total time=   0.0s\n",
      "[CV 5/5] END max_depth=8, max_features=9, min_samples_split=50; total time=   0.0s\n",
      "[CV 1/5] END max_depth=8, max_features=9, min_samples_split=100; total time=   0.0s\n",
      "[CV 2/5] END max_depth=8, max_features=9, min_samples_split=100; total time=   0.0s\n",
      "[CV 3/5] END max_depth=8, max_features=9, min_samples_split=100; total time=   0.0s\n",
      "[CV 4/5] END max_depth=8, max_features=9, min_samples_split=100; total time=   0.0s\n",
      "[CV 5/5] END max_depth=8, max_features=9, min_samples_split=100; total time=   0.0s\n",
      "[CV 1/5] END max_depth=8, max_features=9, min_samples_split=200; total time=   0.0s\n",
      "[CV 2/5] END max_depth=8, max_features=9, min_samples_split=200; total time=   0.0s\n",
      "[CV 3/5] END max_depth=8, max_features=9, min_samples_split=200; total time=   0.0s\n",
      "[CV 4/5] END max_depth=8, max_features=9, min_samples_split=200; total time=   0.0s\n",
      "[CV 5/5] END max_depth=8, max_features=9, min_samples_split=200; total time=   0.0s\n",
      "[CV 1/5] END max_depth=8, max_features=9, min_samples_split=300; total time=   0.0s\n",
      "[CV 2/5] END max_depth=8, max_features=9, min_samples_split=300; total time=   0.0s\n",
      "[CV 3/5] END max_depth=8, max_features=9, min_samples_split=300; total time=   0.0s\n",
      "[CV 4/5] END max_depth=8, max_features=9, min_samples_split=300; total time=   0.0s\n",
      "[CV 5/5] END max_depth=8, max_features=9, min_samples_split=300; total time=   0.0s\n",
      "[CV 1/5] END max_depth=8, max_features=9, min_samples_split=500; total time=   0.0s\n",
      "[CV 2/5] END max_depth=8, max_features=9, min_samples_split=500; total time=   0.0s\n",
      "[CV 3/5] END max_depth=8, max_features=9, min_samples_split=500; total time=   0.0s\n",
      "[CV 4/5] END max_depth=8, max_features=9, min_samples_split=500; total time=   0.0s\n",
      "[CV 5/5] END max_depth=8, max_features=9, min_samples_split=500; total time=   0.0s\n",
      "[CV 1/5] END max_depth=8, max_features=9, min_samples_split=1000; total time=   0.0s\n",
      "[CV 2/5] END max_depth=8, max_features=9, min_samples_split=1000; total time=   0.0s\n",
      "[CV 3/5] END max_depth=8, max_features=9, min_samples_split=1000; total time=   0.0s\n",
      "[CV 4/5] END max_depth=8, max_features=9, min_samples_split=1000; total time=   0.0s\n",
      "[CV 5/5] END max_depth=8, max_features=9, min_samples_split=1000; total time=   0.0s\n",
      "[CV 1/5] END max_depth=8, max_features=11, min_samples_split=10; total time=   0.0s\n",
      "[CV 2/5] END max_depth=8, max_features=11, min_samples_split=10; total time=   0.0s\n",
      "[CV 3/5] END max_depth=8, max_features=11, min_samples_split=10; total time=   0.0s\n",
      "[CV 4/5] END max_depth=8, max_features=11, min_samples_split=10; total time=   0.0s\n",
      "[CV 5/5] END max_depth=8, max_features=11, min_samples_split=10; total time=   0.0s\n",
      "[CV 1/5] END max_depth=8, max_features=11, min_samples_split=50; total time=   0.0s\n",
      "[CV 2/5] END max_depth=8, max_features=11, min_samples_split=50; total time=   0.0s\n",
      "[CV 3/5] END max_depth=8, max_features=11, min_samples_split=50; total time=   0.0s\n",
      "[CV 4/5] END max_depth=8, max_features=11, min_samples_split=50; total time=   0.0s\n",
      "[CV 5/5] END max_depth=8, max_features=11, min_samples_split=50; total time=   0.0s\n",
      "[CV 1/5] END max_depth=8, max_features=11, min_samples_split=100; total time=   0.0s\n",
      "[CV 2/5] END max_depth=8, max_features=11, min_samples_split=100; total time=   0.0s\n",
      "[CV 3/5] END max_depth=8, max_features=11, min_samples_split=100; total time=   0.0s\n",
      "[CV 4/5] END max_depth=8, max_features=11, min_samples_split=100; total time=   0.0s\n",
      "[CV 5/5] END max_depth=8, max_features=11, min_samples_split=100; total time=   0.0s\n",
      "[CV 1/5] END max_depth=8, max_features=11, min_samples_split=200; total time=   0.0s\n",
      "[CV 2/5] END max_depth=8, max_features=11, min_samples_split=200; total time=   0.0s\n",
      "[CV 3/5] END max_depth=8, max_features=11, min_samples_split=200; total time=   0.0s\n",
      "[CV 4/5] END max_depth=8, max_features=11, min_samples_split=200; total time=   0.0s\n",
      "[CV 5/5] END max_depth=8, max_features=11, min_samples_split=200; total time=   0.0s\n"
     ]
    },
    {
     "name": "stdout",
     "output_type": "stream",
     "text": [
      "[CV 1/5] END max_depth=8, max_features=11, min_samples_split=300; total time=   0.0s\n",
      "[CV 2/5] END max_depth=8, max_features=11, min_samples_split=300; total time=   0.0s\n",
      "[CV 3/5] END max_depth=8, max_features=11, min_samples_split=300; total time=   0.0s\n",
      "[CV 4/5] END max_depth=8, max_features=11, min_samples_split=300; total time=   0.0s\n",
      "[CV 5/5] END max_depth=8, max_features=11, min_samples_split=300; total time=   0.0s\n",
      "[CV 1/5] END max_depth=8, max_features=11, min_samples_split=500; total time=   0.0s\n",
      "[CV 2/5] END max_depth=8, max_features=11, min_samples_split=500; total time=   0.0s\n",
      "[CV 3/5] END max_depth=8, max_features=11, min_samples_split=500; total time=   0.0s\n",
      "[CV 4/5] END max_depth=8, max_features=11, min_samples_split=500; total time=   0.0s\n",
      "[CV 5/5] END max_depth=8, max_features=11, min_samples_split=500; total time=   0.0s\n",
      "[CV 1/5] END max_depth=8, max_features=11, min_samples_split=1000; total time=   0.0s\n",
      "[CV 2/5] END max_depth=8, max_features=11, min_samples_split=1000; total time=   0.0s\n",
      "[CV 3/5] END max_depth=8, max_features=11, min_samples_split=1000; total time=   0.0s\n",
      "[CV 4/5] END max_depth=8, max_features=11, min_samples_split=1000; total time=   0.0s\n",
      "[CV 5/5] END max_depth=8, max_features=11, min_samples_split=1000; total time=   0.0s\n",
      "[CV 1/5] END max_depth=10, max_features=5, min_samples_split=10; total time=   0.0s\n",
      "[CV 2/5] END max_depth=10, max_features=5, min_samples_split=10; total time=   0.0s\n",
      "[CV 3/5] END max_depth=10, max_features=5, min_samples_split=10; total time=   0.0s\n",
      "[CV 4/5] END max_depth=10, max_features=5, min_samples_split=10; total time=   0.0s\n",
      "[CV 5/5] END max_depth=10, max_features=5, min_samples_split=10; total time=   0.0s\n",
      "[CV 1/5] END max_depth=10, max_features=5, min_samples_split=50; total time=   0.0s\n",
      "[CV 2/5] END max_depth=10, max_features=5, min_samples_split=50; total time=   0.0s\n",
      "[CV 3/5] END max_depth=10, max_features=5, min_samples_split=50; total time=   0.0s\n",
      "[CV 4/5] END max_depth=10, max_features=5, min_samples_split=50; total time=   0.0s\n",
      "[CV 5/5] END max_depth=10, max_features=5, min_samples_split=50; total time=   0.0s\n",
      "[CV 1/5] END max_depth=10, max_features=5, min_samples_split=100; total time=   0.0s\n",
      "[CV 2/5] END max_depth=10, max_features=5, min_samples_split=100; total time=   0.0s\n",
      "[CV 3/5] END max_depth=10, max_features=5, min_samples_split=100; total time=   0.0s\n",
      "[CV 4/5] END max_depth=10, max_features=5, min_samples_split=100; total time=   0.0s\n",
      "[CV 5/5] END max_depth=10, max_features=5, min_samples_split=100; total time=   0.0s\n",
      "[CV 1/5] END max_depth=10, max_features=5, min_samples_split=200; total time=   0.0s\n",
      "[CV 2/5] END max_depth=10, max_features=5, min_samples_split=200; total time=   0.0s\n",
      "[CV 3/5] END max_depth=10, max_features=5, min_samples_split=200; total time=   0.0s\n",
      "[CV 4/5] END max_depth=10, max_features=5, min_samples_split=200; total time=   0.0s\n",
      "[CV 5/5] END max_depth=10, max_features=5, min_samples_split=200; total time=   0.0s\n",
      "[CV 1/5] END max_depth=10, max_features=5, min_samples_split=300; total time=   0.0s\n",
      "[CV 2/5] END max_depth=10, max_features=5, min_samples_split=300; total time=   0.0s\n",
      "[CV 3/5] END max_depth=10, max_features=5, min_samples_split=300; total time=   0.0s\n",
      "[CV 4/5] END max_depth=10, max_features=5, min_samples_split=300; total time=   0.0s\n",
      "[CV 5/5] END max_depth=10, max_features=5, min_samples_split=300; total time=   0.0s\n",
      "[CV 1/5] END max_depth=10, max_features=5, min_samples_split=500; total time=   0.0s\n",
      "[CV 2/5] END max_depth=10, max_features=5, min_samples_split=500; total time=   0.0s\n",
      "[CV 3/5] END max_depth=10, max_features=5, min_samples_split=500; total time=   0.0s\n",
      "[CV 4/5] END max_depth=10, max_features=5, min_samples_split=500; total time=   0.0s\n",
      "[CV 5/5] END max_depth=10, max_features=5, min_samples_split=500; total time=   0.0s\n",
      "[CV 1/5] END max_depth=10, max_features=5, min_samples_split=1000; total time=   0.0s\n",
      "[CV 2/5] END max_depth=10, max_features=5, min_samples_split=1000; total time=   0.0s\n",
      "[CV 3/5] END max_depth=10, max_features=5, min_samples_split=1000; total time=   0.0s\n",
      "[CV 4/5] END max_depth=10, max_features=5, min_samples_split=1000; total time=   0.0s\n",
      "[CV 5/5] END max_depth=10, max_features=5, min_samples_split=1000; total time=   0.0s\n",
      "[CV 1/5] END max_depth=10, max_features=7, min_samples_split=10; total time=   0.0s\n",
      "[CV 2/5] END max_depth=10, max_features=7, min_samples_split=10; total time=   0.0s\n",
      "[CV 3/5] END max_depth=10, max_features=7, min_samples_split=10; total time=   0.0s\n",
      "[CV 4/5] END max_depth=10, max_features=7, min_samples_split=10; total time=   0.0s\n",
      "[CV 5/5] END max_depth=10, max_features=7, min_samples_split=10; total time=   0.0s\n",
      "[CV 1/5] END max_depth=10, max_features=7, min_samples_split=50; total time=   0.0s\n",
      "[CV 2/5] END max_depth=10, max_features=7, min_samples_split=50; total time=   0.0s\n",
      "[CV 3/5] END max_depth=10, max_features=7, min_samples_split=50; total time=   0.0s\n",
      "[CV 4/5] END max_depth=10, max_features=7, min_samples_split=50; total time=   0.0s\n",
      "[CV 5/5] END max_depth=10, max_features=7, min_samples_split=50; total time=   0.0s\n",
      "[CV 1/5] END max_depth=10, max_features=7, min_samples_split=100; total time=   0.0s\n",
      "[CV 2/5] END max_depth=10, max_features=7, min_samples_split=100; total time=   0.0s\n",
      "[CV 3/5] END max_depth=10, max_features=7, min_samples_split=100; total time=   0.0s\n",
      "[CV 4/5] END max_depth=10, max_features=7, min_samples_split=100; total time=   0.0s\n",
      "[CV 5/5] END max_depth=10, max_features=7, min_samples_split=100; total time=   0.0s\n",
      "[CV 1/5] END max_depth=10, max_features=7, min_samples_split=200; total time=   0.0s\n",
      "[CV 2/5] END max_depth=10, max_features=7, min_samples_split=200; total time=   0.0s\n",
      "[CV 3/5] END max_depth=10, max_features=7, min_samples_split=200; total time=   0.0s\n",
      "[CV 4/5] END max_depth=10, max_features=7, min_samples_split=200; total time=   0.0s\n",
      "[CV 5/5] END max_depth=10, max_features=7, min_samples_split=200; total time=   0.0s\n",
      "[CV 1/5] END max_depth=10, max_features=7, min_samples_split=300; total time=   0.0s\n",
      "[CV 2/5] END max_depth=10, max_features=7, min_samples_split=300; total time=   0.0s\n",
      "[CV 3/5] END max_depth=10, max_features=7, min_samples_split=300; total time=   0.0s\n",
      "[CV 4/5] END max_depth=10, max_features=7, min_samples_split=300; total time=   0.0s\n",
      "[CV 5/5] END max_depth=10, max_features=7, min_samples_split=300; total time=   0.0s\n",
      "[CV 1/5] END max_depth=10, max_features=7, min_samples_split=500; total time=   0.0s\n",
      "[CV 2/5] END max_depth=10, max_features=7, min_samples_split=500; total time=   0.0s\n",
      "[CV 3/5] END max_depth=10, max_features=7, min_samples_split=500; total time=   0.0s\n",
      "[CV 4/5] END max_depth=10, max_features=7, min_samples_split=500; total time=   0.0s\n",
      "[CV 5/5] END max_depth=10, max_features=7, min_samples_split=500; total time=   0.0s\n",
      "[CV 1/5] END max_depth=10, max_features=7, min_samples_split=1000; total time=   0.0s\n",
      "[CV 2/5] END max_depth=10, max_features=7, min_samples_split=1000; total time=   0.0s\n",
      "[CV 3/5] END max_depth=10, max_features=7, min_samples_split=1000; total time=   0.0s\n",
      "[CV 4/5] END max_depth=10, max_features=7, min_samples_split=1000; total time=   0.0s\n",
      "[CV 5/5] END max_depth=10, max_features=7, min_samples_split=1000; total time=   0.0s\n",
      "[CV 1/5] END max_depth=10, max_features=9, min_samples_split=10; total time=   0.0s\n",
      "[CV 2/5] END max_depth=10, max_features=9, min_samples_split=10; total time=   0.0s\n",
      "[CV 3/5] END max_depth=10, max_features=9, min_samples_split=10; total time=   0.0s\n",
      "[CV 4/5] END max_depth=10, max_features=9, min_samples_split=10; total time=   0.0s\n",
      "[CV 5/5] END max_depth=10, max_features=9, min_samples_split=10; total time=   0.0s\n",
      "[CV 1/5] END max_depth=10, max_features=9, min_samples_split=50; total time=   0.0s\n",
      "[CV 2/5] END max_depth=10, max_features=9, min_samples_split=50; total time=   0.0s\n",
      "[CV 3/5] END max_depth=10, max_features=9, min_samples_split=50; total time=   0.0s\n",
      "[CV 4/5] END max_depth=10, max_features=9, min_samples_split=50; total time=   0.0s\n",
      "[CV 5/5] END max_depth=10, max_features=9, min_samples_split=50; total time=   0.0s\n",
      "[CV 1/5] END max_depth=10, max_features=9, min_samples_split=100; total time=   0.0s\n",
      "[CV 2/5] END max_depth=10, max_features=9, min_samples_split=100; total time=   0.0s\n",
      "[CV 3/5] END max_depth=10, max_features=9, min_samples_split=100; total time=   0.0s\n",
      "[CV 4/5] END max_depth=10, max_features=9, min_samples_split=100; total time=   0.0s\n",
      "[CV 5/5] END max_depth=10, max_features=9, min_samples_split=100; total time=   0.0s\n",
      "[CV 1/5] END max_depth=10, max_features=9, min_samples_split=200; total time=   0.0s\n",
      "[CV 2/5] END max_depth=10, max_features=9, min_samples_split=200; total time=   0.0s\n",
      "[CV 3/5] END max_depth=10, max_features=9, min_samples_split=200; total time=   0.0s\n",
      "[CV 4/5] END max_depth=10, max_features=9, min_samples_split=200; total time=   0.0s\n"
     ]
    },
    {
     "name": "stdout",
     "output_type": "stream",
     "text": [
      "[CV 5/5] END max_depth=10, max_features=9, min_samples_split=200; total time=   0.0s\n",
      "[CV 1/5] END max_depth=10, max_features=9, min_samples_split=300; total time=   0.0s\n",
      "[CV 2/5] END max_depth=10, max_features=9, min_samples_split=300; total time=   0.0s\n",
      "[CV 3/5] END max_depth=10, max_features=9, min_samples_split=300; total time=   0.0s\n",
      "[CV 4/5] END max_depth=10, max_features=9, min_samples_split=300; total time=   0.0s\n",
      "[CV 5/5] END max_depth=10, max_features=9, min_samples_split=300; total time=   0.0s\n",
      "[CV 1/5] END max_depth=10, max_features=9, min_samples_split=500; total time=   0.0s\n",
      "[CV 2/5] END max_depth=10, max_features=9, min_samples_split=500; total time=   0.0s\n",
      "[CV 3/5] END max_depth=10, max_features=9, min_samples_split=500; total time=   0.0s\n",
      "[CV 4/5] END max_depth=10, max_features=9, min_samples_split=500; total time=   0.0s\n",
      "[CV 5/5] END max_depth=10, max_features=9, min_samples_split=500; total time=   0.0s\n",
      "[CV 1/5] END max_depth=10, max_features=9, min_samples_split=1000; total time=   0.0s\n",
      "[CV 2/5] END max_depth=10, max_features=9, min_samples_split=1000; total time=   0.0s\n",
      "[CV 3/5] END max_depth=10, max_features=9, min_samples_split=1000; total time=   0.0s\n",
      "[CV 4/5] END max_depth=10, max_features=9, min_samples_split=1000; total time=   0.0s\n",
      "[CV 5/5] END max_depth=10, max_features=9, min_samples_split=1000; total time=   0.0s\n",
      "[CV 1/5] END max_depth=10, max_features=11, min_samples_split=10; total time=   0.0s\n",
      "[CV 2/5] END max_depth=10, max_features=11, min_samples_split=10; total time=   0.0s\n",
      "[CV 3/5] END max_depth=10, max_features=11, min_samples_split=10; total time=   0.0s\n",
      "[CV 4/5] END max_depth=10, max_features=11, min_samples_split=10; total time=   0.0s\n",
      "[CV 5/5] END max_depth=10, max_features=11, min_samples_split=10; total time=   0.0s\n",
      "[CV 1/5] END max_depth=10, max_features=11, min_samples_split=50; total time=   0.0s\n",
      "[CV 2/5] END max_depth=10, max_features=11, min_samples_split=50; total time=   0.0s\n",
      "[CV 3/5] END max_depth=10, max_features=11, min_samples_split=50; total time=   0.0s\n",
      "[CV 4/5] END max_depth=10, max_features=11, min_samples_split=50; total time=   0.0s\n",
      "[CV 5/5] END max_depth=10, max_features=11, min_samples_split=50; total time=   0.0s\n",
      "[CV 1/5] END max_depth=10, max_features=11, min_samples_split=100; total time=   0.0s\n",
      "[CV 2/5] END max_depth=10, max_features=11, min_samples_split=100; total time=   0.0s\n",
      "[CV 3/5] END max_depth=10, max_features=11, min_samples_split=100; total time=   0.0s\n",
      "[CV 4/5] END max_depth=10, max_features=11, min_samples_split=100; total time=   0.0s\n",
      "[CV 5/5] END max_depth=10, max_features=11, min_samples_split=100; total time=   0.0s\n",
      "[CV 1/5] END max_depth=10, max_features=11, min_samples_split=200; total time=   0.0s\n",
      "[CV 2/5] END max_depth=10, max_features=11, min_samples_split=200; total time=   0.0s\n",
      "[CV 3/5] END max_depth=10, max_features=11, min_samples_split=200; total time=   0.0s\n",
      "[CV 4/5] END max_depth=10, max_features=11, min_samples_split=200; total time=   0.0s\n",
      "[CV 5/5] END max_depth=10, max_features=11, min_samples_split=200; total time=   0.0s\n",
      "[CV 1/5] END max_depth=10, max_features=11, min_samples_split=300; total time=   0.0s\n",
      "[CV 2/5] END max_depth=10, max_features=11, min_samples_split=300; total time=   0.0s\n",
      "[CV 3/5] END max_depth=10, max_features=11, min_samples_split=300; total time=   0.0s\n",
      "[CV 4/5] END max_depth=10, max_features=11, min_samples_split=300; total time=   0.0s\n",
      "[CV 5/5] END max_depth=10, max_features=11, min_samples_split=300; total time=   0.0s\n",
      "[CV 1/5] END max_depth=10, max_features=11, min_samples_split=500; total time=   0.0s\n",
      "[CV 2/5] END max_depth=10, max_features=11, min_samples_split=500; total time=   0.0s\n",
      "[CV 3/5] END max_depth=10, max_features=11, min_samples_split=500; total time=   0.0s\n",
      "[CV 4/5] END max_depth=10, max_features=11, min_samples_split=500; total time=   0.0s\n",
      "[CV 5/5] END max_depth=10, max_features=11, min_samples_split=500; total time=   0.0s\n",
      "[CV 1/5] END max_depth=10, max_features=11, min_samples_split=1000; total time=   0.0s\n",
      "[CV 2/5] END max_depth=10, max_features=11, min_samples_split=1000; total time=   0.0s\n",
      "[CV 3/5] END max_depth=10, max_features=11, min_samples_split=1000; total time=   0.0s\n",
      "[CV 4/5] END max_depth=10, max_features=11, min_samples_split=1000; total time=   0.0s\n",
      "[CV 5/5] END max_depth=10, max_features=11, min_samples_split=1000; total time=   0.0s\n",
      "[CV 1/5] END max_depth=12, max_features=5, min_samples_split=10; total time=   0.0s\n",
      "[CV 2/5] END max_depth=12, max_features=5, min_samples_split=10; total time=   0.0s\n",
      "[CV 3/5] END max_depth=12, max_features=5, min_samples_split=10; total time=   0.0s\n",
      "[CV 4/5] END max_depth=12, max_features=5, min_samples_split=10; total time=   0.0s\n",
      "[CV 5/5] END max_depth=12, max_features=5, min_samples_split=10; total time=   0.0s\n",
      "[CV 1/5] END max_depth=12, max_features=5, min_samples_split=50; total time=   0.0s\n",
      "[CV 2/5] END max_depth=12, max_features=5, min_samples_split=50; total time=   0.0s\n",
      "[CV 3/5] END max_depth=12, max_features=5, min_samples_split=50; total time=   0.0s\n",
      "[CV 4/5] END max_depth=12, max_features=5, min_samples_split=50; total time=   0.0s\n",
      "[CV 5/5] END max_depth=12, max_features=5, min_samples_split=50; total time=   0.0s\n",
      "[CV 1/5] END max_depth=12, max_features=5, min_samples_split=100; total time=   0.0s\n",
      "[CV 2/5] END max_depth=12, max_features=5, min_samples_split=100; total time=   0.0s\n",
      "[CV 3/5] END max_depth=12, max_features=5, min_samples_split=100; total time=   0.0s\n",
      "[CV 4/5] END max_depth=12, max_features=5, min_samples_split=100; total time=   0.0s\n",
      "[CV 5/5] END max_depth=12, max_features=5, min_samples_split=100; total time=   0.0s\n",
      "[CV 1/5] END max_depth=12, max_features=5, min_samples_split=200; total time=   0.0s\n",
      "[CV 2/5] END max_depth=12, max_features=5, min_samples_split=200; total time=   0.0s\n",
      "[CV 3/5] END max_depth=12, max_features=5, min_samples_split=200; total time=   0.0s\n",
      "[CV 4/5] END max_depth=12, max_features=5, min_samples_split=200; total time=   0.0s\n",
      "[CV 5/5] END max_depth=12, max_features=5, min_samples_split=200; total time=   0.0s\n",
      "[CV 1/5] END max_depth=12, max_features=5, min_samples_split=300; total time=   0.0s\n",
      "[CV 2/5] END max_depth=12, max_features=5, min_samples_split=300; total time=   0.0s\n",
      "[CV 3/5] END max_depth=12, max_features=5, min_samples_split=300; total time=   0.0s\n",
      "[CV 4/5] END max_depth=12, max_features=5, min_samples_split=300; total time=   0.0s\n",
      "[CV 5/5] END max_depth=12, max_features=5, min_samples_split=300; total time=   0.0s\n",
      "[CV 1/5] END max_depth=12, max_features=5, min_samples_split=500; total time=   0.0s\n",
      "[CV 2/5] END max_depth=12, max_features=5, min_samples_split=500; total time=   0.0s\n",
      "[CV 3/5] END max_depth=12, max_features=5, min_samples_split=500; total time=   0.0s\n",
      "[CV 4/5] END max_depth=12, max_features=5, min_samples_split=500; total time=   0.0s\n",
      "[CV 5/5] END max_depth=12, max_features=5, min_samples_split=500; total time=   0.0s\n",
      "[CV 1/5] END max_depth=12, max_features=5, min_samples_split=1000; total time=   0.0s\n",
      "[CV 2/5] END max_depth=12, max_features=5, min_samples_split=1000; total time=   0.0s\n",
      "[CV 3/5] END max_depth=12, max_features=5, min_samples_split=1000; total time=   0.0s\n",
      "[CV 4/5] END max_depth=12, max_features=5, min_samples_split=1000; total time=   0.0s\n",
      "[CV 5/5] END max_depth=12, max_features=5, min_samples_split=1000; total time=   0.0s\n",
      "[CV 1/5] END max_depth=12, max_features=7, min_samples_split=10; total time=   0.0s\n",
      "[CV 2/5] END max_depth=12, max_features=7, min_samples_split=10; total time=   0.0s\n",
      "[CV 3/5] END max_depth=12, max_features=7, min_samples_split=10; total time=   0.0s\n",
      "[CV 4/5] END max_depth=12, max_features=7, min_samples_split=10; total time=   0.0s\n",
      "[CV 5/5] END max_depth=12, max_features=7, min_samples_split=10; total time=   0.0s\n",
      "[CV 1/5] END max_depth=12, max_features=7, min_samples_split=50; total time=   0.0s\n",
      "[CV 2/5] END max_depth=12, max_features=7, min_samples_split=50; total time=   0.0s\n",
      "[CV 3/5] END max_depth=12, max_features=7, min_samples_split=50; total time=   0.0s\n",
      "[CV 4/5] END max_depth=12, max_features=7, min_samples_split=50; total time=   0.0s\n",
      "[CV 5/5] END max_depth=12, max_features=7, min_samples_split=50; total time=   0.0s\n",
      "[CV 1/5] END max_depth=12, max_features=7, min_samples_split=100; total time=   0.0s\n",
      "[CV 2/5] END max_depth=12, max_features=7, min_samples_split=100; total time=   0.0s\n",
      "[CV 3/5] END max_depth=12, max_features=7, min_samples_split=100; total time=   0.0s\n",
      "[CV 4/5] END max_depth=12, max_features=7, min_samples_split=100; total time=   0.0s\n",
      "[CV 5/5] END max_depth=12, max_features=7, min_samples_split=100; total time=   0.0s\n",
      "[CV 1/5] END max_depth=12, max_features=7, min_samples_split=200; total time=   0.0s\n"
     ]
    },
    {
     "name": "stdout",
     "output_type": "stream",
     "text": [
      "[CV 2/5] END max_depth=12, max_features=7, min_samples_split=200; total time=   0.0s\n",
      "[CV 3/5] END max_depth=12, max_features=7, min_samples_split=200; total time=   0.0s\n",
      "[CV 4/5] END max_depth=12, max_features=7, min_samples_split=200; total time=   0.0s\n",
      "[CV 5/5] END max_depth=12, max_features=7, min_samples_split=200; total time=   0.0s\n",
      "[CV 1/5] END max_depth=12, max_features=7, min_samples_split=300; total time=   0.0s\n",
      "[CV 2/5] END max_depth=12, max_features=7, min_samples_split=300; total time=   0.0s\n",
      "[CV 3/5] END max_depth=12, max_features=7, min_samples_split=300; total time=   0.0s\n",
      "[CV 4/5] END max_depth=12, max_features=7, min_samples_split=300; total time=   0.0s\n",
      "[CV 5/5] END max_depth=12, max_features=7, min_samples_split=300; total time=   0.0s\n",
      "[CV 1/5] END max_depth=12, max_features=7, min_samples_split=500; total time=   0.0s\n",
      "[CV 2/5] END max_depth=12, max_features=7, min_samples_split=500; total time=   0.0s\n",
      "[CV 3/5] END max_depth=12, max_features=7, min_samples_split=500; total time=   0.0s\n",
      "[CV 4/5] END max_depth=12, max_features=7, min_samples_split=500; total time=   0.0s\n",
      "[CV 5/5] END max_depth=12, max_features=7, min_samples_split=500; total time=   0.0s\n",
      "[CV 1/5] END max_depth=12, max_features=7, min_samples_split=1000; total time=   0.0s\n",
      "[CV 2/5] END max_depth=12, max_features=7, min_samples_split=1000; total time=   0.0s\n",
      "[CV 3/5] END max_depth=12, max_features=7, min_samples_split=1000; total time=   0.0s\n",
      "[CV 4/5] END max_depth=12, max_features=7, min_samples_split=1000; total time=   0.0s\n",
      "[CV 5/5] END max_depth=12, max_features=7, min_samples_split=1000; total time=   0.0s\n",
      "[CV 1/5] END max_depth=12, max_features=9, min_samples_split=10; total time=   0.0s\n",
      "[CV 2/5] END max_depth=12, max_features=9, min_samples_split=10; total time=   0.0s\n",
      "[CV 3/5] END max_depth=12, max_features=9, min_samples_split=10; total time=   0.0s\n",
      "[CV 4/5] END max_depth=12, max_features=9, min_samples_split=10; total time=   0.0s\n",
      "[CV 5/5] END max_depth=12, max_features=9, min_samples_split=10; total time=   0.0s\n",
      "[CV 1/5] END max_depth=12, max_features=9, min_samples_split=50; total time=   0.0s\n",
      "[CV 2/5] END max_depth=12, max_features=9, min_samples_split=50; total time=   0.0s\n",
      "[CV 3/5] END max_depth=12, max_features=9, min_samples_split=50; total time=   0.0s\n",
      "[CV 4/5] END max_depth=12, max_features=9, min_samples_split=50; total time=   0.0s\n",
      "[CV 5/5] END max_depth=12, max_features=9, min_samples_split=50; total time=   0.0s\n",
      "[CV 1/5] END max_depth=12, max_features=9, min_samples_split=100; total time=   0.0s\n",
      "[CV 2/5] END max_depth=12, max_features=9, min_samples_split=100; total time=   0.0s\n",
      "[CV 3/5] END max_depth=12, max_features=9, min_samples_split=100; total time=   0.0s\n",
      "[CV 4/5] END max_depth=12, max_features=9, min_samples_split=100; total time=   0.0s\n",
      "[CV 5/5] END max_depth=12, max_features=9, min_samples_split=100; total time=   0.0s\n",
      "[CV 1/5] END max_depth=12, max_features=9, min_samples_split=200; total time=   0.0s\n",
      "[CV 2/5] END max_depth=12, max_features=9, min_samples_split=200; total time=   0.0s\n",
      "[CV 3/5] END max_depth=12, max_features=9, min_samples_split=200; total time=   0.0s\n",
      "[CV 4/5] END max_depth=12, max_features=9, min_samples_split=200; total time=   0.0s\n",
      "[CV 5/5] END max_depth=12, max_features=9, min_samples_split=200; total time=   0.0s\n",
      "[CV 1/5] END max_depth=12, max_features=9, min_samples_split=300; total time=   0.0s\n",
      "[CV 2/5] END max_depth=12, max_features=9, min_samples_split=300; total time=   0.0s\n",
      "[CV 3/5] END max_depth=12, max_features=9, min_samples_split=300; total time=   0.0s\n",
      "[CV 4/5] END max_depth=12, max_features=9, min_samples_split=300; total time=   0.0s\n",
      "[CV 5/5] END max_depth=12, max_features=9, min_samples_split=300; total time=   0.0s\n",
      "[CV 1/5] END max_depth=12, max_features=9, min_samples_split=500; total time=   0.0s\n",
      "[CV 2/5] END max_depth=12, max_features=9, min_samples_split=500; total time=   0.0s\n",
      "[CV 3/5] END max_depth=12, max_features=9, min_samples_split=500; total time=   0.0s\n",
      "[CV 4/5] END max_depth=12, max_features=9, min_samples_split=500; total time=   0.0s\n",
      "[CV 5/5] END max_depth=12, max_features=9, min_samples_split=500; total time=   0.0s\n",
      "[CV 1/5] END max_depth=12, max_features=9, min_samples_split=1000; total time=   0.0s\n",
      "[CV 2/5] END max_depth=12, max_features=9, min_samples_split=1000; total time=   0.0s\n",
      "[CV 3/5] END max_depth=12, max_features=9, min_samples_split=1000; total time=   0.0s\n",
      "[CV 4/5] END max_depth=12, max_features=9, min_samples_split=1000; total time=   0.0s\n",
      "[CV 5/5] END max_depth=12, max_features=9, min_samples_split=1000; total time=   0.0s\n",
      "[CV 1/5] END max_depth=12, max_features=11, min_samples_split=10; total time=   0.0s\n",
      "[CV 2/5] END max_depth=12, max_features=11, min_samples_split=10; total time=   0.0s\n",
      "[CV 3/5] END max_depth=12, max_features=11, min_samples_split=10; total time=   0.0s\n",
      "[CV 4/5] END max_depth=12, max_features=11, min_samples_split=10; total time=   0.0s\n",
      "[CV 5/5] END max_depth=12, max_features=11, min_samples_split=10; total time=   0.0s\n",
      "[CV 1/5] END max_depth=12, max_features=11, min_samples_split=50; total time=   0.0s\n",
      "[CV 2/5] END max_depth=12, max_features=11, min_samples_split=50; total time=   0.0s\n",
      "[CV 3/5] END max_depth=12, max_features=11, min_samples_split=50; total time=   0.0s\n",
      "[CV 4/5] END max_depth=12, max_features=11, min_samples_split=50; total time=   0.0s\n",
      "[CV 5/5] END max_depth=12, max_features=11, min_samples_split=50; total time=   0.0s\n",
      "[CV 1/5] END max_depth=12, max_features=11, min_samples_split=100; total time=   0.0s\n",
      "[CV 2/5] END max_depth=12, max_features=11, min_samples_split=100; total time=   0.0s\n",
      "[CV 3/5] END max_depth=12, max_features=11, min_samples_split=100; total time=   0.0s\n",
      "[CV 4/5] END max_depth=12, max_features=11, min_samples_split=100; total time=   0.0s\n",
      "[CV 5/5] END max_depth=12, max_features=11, min_samples_split=100; total time=   0.0s\n",
      "[CV 1/5] END max_depth=12, max_features=11, min_samples_split=200; total time=   0.0s\n",
      "[CV 2/5] END max_depth=12, max_features=11, min_samples_split=200; total time=   0.0s\n",
      "[CV 3/5] END max_depth=12, max_features=11, min_samples_split=200; total time=   0.0s\n",
      "[CV 4/5] END max_depth=12, max_features=11, min_samples_split=200; total time=   0.0s\n",
      "[CV 5/5] END max_depth=12, max_features=11, min_samples_split=200; total time=   0.0s\n",
      "[CV 1/5] END max_depth=12, max_features=11, min_samples_split=300; total time=   0.0s\n",
      "[CV 2/5] END max_depth=12, max_features=11, min_samples_split=300; total time=   0.0s\n",
      "[CV 3/5] END max_depth=12, max_features=11, min_samples_split=300; total time=   0.0s\n",
      "[CV 4/5] END max_depth=12, max_features=11, min_samples_split=300; total time=   0.0s\n",
      "[CV 5/5] END max_depth=12, max_features=11, min_samples_split=300; total time=   0.0s\n",
      "[CV 1/5] END max_depth=12, max_features=11, min_samples_split=500; total time=   0.0s\n",
      "[CV 2/5] END max_depth=12, max_features=11, min_samples_split=500; total time=   0.0s\n",
      "[CV 3/5] END max_depth=12, max_features=11, min_samples_split=500; total time=   0.0s\n",
      "[CV 4/5] END max_depth=12, max_features=11, min_samples_split=500; total time=   0.0s\n",
      "[CV 5/5] END max_depth=12, max_features=11, min_samples_split=500; total time=   0.0s\n",
      "[CV 1/5] END max_depth=12, max_features=11, min_samples_split=1000; total time=   0.0s\n",
      "[CV 2/5] END max_depth=12, max_features=11, min_samples_split=1000; total time=   0.0s\n",
      "[CV 3/5] END max_depth=12, max_features=11, min_samples_split=1000; total time=   0.0s\n",
      "[CV 4/5] END max_depth=12, max_features=11, min_samples_split=1000; total time=   0.0s\n",
      "[CV 5/5] END max_depth=12, max_features=11, min_samples_split=1000; total time=   0.0s\n",
      "CPU times: user 11.2 s, sys: 60.8 ms, total: 11.3 s\n",
      "Wall time: 11.3 s\n"
     ]
    },
    {
     "data": {
      "text/plain": [
       "GridSearchCV(cv=5, estimator=DecisionTreeRegressor(),\n",
       "             param_grid={'max_depth': [2, 4, 6, 8, 10, 12],\n",
       "                         'max_features': [5, 7, 9, 11],\n",
       "                         'min_samples_split': [10, 50, 100, 200, 300, 500,\n",
       "                                               1000]},\n",
       "             return_train_score=True, scoring='neg_mean_squared_error',\n",
       "             verbose=3)"
      ]
     },
     "execution_count": 96,
     "metadata": {},
     "output_type": "execute_result"
    }
   ],
   "source": [
    "%%time\n",
    "# %% es un \"cell magic\"\n",
    "gs.fit(X_train, y_train)"
   ]
  },
  {
   "cell_type": "code",
   "execution_count": 97,
   "metadata": {},
   "outputs": [],
   "source": [
    "grid_search_results = pd.DataFrame(gs.cv_results_)"
   ]
  },
  {
   "cell_type": "code",
   "execution_count": 98,
   "metadata": {},
   "outputs": [
    {
     "data": {
      "text/plain": [
       "Index(['mean_fit_time', 'std_fit_time', 'mean_score_time', 'std_score_time',\n",
       "       'param_max_depth', 'param_max_features', 'param_min_samples_split',\n",
       "       'params', 'split0_test_score', 'split1_test_score', 'split2_test_score',\n",
       "       'split3_test_score', 'split4_test_score', 'mean_test_score',\n",
       "       'std_test_score', 'rank_test_score', 'split0_train_score',\n",
       "       'split1_train_score', 'split2_train_score', 'split3_train_score',\n",
       "       'split4_train_score', 'mean_train_score', 'std_train_score'],\n",
       "      dtype='object')"
      ]
     },
     "execution_count": 98,
     "metadata": {},
     "output_type": "execute_result"
    }
   ],
   "source": [
    "grid_search_results.columns"
   ]
  },
  {
   "cell_type": "code",
   "execution_count": 100,
   "metadata": {},
   "outputs": [],
   "source": [
    "grid_search_results = grid_search_results[['param_max_depth', 'param_max_features', \n",
    "                                           'param_min_samples_split', 'mean_test_score', \n",
    "                                           'mean_train_score']]"
   ]
  },
  {
   "cell_type": "code",
   "execution_count": 101,
   "metadata": {},
   "outputs": [
    {
     "data": {
      "text/html": [
       "<div>\n",
       "<style scoped>\n",
       "    .dataframe tbody tr th:only-of-type {\n",
       "        vertical-align: middle;\n",
       "    }\n",
       "\n",
       "    .dataframe tbody tr th {\n",
       "        vertical-align: top;\n",
       "    }\n",
       "\n",
       "    .dataframe thead th {\n",
       "        text-align: right;\n",
       "    }\n",
       "</style>\n",
       "<table border=\"1\" class=\"dataframe\">\n",
       "  <thead>\n",
       "    <tr style=\"text-align: right;\">\n",
       "      <th></th>\n",
       "      <th>param_max_depth</th>\n",
       "      <th>param_max_features</th>\n",
       "      <th>param_min_samples_split</th>\n",
       "      <th>mean_test_score</th>\n",
       "      <th>mean_train_score</th>\n",
       "    </tr>\n",
       "  </thead>\n",
       "  <tbody>\n",
       "    <tr>\n",
       "      <th>2</th>\n",
       "      <td>2</td>\n",
       "      <td>5</td>\n",
       "      <td>100</td>\n",
       "      <td>-0.662678</td>\n",
       "      <td>-0.642041</td>\n",
       "    </tr>\n",
       "    <tr>\n",
       "      <th>12</th>\n",
       "      <td>2</td>\n",
       "      <td>7</td>\n",
       "      <td>500</td>\n",
       "      <td>-0.659768</td>\n",
       "      <td>-0.636970</td>\n",
       "    </tr>\n",
       "    <tr>\n",
       "      <th>140</th>\n",
       "      <td>12</td>\n",
       "      <td>5</td>\n",
       "      <td>10</td>\n",
       "      <td>-0.655969</td>\n",
       "      <td>-0.254307</td>\n",
       "    </tr>\n",
       "    <tr>\n",
       "      <th>6</th>\n",
       "      <td>2</td>\n",
       "      <td>5</td>\n",
       "      <td>1000</td>\n",
       "      <td>-0.648791</td>\n",
       "      <td>-0.647734</td>\n",
       "    </tr>\n",
       "    <tr>\n",
       "      <th>3</th>\n",
       "      <td>2</td>\n",
       "      <td>5</td>\n",
       "      <td>200</td>\n",
       "      <td>-0.648373</td>\n",
       "      <td>-0.626290</td>\n",
       "    </tr>\n",
       "    <tr>\n",
       "      <th>...</th>\n",
       "      <td>...</td>\n",
       "      <td>...</td>\n",
       "      <td>...</td>\n",
       "      <td>...</td>\n",
       "      <td>...</td>\n",
       "    </tr>\n",
       "    <tr>\n",
       "      <th>100</th>\n",
       "      <td>8</td>\n",
       "      <td>9</td>\n",
       "      <td>100</td>\n",
       "      <td>-0.548822</td>\n",
       "      <td>-0.458308</td>\n",
       "    </tr>\n",
       "    <tr>\n",
       "      <th>106</th>\n",
       "      <td>8</td>\n",
       "      <td>11</td>\n",
       "      <td>50</td>\n",
       "      <td>-0.547126</td>\n",
       "      <td>-0.418537</td>\n",
       "    </tr>\n",
       "    <tr>\n",
       "      <th>142</th>\n",
       "      <td>12</td>\n",
       "      <td>5</td>\n",
       "      <td>100</td>\n",
       "      <td>-0.544538</td>\n",
       "      <td>-0.436729</td>\n",
       "    </tr>\n",
       "    <tr>\n",
       "      <th>157</th>\n",
       "      <td>12</td>\n",
       "      <td>9</td>\n",
       "      <td>200</td>\n",
       "      <td>-0.542267</td>\n",
       "      <td>-0.475470</td>\n",
       "    </tr>\n",
       "    <tr>\n",
       "      <th>72</th>\n",
       "      <td>6</td>\n",
       "      <td>9</td>\n",
       "      <td>100</td>\n",
       "      <td>-0.541360</td>\n",
       "      <td>-0.483511</td>\n",
       "    </tr>\n",
       "  </tbody>\n",
       "</table>\n",
       "<p>168 rows × 5 columns</p>\n",
       "</div>"
      ],
      "text/plain": [
       "    param_max_depth param_max_features param_min_samples_split  \\\n",
       "2                 2                  5                     100   \n",
       "12                2                  7                     500   \n",
       "140              12                  5                      10   \n",
       "6                 2                  5                    1000   \n",
       "3                 2                  5                     200   \n",
       "..              ...                ...                     ...   \n",
       "100               8                  9                     100   \n",
       "106               8                 11                      50   \n",
       "142              12                  5                     100   \n",
       "157              12                  9                     200   \n",
       "72                6                  9                     100   \n",
       "\n",
       "     mean_test_score  mean_train_score  \n",
       "2          -0.662678         -0.642041  \n",
       "12         -0.659768         -0.636970  \n",
       "140        -0.655969         -0.254307  \n",
       "6          -0.648791         -0.647734  \n",
       "3          -0.648373         -0.626290  \n",
       "..               ...               ...  \n",
       "100        -0.548822         -0.458308  \n",
       "106        -0.547126         -0.418537  \n",
       "142        -0.544538         -0.436729  \n",
       "157        -0.542267         -0.475470  \n",
       "72         -0.541360         -0.483511  \n",
       "\n",
       "[168 rows x 5 columns]"
      ]
     },
     "execution_count": 101,
     "metadata": {},
     "output_type": "execute_result"
    }
   ],
   "source": [
    "grid_search_results.sort_values('mean_test_score')"
   ]
  },
  {
   "cell_type": "code",
   "execution_count": 103,
   "metadata": {},
   "outputs": [
    {
     "data": {
      "text/plain": [
       "{'max_depth': 6, 'max_features': 9, 'min_samples_split': 100}"
      ]
     },
     "execution_count": 103,
     "metadata": {},
     "output_type": "execute_result"
    }
   ],
   "source": [
    "gs.best_params_"
   ]
  },
  {
   "cell_type": "markdown",
   "metadata": {},
   "source": [
    "## Feature importance"
   ]
  },
  {
   "cell_type": "code",
   "execution_count": 105,
   "metadata": {},
   "outputs": [
    {
     "data": {
      "text/plain": [
       "Index(['fixed acidity', 'volatile acidity', 'citric acid', 'residual sugar',\n",
       "       'chlorides', 'free sulfur dioxide', 'total sulfur dioxide', 'density',\n",
       "       'pH', 'sulphates', 'alcohol'],\n",
       "      dtype='object')"
      ]
     },
     "execution_count": 105,
     "metadata": {},
     "output_type": "execute_result"
    }
   ],
   "source": [
    "df.columns[:-1]"
   ]
  },
  {
   "cell_type": "code",
   "execution_count": 127,
   "metadata": {},
   "outputs": [
    {
     "data": {
      "text/plain": [
       "alcohol                 0.562268\n",
       "volatile acidity        0.177741\n",
       "free sulfur dioxide     0.120056\n",
       "residual sugar          0.043066\n",
       "fixed acidity           0.042240\n",
       "pH                      0.025792\n",
       "total sulfur dioxide    0.010829\n",
       "chlorides               0.009571\n",
       "density                 0.008435\n",
       "citric acid             0.000000\n",
       "sulphates               0.000000\n",
       "dtype: float64"
      ]
     },
     "execution_count": 127,
     "metadata": {},
     "output_type": "execute_result"
    }
   ],
   "source": [
    "vals = pd.Series(gs.best_estimator_.feature_importances_,\n",
    "         index=df.columns[:-1]).sort_values(ascending=False)\n",
    "vals"
   ]
  },
  {
   "cell_type": "code",
   "execution_count": 128,
   "metadata": {},
   "outputs": [
    {
     "data": {
      "text/plain": [
       "<AxesSubplot:>"
      ]
     },
     "execution_count": 128,
     "metadata": {},
     "output_type": "execute_result"
    },
    {
     "data": {
      "image/png": "[encoded data removed]",
      "text/plain": [
       "<Figure size 432x288 with 1 Axes>"
      ]
     },
     "metadata": {
      "needs_background": "light"
     },
     "output_type": "display_data"
    }
   ],
   "source": [
    "sns.barplot(x=vals.values, y=vals.index)"
   ]
  },
  {
   "cell_type": "markdown",
   "metadata": {},
   "source": [
    "## Summary"
   ]
  },
  {
   "cell_type": "markdown",
   "metadata": {},
   "source": [
    " * Decision trees are useful for regression (`DecisionTreeRegressor`) and classification (`DecisionTreeClassifier`).\n",
    " * Their behavior is quite intuitive, interpretable, and explainable.\n",
    " \n",
    " * Decision trees overfit when `max_depth` becomes very big (too many individual leaves at the end)\n",
    " * Prevent overfitting (always, not only in tree based methods) by looking at test error\n",
    " \n",
    " * One decision tree is often not a very powerful ML algorithm\n",
    " * Decision trees are the building blocks of more advanced and superpowerful algorithms"
   ]
  },
  {
   "cell_type": "markdown",
   "metadata": {},
   "source": [
    "# Trees ensembles"
   ]
  },
  {
   "cell_type": "code",
   "execution_count": 129,
   "metadata": {},
   "outputs": [],
   "source": [
    "from sklearn.ensemble import RandomForestClassifier, GradientBoostingClassifier"
   ]
  },
  {
   "cell_type": "markdown",
   "metadata": {},
   "source": [
    "## The problem: detecting breast cancer"
   ]
  },
  {
   "cell_type": "code",
   "execution_count": 132,
   "metadata": {},
   "outputs": [],
   "source": [
    "df_cancer = pd.read_csv('../data/breast_cancer.csv')"
   ]
  },
  {
   "cell_type": "code",
   "execution_count": 134,
   "metadata": {},
   "outputs": [
    {
     "data": {
      "text/html": [
       "<div>\n",
       "<style scoped>\n",
       "    .dataframe tbody tr th:only-of-type {\n",
       "        vertical-align: middle;\n",
       "    }\n",
       "\n",
       "    .dataframe tbody tr th {\n",
       "        vertical-align: top;\n",
       "    }\n",
       "\n",
       "    .dataframe thead th {\n",
       "        text-align: right;\n",
       "    }\n",
       "</style>\n",
       "<table border=\"1\" class=\"dataframe\">\n",
       "  <thead>\n",
       "    <tr style=\"text-align: right;\">\n",
       "      <th></th>\n",
       "      <th>mean_radius</th>\n",
       "      <th>mean_texture</th>\n",
       "      <th>mean_perimeter</th>\n",
       "      <th>mean_area</th>\n",
       "      <th>mean_smoothness</th>\n",
       "      <th>mean_compactness</th>\n",
       "      <th>mean_concavity</th>\n",
       "      <th>mean_concave_points</th>\n",
       "      <th>mean_symmetry</th>\n",
       "      <th>mean_fractal_dimension</th>\n",
       "      <th>...</th>\n",
       "      <th>worst_texture</th>\n",
       "      <th>worst_perimeter</th>\n",
       "      <th>worst_area</th>\n",
       "      <th>worst_smoothness</th>\n",
       "      <th>worst_compactness</th>\n",
       "      <th>worst_concavity</th>\n",
       "      <th>worst_concave_points</th>\n",
       "      <th>worst_symmetry</th>\n",
       "      <th>worst_fractal_dimension</th>\n",
       "      <th>is_cancer</th>\n",
       "    </tr>\n",
       "  </thead>\n",
       "  <tbody>\n",
       "    <tr>\n",
       "      <th>0</th>\n",
       "      <td>17.99</td>\n",
       "      <td>10.38</td>\n",
       "      <td>122.80</td>\n",
       "      <td>1001.0</td>\n",
       "      <td>0.11840</td>\n",
       "      <td>0.27760</td>\n",
       "      <td>0.30010</td>\n",
       "      <td>0.14710</td>\n",
       "      <td>0.2419</td>\n",
       "      <td>0.07871</td>\n",
       "      <td>...</td>\n",
       "      <td>17.33</td>\n",
       "      <td>184.60</td>\n",
       "      <td>2019.0</td>\n",
       "      <td>0.16220</td>\n",
       "      <td>0.66560</td>\n",
       "      <td>0.7119</td>\n",
       "      <td>0.2654</td>\n",
       "      <td>0.4601</td>\n",
       "      <td>0.11890</td>\n",
       "      <td>1</td>\n",
       "    </tr>\n",
       "    <tr>\n",
       "      <th>1</th>\n",
       "      <td>20.57</td>\n",
       "      <td>17.77</td>\n",
       "      <td>132.90</td>\n",
       "      <td>1326.0</td>\n",
       "      <td>0.08474</td>\n",
       "      <td>0.07864</td>\n",
       "      <td>0.08690</td>\n",
       "      <td>0.07017</td>\n",
       "      <td>0.1812</td>\n",
       "      <td>0.05667</td>\n",
       "      <td>...</td>\n",
       "      <td>23.41</td>\n",
       "      <td>158.80</td>\n",
       "      <td>1956.0</td>\n",
       "      <td>0.12380</td>\n",
       "      <td>0.18660</td>\n",
       "      <td>0.2416</td>\n",
       "      <td>0.1860</td>\n",
       "      <td>0.2750</td>\n",
       "      <td>0.08902</td>\n",
       "      <td>1</td>\n",
       "    </tr>\n",
       "    <tr>\n",
       "      <th>2</th>\n",
       "      <td>19.69</td>\n",
       "      <td>21.25</td>\n",
       "      <td>130.00</td>\n",
       "      <td>1203.0</td>\n",
       "      <td>0.10960</td>\n",
       "      <td>0.15990</td>\n",
       "      <td>0.19740</td>\n",
       "      <td>0.12790</td>\n",
       "      <td>0.2069</td>\n",
       "      <td>0.05999</td>\n",
       "      <td>...</td>\n",
       "      <td>25.53</td>\n",
       "      <td>152.50</td>\n",
       "      <td>1709.0</td>\n",
       "      <td>0.14440</td>\n",
       "      <td>0.42450</td>\n",
       "      <td>0.4504</td>\n",
       "      <td>0.2430</td>\n",
       "      <td>0.3613</td>\n",
       "      <td>0.08758</td>\n",
       "      <td>1</td>\n",
       "    </tr>\n",
       "    <tr>\n",
       "      <th>3</th>\n",
       "      <td>11.42</td>\n",
       "      <td>20.38</td>\n",
       "      <td>77.58</td>\n",
       "      <td>386.1</td>\n",
       "      <td>0.14250</td>\n",
       "      <td>0.28390</td>\n",
       "      <td>0.24140</td>\n",
       "      <td>0.10520</td>\n",
       "      <td>0.2597</td>\n",
       "      <td>0.09744</td>\n",
       "      <td>...</td>\n",
       "      <td>26.50</td>\n",
       "      <td>98.87</td>\n",
       "      <td>567.7</td>\n",
       "      <td>0.20980</td>\n",
       "      <td>0.86630</td>\n",
       "      <td>0.6869</td>\n",
       "      <td>0.2575</td>\n",
       "      <td>0.6638</td>\n",
       "      <td>0.17300</td>\n",
       "      <td>1</td>\n",
       "    </tr>\n",
       "    <tr>\n",
       "      <th>4</th>\n",
       "      <td>20.29</td>\n",
       "      <td>14.34</td>\n",
       "      <td>135.10</td>\n",
       "      <td>1297.0</td>\n",
       "      <td>0.10030</td>\n",
       "      <td>0.13280</td>\n",
       "      <td>0.19800</td>\n",
       "      <td>0.10430</td>\n",
       "      <td>0.1809</td>\n",
       "      <td>0.05883</td>\n",
       "      <td>...</td>\n",
       "      <td>16.67</td>\n",
       "      <td>152.20</td>\n",
       "      <td>1575.0</td>\n",
       "      <td>0.13740</td>\n",
       "      <td>0.20500</td>\n",
       "      <td>0.4000</td>\n",
       "      <td>0.1625</td>\n",
       "      <td>0.2364</td>\n",
       "      <td>0.07678</td>\n",
       "      <td>1</td>\n",
       "    </tr>\n",
       "    <tr>\n",
       "      <th>...</th>\n",
       "      <td>...</td>\n",
       "      <td>...</td>\n",
       "      <td>...</td>\n",
       "      <td>...</td>\n",
       "      <td>...</td>\n",
       "      <td>...</td>\n",
       "      <td>...</td>\n",
       "      <td>...</td>\n",
       "      <td>...</td>\n",
       "      <td>...</td>\n",
       "      <td>...</td>\n",
       "      <td>...</td>\n",
       "      <td>...</td>\n",
       "      <td>...</td>\n",
       "      <td>...</td>\n",
       "      <td>...</td>\n",
       "      <td>...</td>\n",
       "      <td>...</td>\n",
       "      <td>...</td>\n",
       "      <td>...</td>\n",
       "      <td>...</td>\n",
       "    </tr>\n",
       "    <tr>\n",
       "      <th>564</th>\n",
       "      <td>21.56</td>\n",
       "      <td>22.39</td>\n",
       "      <td>142.00</td>\n",
       "      <td>1479.0</td>\n",
       "      <td>0.11100</td>\n",
       "      <td>0.11590</td>\n",
       "      <td>0.24390</td>\n",
       "      <td>0.13890</td>\n",
       "      <td>0.1726</td>\n",
       "      <td>0.05623</td>\n",
       "      <td>...</td>\n",
       "      <td>26.40</td>\n",
       "      <td>166.10</td>\n",
       "      <td>2027.0</td>\n",
       "      <td>0.14100</td>\n",
       "      <td>0.21130</td>\n",
       "      <td>0.4107</td>\n",
       "      <td>0.2216</td>\n",
       "      <td>0.2060</td>\n",
       "      <td>0.07115</td>\n",
       "      <td>1</td>\n",
       "    </tr>\n",
       "    <tr>\n",
       "      <th>565</th>\n",
       "      <td>20.13</td>\n",
       "      <td>28.25</td>\n",
       "      <td>131.20</td>\n",
       "      <td>1261.0</td>\n",
       "      <td>0.09780</td>\n",
       "      <td>0.10340</td>\n",
       "      <td>0.14400</td>\n",
       "      <td>0.09791</td>\n",
       "      <td>0.1752</td>\n",
       "      <td>0.05533</td>\n",
       "      <td>...</td>\n",
       "      <td>38.25</td>\n",
       "      <td>155.00</td>\n",
       "      <td>1731.0</td>\n",
       "      <td>0.11660</td>\n",
       "      <td>0.19220</td>\n",
       "      <td>0.3215</td>\n",
       "      <td>0.1628</td>\n",
       "      <td>0.2572</td>\n",
       "      <td>0.06637</td>\n",
       "      <td>1</td>\n",
       "    </tr>\n",
       "    <tr>\n",
       "      <th>566</th>\n",
       "      <td>16.60</td>\n",
       "      <td>28.08</td>\n",
       "      <td>108.30</td>\n",
       "      <td>858.1</td>\n",
       "      <td>0.08455</td>\n",
       "      <td>0.10230</td>\n",
       "      <td>0.09251</td>\n",
       "      <td>0.05302</td>\n",
       "      <td>0.1590</td>\n",
       "      <td>0.05648</td>\n",
       "      <td>...</td>\n",
       "      <td>34.12</td>\n",
       "      <td>126.70</td>\n",
       "      <td>1124.0</td>\n",
       "      <td>0.11390</td>\n",
       "      <td>0.30940</td>\n",
       "      <td>0.3403</td>\n",
       "      <td>0.1418</td>\n",
       "      <td>0.2218</td>\n",
       "      <td>0.07820</td>\n",
       "      <td>1</td>\n",
       "    </tr>\n",
       "    <tr>\n",
       "      <th>567</th>\n",
       "      <td>20.60</td>\n",
       "      <td>29.33</td>\n",
       "      <td>140.10</td>\n",
       "      <td>1265.0</td>\n",
       "      <td>0.11780</td>\n",
       "      <td>0.27700</td>\n",
       "      <td>0.35140</td>\n",
       "      <td>0.15200</td>\n",
       "      <td>0.2397</td>\n",
       "      <td>0.07016</td>\n",
       "      <td>...</td>\n",
       "      <td>39.42</td>\n",
       "      <td>184.60</td>\n",
       "      <td>1821.0</td>\n",
       "      <td>0.16500</td>\n",
       "      <td>0.86810</td>\n",
       "      <td>0.9387</td>\n",
       "      <td>0.2650</td>\n",
       "      <td>0.4087</td>\n",
       "      <td>0.12400</td>\n",
       "      <td>1</td>\n",
       "    </tr>\n",
       "    <tr>\n",
       "      <th>568</th>\n",
       "      <td>7.76</td>\n",
       "      <td>24.54</td>\n",
       "      <td>47.92</td>\n",
       "      <td>181.0</td>\n",
       "      <td>0.05263</td>\n",
       "      <td>0.04362</td>\n",
       "      <td>0.00000</td>\n",
       "      <td>0.00000</td>\n",
       "      <td>0.1587</td>\n",
       "      <td>0.05884</td>\n",
       "      <td>...</td>\n",
       "      <td>30.37</td>\n",
       "      <td>59.16</td>\n",
       "      <td>268.6</td>\n",
       "      <td>0.08996</td>\n",
       "      <td>0.06444</td>\n",
       "      <td>0.0000</td>\n",
       "      <td>0.0000</td>\n",
       "      <td>0.2871</td>\n",
       "      <td>0.07039</td>\n",
       "      <td>0</td>\n",
       "    </tr>\n",
       "  </tbody>\n",
       "</table>\n",
       "<p>569 rows × 31 columns</p>\n",
       "</div>"
      ],
      "text/plain": [
       "     mean_radius  mean_texture  mean_perimeter  mean_area  mean_smoothness  \\\n",
       "0          17.99         10.38          122.80     1001.0          0.11840   \n",
       "1          20.57         17.77          132.90     1326.0          0.08474   \n",
       "2          19.69         21.25          130.00     1203.0          0.10960   \n",
       "3          11.42         20.38           77.58      386.1          0.14250   \n",
       "4          20.29         14.34          135.10     1297.0          0.10030   \n",
       "..           ...           ...             ...        ...              ...   \n",
       "564        21.56         22.39          142.00     1479.0          0.11100   \n",
       "565        20.13         28.25          131.20     1261.0          0.09780   \n",
       "566        16.60         28.08          108.30      858.1          0.08455   \n",
       "567        20.60         29.33          140.10     1265.0          0.11780   \n",
       "568         7.76         24.54           47.92      181.0          0.05263   \n",
       "\n",
       "     mean_compactness  mean_concavity  mean_concave_points  mean_symmetry  \\\n",
       "0             0.27760         0.30010              0.14710         0.2419   \n",
       "1             0.07864         0.08690              0.07017         0.1812   \n",
       "2             0.15990         0.19740              0.12790         0.2069   \n",
       "3             0.28390         0.24140              0.10520         0.2597   \n",
       "4             0.13280         0.19800              0.10430         0.1809   \n",
       "..                ...             ...                  ...            ...   \n",
       "564           0.11590         0.24390              0.13890         0.1726   \n",
       "565           0.10340         0.14400              0.09791         0.1752   \n",
       "566           0.10230         0.09251              0.05302         0.1590   \n",
       "567           0.27700         0.35140              0.15200         0.2397   \n",
       "568           0.04362         0.00000              0.00000         0.1587   \n",
       "\n",
       "     mean_fractal_dimension  ...  worst_texture  worst_perimeter  worst_area  \\\n",
       "0                   0.07871  ...          17.33           184.60      2019.0   \n",
       "1                   0.05667  ...          23.41           158.80      1956.0   \n",
       "2                   0.05999  ...          25.53           152.50      1709.0   \n",
       "3                   0.09744  ...          26.50            98.87       567.7   \n",
       "4                   0.05883  ...          16.67           152.20      1575.0   \n",
       "..                      ...  ...            ...              ...         ...   \n",
       "564                 0.05623  ...          26.40           166.10      2027.0   \n",
       "565                 0.05533  ...          38.25           155.00      1731.0   \n",
       "566                 0.05648  ...          34.12           126.70      1124.0   \n",
       "567                 0.07016  ...          39.42           184.60      1821.0   \n",
       "568                 0.05884  ...          30.37            59.16       268.6   \n",
       "\n",
       "     worst_smoothness  worst_compactness  worst_concavity  \\\n",
       "0             0.16220            0.66560           0.7119   \n",
       "1             0.12380            0.18660           0.2416   \n",
       "2             0.14440            0.42450           0.4504   \n",
       "3             0.20980            0.86630           0.6869   \n",
       "4             0.13740            0.20500           0.4000   \n",
       "..                ...                ...              ...   \n",
       "564           0.14100            0.21130           0.4107   \n",
       "565           0.11660            0.19220           0.3215   \n",
       "566           0.11390            0.30940           0.3403   \n",
       "567           0.16500            0.86810           0.9387   \n",
       "568           0.08996            0.06444           0.0000   \n",
       "\n",
       "     worst_concave_points  worst_symmetry  worst_fractal_dimension  is_cancer  \n",
       "0                  0.2654          0.4601                  0.11890          1  \n",
       "1                  0.1860          0.2750                  0.08902          1  \n",
       "2                  0.2430          0.3613                  0.08758          1  \n",
       "3                  0.2575          0.6638                  0.17300          1  \n",
       "4                  0.1625          0.2364                  0.07678          1  \n",
       "..                    ...             ...                      ...        ...  \n",
       "564                0.2216          0.2060                  0.07115          1  \n",
       "565                0.1628          0.2572                  0.06637          1  \n",
       "566                0.1418          0.2218                  0.07820          1  \n",
       "567                0.2650          0.4087                  0.12400          1  \n",
       "568                0.0000          0.2871                  0.07039          0  \n",
       "\n",
       "[569 rows x 31 columns]"
      ]
     },
     "execution_count": 134,
     "metadata": {},
     "output_type": "execute_result"
    }
   ],
   "source": [
    "df_cancer"
   ]
  },
  {
   "cell_type": "code",
   "execution_count": 136,
   "metadata": {},
   "outputs": [],
   "source": [
    "X = df_cancer.drop('is_cancer', axis=1)\n",
    "y = df_cancer['is_cancer']\n",
    "\n",
    "X_train, X_test, y_train, y_test = train_test_split(X, y,\n",
    "                                                    test_size=0.2,\n",
    "                                                    random_state=123)"
   ]
  },
  {
   "cell_type": "code",
   "execution_count": 137,
   "metadata": {},
   "outputs": [
    {
     "data": {
      "text/plain": [
       "(455, 30)"
      ]
     },
     "execution_count": 137,
     "metadata": {},
     "output_type": "execute_result"
    }
   ],
   "source": [
    "X_train.shape"
   ]
  },
  {
   "cell_type": "markdown",
   "metadata": {},
   "source": [
    "## Random forest\n",
    "\n",
    "Random forests or random decision forests are an ensemble learning method for classification, regression and other tasks that operates by constructing a multitude of decision trees at training time and outputting the class that is the mode of the classes (classification) or mean/average prediction (regression) of the individual trees.\n",
    "\n",
    "Random decision forests correct for decision trees' habit of overfitting to their training set."
   ]
  },
  {
   "cell_type": "code",
   "execution_count": 139,
   "metadata": {},
   "outputs": [],
   "source": [
    "model = RandomForestClassifier()\n",
    "\n",
    "parameter_space = {\n",
    "    'n_estimators': [10, 100, 300, 900], # el numero de decision trees en mi random forest\n",
    "    'max_features': ['sqrt', 0.5, None], # el numero de columnas que coge (si es None, coge todas las columnas)\n",
    "    'max_depth': [1, 10, 30, 100],       # el numero de niveles en mi decision tree\n",
    "}\n",
    "\n",
    "grid_search = GridSearchCV(model,\n",
    "                           param_grid=parameter_space,\n",
    "                           verbose=1,\n",
    "                           cv=5\n",
    "                          )"
   ]
  },
  {
   "cell_type": "code",
   "execution_count": 140,
   "metadata": {},
   "outputs": [
    {
     "name": "stdout",
     "output_type": "stream",
     "text": [
      "Fitting 5 folds for each of 48 candidates, totalling 240 fits\n"
     ]
    },
    {
     "data": {
      "text/plain": [
       "GridSearchCV(cv=5, estimator=RandomForestClassifier(),\n",
       "             param_grid={'max_depth': [1, 10, 30, 100],\n",
       "                         'max_features': ['sqrt', 0.5, None],\n",
       "                         'n_estimators': [10, 100, 300, 900]},\n",
       "             verbose=1)"
      ]
     },
     "execution_count": 140,
     "metadata": {},
     "output_type": "execute_result"
    }
   ],
   "source": [
    "grid_search.fit(X_train, y_train)"
   ]
  },
  {
   "cell_type": "code",
   "execution_count": 141,
   "metadata": {},
   "outputs": [
    {
     "data": {
      "text/plain": [
       "0.9626373626373625"
      ]
     },
     "execution_count": 141,
     "metadata": {},
     "output_type": "execute_result"
    }
   ],
   "source": [
    "grid_search.best_score_"
   ]
  },
  {
   "cell_type": "code",
   "execution_count": 142,
   "metadata": {},
   "outputs": [
    {
     "data": {
      "text/plain": [
       "{'max_depth': 30, 'max_features': 0.5, 'n_estimators': 300}"
      ]
     },
     "execution_count": 142,
     "metadata": {},
     "output_type": "execute_result"
    }
   ],
   "source": [
    "grid_search.best_params_"
   ]
  },
  {
   "cell_type": "markdown",
   "metadata": {},
   "source": [
    "## Gradient Boosting\n",
    "\n",
    "Gradient boosting are specific types of algorithms that take a weak hypothesis or weak learning algorithm and make a series of tweaks to it that will improve the strength of the hypothesis/learner.\n",
    "\n",
    "The difference between random forest and gradient boosting is the speed at which they reach the optimal solution"
   ]
  },
  {
   "cell_type": "code",
   "execution_count": 149,
   "metadata": {},
   "outputs": [],
   "source": [
    "model = GradientBoostingClassifier(n_estimators=1000)\n",
    "\n",
    "\n",
    "params = {\n",
    "    'learning_rate': [0.1, 0.05, 0.01],\n",
    "    'max_depth': [4, 6],\n",
    "    'min_samples_leaf': [3, 9, 17],\n",
    "    'max_features': [1, 0.3, 0.1]\n",
    "}\n",
    "\n",
    "grid_search = GridSearchCV(model,\n",
    "                           param_grid=params,\n",
    "                           verbose=1,\n",
    "                           cv=2\n",
    "                          )"
   ]
  },
  {
   "cell_type": "code",
   "execution_count": 150,
   "metadata": {},
   "outputs": [
    {
     "name": "stdout",
     "output_type": "stream",
     "text": [
      "Fitting 2 folds for each of 54 candidates, totalling 108 fits\n"
     ]
    },
    {
     "data": {
      "text/plain": [
       "GridSearchCV(cv=2, estimator=GradientBoostingClassifier(n_estimators=1000),\n",
       "             param_grid={'learning_rate': [0.1, 0.05, 0.01],\n",
       "                         'max_depth': [4, 6], 'max_features': [1, 0.3, 0.1],\n",
       "                         'min_samples_leaf': [3, 9, 17]},\n",
       "             verbose=1)"
      ]
     },
     "execution_count": 150,
     "metadata": {},
     "output_type": "execute_result"
    }
   ],
   "source": [
    "grid_search.fit(X_train, y_train)"
   ]
  },
  {
   "cell_type": "markdown",
   "metadata": {},
   "source": [
    "## References\n",
    "* [Introduction to Statistical Learning ISL (Chapter 2)](http://faculty.marshall.usc.edu/gareth-james/ISL/ISLR%20Seventh%20Printing.pdf)\n",
    "* [repo from tdpetrou with materials from ISL](https://github.com/tdpetrou/Machine-Learning-Books-With-Python/tree/master/Introduction%20to%20Statistical%20Learning)\n",
    "\n",
    "* See [this post](https://towardsdatascience.com/decision-tree-ensembles-bagging-and-boosting-266a8ba60fd9) for an overview of the theory.\n",
    "\n",
    "* See [StatQuest](https://www.youtube.com/watch?v=3CC4N4z3GJc)  videos on the Boosting\n",
    "\n",
    "* CheckOut: XGBoost, LightGBM, CatBoost"
   ]
  },
  {
   "cell_type": "code",
   "execution_count": 155,
   "metadata": {},
   "outputs": [
    {
     "data": {
      "text/plain": [
       "mean_radius                  17.990000\n",
       "mean_texture                 10.380000\n",
       "mean_perimeter              122.800000\n",
       "mean_area                  1001.000000\n",
       "mean_smoothness               0.118400\n",
       "mean_compactness              0.277600\n",
       "mean_concavity                0.300100\n",
       "mean_concave_points           0.147100\n",
       "mean_symmetry                 0.241900\n",
       "mean_fractal_dimension        0.078710\n",
       "radius_error                  1.095000\n",
       "texture_error                 0.905300\n",
       "perimeter_error               8.589000\n",
       "area_error                  153.400000\n",
       "smoothness_error              0.006399\n",
       "compactness_error             0.049040\n",
       "concavity_error               0.053730\n",
       "concave_points_error          0.015870\n",
       "symmetry_error                0.030030\n",
       "fractal_dimension_error       0.006193\n",
       "worst_radius                 25.380000\n",
       "worst_texture                17.330000\n",
       "worst_perimeter             184.600000\n",
       "worst_area                 2019.000000\n",
       "worst_smoothness              0.162200\n",
       "worst_compactness             0.665600\n",
       "worst_concavity               0.711900\n",
       "worst_concave_points          0.265400\n",
       "worst_symmetry                0.460100\n",
       "worst_fractal_dimension       0.118900\n",
       "Name: 0, dtype: float64"
      ]
     },
     "execution_count": 155,
     "metadata": {},
     "output_type": "execute_result"
    }
   ],
   "source": [
    "df_cancer.iloc[0][:-1]"
   ]
  },
  {
   "cell_type": "code",
   "execution_count": 166,
   "metadata": {},
   "outputs": [
    {
     "data": {
      "text/html": [
       "<div>\n",
       "<style scoped>\n",
       "    .dataframe tbody tr th:only-of-type {\n",
       "        vertical-align: middle;\n",
       "    }\n",
       "\n",
       "    .dataframe tbody tr th {\n",
       "        vertical-align: top;\n",
       "    }\n",
       "\n",
       "    .dataframe thead th {\n",
       "        text-align: right;\n",
       "    }\n",
       "</style>\n",
       "<table border=\"1\" class=\"dataframe\">\n",
       "  <thead>\n",
       "    <tr style=\"text-align: right;\">\n",
       "      <th></th>\n",
       "      <th>mean_radius</th>\n",
       "      <th>mean_texture</th>\n",
       "      <th>mean_perimeter</th>\n",
       "      <th>mean_area</th>\n",
       "      <th>mean_smoothness</th>\n",
       "      <th>mean_compactness</th>\n",
       "      <th>mean_concavity</th>\n",
       "      <th>mean_concave_points</th>\n",
       "      <th>mean_symmetry</th>\n",
       "      <th>mean_fractal_dimension</th>\n",
       "      <th>...</th>\n",
       "      <th>worst_radius</th>\n",
       "      <th>worst_texture</th>\n",
       "      <th>worst_perimeter</th>\n",
       "      <th>worst_area</th>\n",
       "      <th>worst_smoothness</th>\n",
       "      <th>worst_compactness</th>\n",
       "      <th>worst_concavity</th>\n",
       "      <th>worst_concave_points</th>\n",
       "      <th>worst_symmetry</th>\n",
       "      <th>worst_fractal_dimension</th>\n",
       "    </tr>\n",
       "  </thead>\n",
       "  <tbody>\n",
       "    <tr>\n",
       "      <th>333</th>\n",
       "      <td>11.250</td>\n",
       "      <td>14.78</td>\n",
       "      <td>71.38</td>\n",
       "      <td>390.0</td>\n",
       "      <td>0.08306</td>\n",
       "      <td>0.04458</td>\n",
       "      <td>0.000974</td>\n",
       "      <td>0.002941</td>\n",
       "      <td>0.1773</td>\n",
       "      <td>0.06081</td>\n",
       "      <td>...</td>\n",
       "      <td>12.760</td>\n",
       "      <td>22.06</td>\n",
       "      <td>82.08</td>\n",
       "      <td>492.7</td>\n",
       "      <td>0.11660</td>\n",
       "      <td>0.09794</td>\n",
       "      <td>0.005518</td>\n",
       "      <td>0.016670</td>\n",
       "      <td>0.2815</td>\n",
       "      <td>0.07418</td>\n",
       "    </tr>\n",
       "    <tr>\n",
       "      <th>273</th>\n",
       "      <td>9.742</td>\n",
       "      <td>15.67</td>\n",
       "      <td>61.50</td>\n",
       "      <td>289.9</td>\n",
       "      <td>0.09037</td>\n",
       "      <td>0.04689</td>\n",
       "      <td>0.011030</td>\n",
       "      <td>0.014070</td>\n",
       "      <td>0.2081</td>\n",
       "      <td>0.06312</td>\n",
       "      <td>...</td>\n",
       "      <td>10.750</td>\n",
       "      <td>20.88</td>\n",
       "      <td>68.09</td>\n",
       "      <td>355.2</td>\n",
       "      <td>0.14670</td>\n",
       "      <td>0.09370</td>\n",
       "      <td>0.040430</td>\n",
       "      <td>0.051590</td>\n",
       "      <td>0.2841</td>\n",
       "      <td>0.08175</td>\n",
       "    </tr>\n",
       "    <tr>\n",
       "      <th>201</th>\n",
       "      <td>17.540</td>\n",
       "      <td>19.32</td>\n",
       "      <td>115.10</td>\n",
       "      <td>951.6</td>\n",
       "      <td>0.08968</td>\n",
       "      <td>0.11980</td>\n",
       "      <td>0.103600</td>\n",
       "      <td>0.074880</td>\n",
       "      <td>0.1506</td>\n",
       "      <td>0.05491</td>\n",
       "      <td>...</td>\n",
       "      <td>20.420</td>\n",
       "      <td>25.84</td>\n",
       "      <td>139.50</td>\n",
       "      <td>1239.0</td>\n",
       "      <td>0.13810</td>\n",
       "      <td>0.34200</td>\n",
       "      <td>0.350800</td>\n",
       "      <td>0.193900</td>\n",
       "      <td>0.2928</td>\n",
       "      <td>0.07867</td>\n",
       "    </tr>\n",
       "    <tr>\n",
       "      <th>178</th>\n",
       "      <td>13.010</td>\n",
       "      <td>22.22</td>\n",
       "      <td>82.01</td>\n",
       "      <td>526.4</td>\n",
       "      <td>0.06251</td>\n",
       "      <td>0.01938</td>\n",
       "      <td>0.001595</td>\n",
       "      <td>0.001852</td>\n",
       "      <td>0.1395</td>\n",
       "      <td>0.05234</td>\n",
       "      <td>...</td>\n",
       "      <td>14.000</td>\n",
       "      <td>29.02</td>\n",
       "      <td>88.18</td>\n",
       "      <td>608.8</td>\n",
       "      <td>0.08125</td>\n",
       "      <td>0.03432</td>\n",
       "      <td>0.007977</td>\n",
       "      <td>0.009259</td>\n",
       "      <td>0.2295</td>\n",
       "      <td>0.05843</td>\n",
       "    </tr>\n",
       "    <tr>\n",
       "      <th>85</th>\n",
       "      <td>18.460</td>\n",
       "      <td>18.52</td>\n",
       "      <td>121.10</td>\n",
       "      <td>1075.0</td>\n",
       "      <td>0.09874</td>\n",
       "      <td>0.10530</td>\n",
       "      <td>0.133500</td>\n",
       "      <td>0.087950</td>\n",
       "      <td>0.2132</td>\n",
       "      <td>0.06022</td>\n",
       "      <td>...</td>\n",
       "      <td>22.930</td>\n",
       "      <td>27.68</td>\n",
       "      <td>152.20</td>\n",
       "      <td>1603.0</td>\n",
       "      <td>0.13980</td>\n",
       "      <td>0.20890</td>\n",
       "      <td>0.315700</td>\n",
       "      <td>0.164200</td>\n",
       "      <td>0.3695</td>\n",
       "      <td>0.08579</td>\n",
       "    </tr>\n",
       "    <tr>\n",
       "      <th>...</th>\n",
       "      <td>...</td>\n",
       "      <td>...</td>\n",
       "      <td>...</td>\n",
       "      <td>...</td>\n",
       "      <td>...</td>\n",
       "      <td>...</td>\n",
       "      <td>...</td>\n",
       "      <td>...</td>\n",
       "      <td>...</td>\n",
       "      <td>...</td>\n",
       "      <td>...</td>\n",
       "      <td>...</td>\n",
       "      <td>...</td>\n",
       "      <td>...</td>\n",
       "      <td>...</td>\n",
       "      <td>...</td>\n",
       "      <td>...</td>\n",
       "      <td>...</td>\n",
       "      <td>...</td>\n",
       "      <td>...</td>\n",
       "      <td>...</td>\n",
       "    </tr>\n",
       "    <tr>\n",
       "      <th>179</th>\n",
       "      <td>12.810</td>\n",
       "      <td>13.06</td>\n",
       "      <td>81.29</td>\n",
       "      <td>508.8</td>\n",
       "      <td>0.08739</td>\n",
       "      <td>0.03774</td>\n",
       "      <td>0.009193</td>\n",
       "      <td>0.013300</td>\n",
       "      <td>0.1466</td>\n",
       "      <td>0.06133</td>\n",
       "      <td>...</td>\n",
       "      <td>13.630</td>\n",
       "      <td>16.15</td>\n",
       "      <td>86.70</td>\n",
       "      <td>570.7</td>\n",
       "      <td>0.11620</td>\n",
       "      <td>0.05445</td>\n",
       "      <td>0.027580</td>\n",
       "      <td>0.039900</td>\n",
       "      <td>0.1783</td>\n",
       "      <td>0.07319</td>\n",
       "    </tr>\n",
       "    <tr>\n",
       "      <th>192</th>\n",
       "      <td>9.720</td>\n",
       "      <td>18.22</td>\n",
       "      <td>60.73</td>\n",
       "      <td>288.1</td>\n",
       "      <td>0.06950</td>\n",
       "      <td>0.02344</td>\n",
       "      <td>0.000000</td>\n",
       "      <td>0.000000</td>\n",
       "      <td>0.1653</td>\n",
       "      <td>0.06447</td>\n",
       "      <td>...</td>\n",
       "      <td>9.968</td>\n",
       "      <td>20.83</td>\n",
       "      <td>62.25</td>\n",
       "      <td>303.8</td>\n",
       "      <td>0.07117</td>\n",
       "      <td>0.02729</td>\n",
       "      <td>0.000000</td>\n",
       "      <td>0.000000</td>\n",
       "      <td>0.1909</td>\n",
       "      <td>0.06559</td>\n",
       "    </tr>\n",
       "    <tr>\n",
       "      <th>246</th>\n",
       "      <td>13.200</td>\n",
       "      <td>17.43</td>\n",
       "      <td>84.13</td>\n",
       "      <td>541.6</td>\n",
       "      <td>0.07215</td>\n",
       "      <td>0.04524</td>\n",
       "      <td>0.043360</td>\n",
       "      <td>0.011050</td>\n",
       "      <td>0.1487</td>\n",
       "      <td>0.05635</td>\n",
       "      <td>...</td>\n",
       "      <td>13.940</td>\n",
       "      <td>27.82</td>\n",
       "      <td>88.28</td>\n",
       "      <td>602.0</td>\n",
       "      <td>0.11010</td>\n",
       "      <td>0.15080</td>\n",
       "      <td>0.229800</td>\n",
       "      <td>0.049700</td>\n",
       "      <td>0.2767</td>\n",
       "      <td>0.07198</td>\n",
       "    </tr>\n",
       "    <tr>\n",
       "      <th>211</th>\n",
       "      <td>11.840</td>\n",
       "      <td>18.94</td>\n",
       "      <td>75.51</td>\n",
       "      <td>428.0</td>\n",
       "      <td>0.08871</td>\n",
       "      <td>0.06900</td>\n",
       "      <td>0.026690</td>\n",
       "      <td>0.013930</td>\n",
       "      <td>0.1533</td>\n",
       "      <td>0.06057</td>\n",
       "      <td>...</td>\n",
       "      <td>13.300</td>\n",
       "      <td>24.99</td>\n",
       "      <td>85.22</td>\n",
       "      <td>546.3</td>\n",
       "      <td>0.12800</td>\n",
       "      <td>0.18800</td>\n",
       "      <td>0.147100</td>\n",
       "      <td>0.069130</td>\n",
       "      <td>0.2535</td>\n",
       "      <td>0.07993</td>\n",
       "    </tr>\n",
       "    <tr>\n",
       "      <th>72</th>\n",
       "      <td>17.200</td>\n",
       "      <td>24.52</td>\n",
       "      <td>114.20</td>\n",
       "      <td>929.4</td>\n",
       "      <td>0.10710</td>\n",
       "      <td>0.18300</td>\n",
       "      <td>0.169200</td>\n",
       "      <td>0.079440</td>\n",
       "      <td>0.1927</td>\n",
       "      <td>0.06487</td>\n",
       "      <td>...</td>\n",
       "      <td>23.320</td>\n",
       "      <td>33.82</td>\n",
       "      <td>151.60</td>\n",
       "      <td>1681.0</td>\n",
       "      <td>0.15850</td>\n",
       "      <td>0.73940</td>\n",
       "      <td>0.656600</td>\n",
       "      <td>0.189900</td>\n",
       "      <td>0.3313</td>\n",
       "      <td>0.13390</td>\n",
       "    </tr>\n",
       "  </tbody>\n",
       "</table>\n",
       "<p>114 rows × 30 columns</p>\n",
       "</div>"
      ],
      "text/plain": [
       "     mean_radius  mean_texture  mean_perimeter  mean_area  mean_smoothness  \\\n",
       "333       11.250         14.78           71.38      390.0          0.08306   \n",
       "273        9.742         15.67           61.50      289.9          0.09037   \n",
       "201       17.540         19.32          115.10      951.6          0.08968   \n",
       "178       13.010         22.22           82.01      526.4          0.06251   \n",
       "85        18.460         18.52          121.10     1075.0          0.09874   \n",
       "..           ...           ...             ...        ...              ...   \n",
       "179       12.810         13.06           81.29      508.8          0.08739   \n",
       "192        9.720         18.22           60.73      288.1          0.06950   \n",
       "246       13.200         17.43           84.13      541.6          0.07215   \n",
       "211       11.840         18.94           75.51      428.0          0.08871   \n",
       "72        17.200         24.52          114.20      929.4          0.10710   \n",
       "\n",
       "     mean_compactness  mean_concavity  mean_concave_points  mean_symmetry  \\\n",
       "333           0.04458        0.000974             0.002941         0.1773   \n",
       "273           0.04689        0.011030             0.014070         0.2081   \n",
       "201           0.11980        0.103600             0.074880         0.1506   \n",
       "178           0.01938        0.001595             0.001852         0.1395   \n",
       "85            0.10530        0.133500             0.087950         0.2132   \n",
       "..                ...             ...                  ...            ...   \n",
       "179           0.03774        0.009193             0.013300         0.1466   \n",
       "192           0.02344        0.000000             0.000000         0.1653   \n",
       "246           0.04524        0.043360             0.011050         0.1487   \n",
       "211           0.06900        0.026690             0.013930         0.1533   \n",
       "72            0.18300        0.169200             0.079440         0.1927   \n",
       "\n",
       "     mean_fractal_dimension  ...  worst_radius  worst_texture  \\\n",
       "333                 0.06081  ...        12.760          22.06   \n",
       "273                 0.06312  ...        10.750          20.88   \n",
       "201                 0.05491  ...        20.420          25.84   \n",
       "178                 0.05234  ...        14.000          29.02   \n",
       "85                  0.06022  ...        22.930          27.68   \n",
       "..                      ...  ...           ...            ...   \n",
       "179                 0.06133  ...        13.630          16.15   \n",
       "192                 0.06447  ...         9.968          20.83   \n",
       "246                 0.05635  ...        13.940          27.82   \n",
       "211                 0.06057  ...        13.300          24.99   \n",
       "72                  0.06487  ...        23.320          33.82   \n",
       "\n",
       "     worst_perimeter  worst_area  worst_smoothness  worst_compactness  \\\n",
       "333            82.08       492.7           0.11660            0.09794   \n",
       "273            68.09       355.2           0.14670            0.09370   \n",
       "201           139.50      1239.0           0.13810            0.34200   \n",
       "178            88.18       608.8           0.08125            0.03432   \n",
       "85            152.20      1603.0           0.13980            0.20890   \n",
       "..               ...         ...               ...                ...   \n",
       "179            86.70       570.7           0.11620            0.05445   \n",
       "192            62.25       303.8           0.07117            0.02729   \n",
       "246            88.28       602.0           0.11010            0.15080   \n",
       "211            85.22       546.3           0.12800            0.18800   \n",
       "72            151.60      1681.0           0.15850            0.73940   \n",
       "\n",
       "     worst_concavity  worst_concave_points  worst_symmetry  \\\n",
       "333         0.005518              0.016670          0.2815   \n",
       "273         0.040430              0.051590          0.2841   \n",
       "201         0.350800              0.193900          0.2928   \n",
       "178         0.007977              0.009259          0.2295   \n",
       "85          0.315700              0.164200          0.3695   \n",
       "..               ...                   ...             ...   \n",
       "179         0.027580              0.039900          0.1783   \n",
       "192         0.000000              0.000000          0.1909   \n",
       "246         0.229800              0.049700          0.2767   \n",
       "211         0.147100              0.069130          0.2535   \n",
       "72          0.656600              0.189900          0.3313   \n",
       "\n",
       "     worst_fractal_dimension  \n",
       "333                  0.07418  \n",
       "273                  0.08175  \n",
       "201                  0.07867  \n",
       "178                  0.05843  \n",
       "85                   0.08579  \n",
       "..                       ...  \n",
       "179                  0.07319  \n",
       "192                  0.06559  \n",
       "246                  0.07198  \n",
       "211                  0.07993  \n",
       "72                   0.13390  \n",
       "\n",
       "[114 rows x 30 columns]"
      ]
     },
     "execution_count": 166,
     "metadata": {},
     "output_type": "execute_result"
    }
   ],
   "source": [
    "X_test"
   ]
  },
  {
   "cell_type": "code",
   "execution_count": 163,
   "metadata": {},
   "outputs": [],
   "source": [
    "val = np.array( X_test.iloc[0] )"
   ]
  },
  {
   "cell_type": "code",
   "execution_count": 165,
   "metadata": {},
   "outputs": [
    {
     "ename": "NotFittedError",
     "evalue": "This GradientBoostingClassifier instance is not fitted yet. Call 'fit' with appropriate arguments before using this estimator.",
     "output_type": "error",
     "traceback": [
      "\u001b[0;31m----------------------------------------------------------------\u001b[0m",
      "\u001b[0;31mNotFittedError\u001b[0m                 Traceback (most recent call last)",
      "\u001b[0;32m<ipython-input-165-decd67bbf386>\u001b[0m in \u001b[0;36m<module>\u001b[0;34m\u001b[0m\n\u001b[0;32m----> 1\u001b[0;31m \u001b[0mmodel\u001b[0m\u001b[0;34m.\u001b[0m\u001b[0mpredict\u001b[0m\u001b[0;34m(\u001b[0m\u001b[0mX_test\u001b[0m\u001b[0;34m)\u001b[0m\u001b[0;34m\u001b[0m\u001b[0;34m\u001b[0m\u001b[0m\n\u001b[0m",
      "\u001b[0;32m~/anaconda3/envs/latestPy/lib/python3.9/site-packages/sklearn/ensemble/_gb.py\u001b[0m in \u001b[0;36mpredict\u001b[0;34m(self, X)\u001b[0m\n\u001b[1;32m   1186\u001b[0m             \u001b[0mThe\u001b[0m \u001b[0mpredicted\u001b[0m \u001b[0mvalues\u001b[0m\u001b[0;34m.\u001b[0m\u001b[0;34m\u001b[0m\u001b[0;34m\u001b[0m\u001b[0m\n\u001b[1;32m   1187\u001b[0m         \"\"\"\n\u001b[0;32m-> 1188\u001b[0;31m         \u001b[0mraw_predictions\u001b[0m \u001b[0;34m=\u001b[0m \u001b[0mself\u001b[0m\u001b[0;34m.\u001b[0m\u001b[0mdecision_function\u001b[0m\u001b[0;34m(\u001b[0m\u001b[0mX\u001b[0m\u001b[0;34m)\u001b[0m\u001b[0;34m\u001b[0m\u001b[0;34m\u001b[0m\u001b[0m\n\u001b[0m\u001b[1;32m   1189\u001b[0m         \u001b[0mencoded_labels\u001b[0m \u001b[0;34m=\u001b[0m\u001b[0;31m \u001b[0m\u001b[0;31m\\\u001b[0m\u001b[0;34m\u001b[0m\u001b[0;34m\u001b[0m\u001b[0m\n\u001b[1;32m   1190\u001b[0m             \u001b[0mself\u001b[0m\u001b[0;34m.\u001b[0m\u001b[0mloss_\u001b[0m\u001b[0;34m.\u001b[0m\u001b[0m_raw_prediction_to_decision\u001b[0m\u001b[0;34m(\u001b[0m\u001b[0mraw_predictions\u001b[0m\u001b[0;34m)\u001b[0m\u001b[0;34m\u001b[0m\u001b[0;34m\u001b[0m\u001b[0m\n",
      "\u001b[0;32m~/anaconda3/envs/latestPy/lib/python3.9/site-packages/sklearn/ensemble/_gb.py\u001b[0m in \u001b[0;36mdecision_function\u001b[0;34m(self, X)\u001b[0m\n\u001b[1;32m   1142\u001b[0m         \"\"\"\n\u001b[1;32m   1143\u001b[0m         \u001b[0mX\u001b[0m \u001b[0;34m=\u001b[0m \u001b[0mcheck_array\u001b[0m\u001b[0;34m(\u001b[0m\u001b[0mX\u001b[0m\u001b[0;34m,\u001b[0m \u001b[0mdtype\u001b[0m\u001b[0;34m=\u001b[0m\u001b[0mDTYPE\u001b[0m\u001b[0;34m,\u001b[0m \u001b[0morder\u001b[0m\u001b[0;34m=\u001b[0m\u001b[0;34m\"C\"\u001b[0m\u001b[0;34m,\u001b[0m \u001b[0maccept_sparse\u001b[0m\u001b[0;34m=\u001b[0m\u001b[0;34m'csr'\u001b[0m\u001b[0;34m)\u001b[0m\u001b[0;34m\u001b[0m\u001b[0;34m\u001b[0m\u001b[0m\n\u001b[0;32m-> 1144\u001b[0;31m         \u001b[0mraw_predictions\u001b[0m \u001b[0;34m=\u001b[0m \u001b[0mself\u001b[0m\u001b[0;34m.\u001b[0m\u001b[0m_raw_predict\u001b[0m\u001b[0;34m(\u001b[0m\u001b[0mX\u001b[0m\u001b[0;34m)\u001b[0m\u001b[0;34m\u001b[0m\u001b[0;34m\u001b[0m\u001b[0m\n\u001b[0m\u001b[1;32m   1145\u001b[0m         \u001b[0;32mif\u001b[0m \u001b[0mraw_predictions\u001b[0m\u001b[0;34m.\u001b[0m\u001b[0mshape\u001b[0m\u001b[0;34m[\u001b[0m\u001b[0;36m1\u001b[0m\u001b[0;34m]\u001b[0m \u001b[0;34m==\u001b[0m \u001b[0;36m1\u001b[0m\u001b[0;34m:\u001b[0m\u001b[0;34m\u001b[0m\u001b[0;34m\u001b[0m\u001b[0m\n\u001b[1;32m   1146\u001b[0m             \u001b[0;32mreturn\u001b[0m \u001b[0mraw_predictions\u001b[0m\u001b[0;34m.\u001b[0m\u001b[0mravel\u001b[0m\u001b[0;34m(\u001b[0m\u001b[0;34m)\u001b[0m\u001b[0;34m\u001b[0m\u001b[0;34m\u001b[0m\u001b[0m\n",
      "\u001b[0;32m~/anaconda3/envs/latestPy/lib/python3.9/site-packages/sklearn/ensemble/_gb.py\u001b[0m in \u001b[0;36m_raw_predict\u001b[0;34m(self, X)\u001b[0m\n\u001b[1;32m    622\u001b[0m     \u001b[0;32mdef\u001b[0m \u001b[0m_raw_predict\u001b[0m\u001b[0;34m(\u001b[0m\u001b[0mself\u001b[0m\u001b[0;34m,\u001b[0m \u001b[0mX\u001b[0m\u001b[0;34m)\u001b[0m\u001b[0;34m:\u001b[0m\u001b[0;34m\u001b[0m\u001b[0;34m\u001b[0m\u001b[0m\n\u001b[1;32m    623\u001b[0m         \u001b[0;34m\"\"\"Return the sum of the trees raw predictions (+ init estimator).\"\"\"\u001b[0m\u001b[0;34m\u001b[0m\u001b[0;34m\u001b[0m\u001b[0m\n\u001b[0;32m--> 624\u001b[0;31m         \u001b[0mraw_predictions\u001b[0m \u001b[0;34m=\u001b[0m \u001b[0mself\u001b[0m\u001b[0;34m.\u001b[0m\u001b[0m_raw_predict_init\u001b[0m\u001b[0;34m(\u001b[0m\u001b[0mX\u001b[0m\u001b[0;34m)\u001b[0m\u001b[0;34m\u001b[0m\u001b[0;34m\u001b[0m\u001b[0m\n\u001b[0m\u001b[1;32m    625\u001b[0m         predict_stages(self.estimators_, X, self.learning_rate,\n\u001b[1;32m    626\u001b[0m                        raw_predictions)\n",
      "\u001b[0;32m~/anaconda3/envs/latestPy/lib/python3.9/site-packages/sklearn/ensemble/_gb.py\u001b[0m in \u001b[0;36m_raw_predict_init\u001b[0;34m(self, X)\u001b[0m\n\u001b[1;32m    607\u001b[0m     \u001b[0;32mdef\u001b[0m \u001b[0m_raw_predict_init\u001b[0m\u001b[0;34m(\u001b[0m\u001b[0mself\u001b[0m\u001b[0;34m,\u001b[0m \u001b[0mX\u001b[0m\u001b[0;34m)\u001b[0m\u001b[0;34m:\u001b[0m\u001b[0;34m\u001b[0m\u001b[0;34m\u001b[0m\u001b[0m\n\u001b[1;32m    608\u001b[0m         \u001b[0;34m\"\"\"Check input and compute raw predictions of the init estimator.\"\"\"\u001b[0m\u001b[0;34m\u001b[0m\u001b[0;34m\u001b[0m\u001b[0m\n\u001b[0;32m--> 609\u001b[0;31m         \u001b[0mself\u001b[0m\u001b[0;34m.\u001b[0m\u001b[0m_check_initialized\u001b[0m\u001b[0;34m(\u001b[0m\u001b[0;34m)\u001b[0m\u001b[0;34m\u001b[0m\u001b[0;34m\u001b[0m\u001b[0m\n\u001b[0m\u001b[1;32m    610\u001b[0m         \u001b[0mX\u001b[0m \u001b[0;34m=\u001b[0m \u001b[0mself\u001b[0m\u001b[0;34m.\u001b[0m\u001b[0mestimators_\u001b[0m\u001b[0;34m[\u001b[0m\u001b[0;36m0\u001b[0m\u001b[0;34m,\u001b[0m \u001b[0;36m0\u001b[0m\u001b[0;34m]\u001b[0m\u001b[0;34m.\u001b[0m\u001b[0m_validate_X_predict\u001b[0m\u001b[0;34m(\u001b[0m\u001b[0mX\u001b[0m\u001b[0;34m,\u001b[0m \u001b[0mcheck_input\u001b[0m\u001b[0;34m=\u001b[0m\u001b[0;32mTrue\u001b[0m\u001b[0;34m)\u001b[0m\u001b[0;34m\u001b[0m\u001b[0;34m\u001b[0m\u001b[0m\n\u001b[1;32m    611\u001b[0m         \u001b[0;32mif\u001b[0m \u001b[0mX\u001b[0m\u001b[0;34m.\u001b[0m\u001b[0mshape\u001b[0m\u001b[0;34m[\u001b[0m\u001b[0;36m1\u001b[0m\u001b[0;34m]\u001b[0m \u001b[0;34m!=\u001b[0m \u001b[0mself\u001b[0m\u001b[0;34m.\u001b[0m\u001b[0mn_features_\u001b[0m\u001b[0;34m:\u001b[0m\u001b[0;34m\u001b[0m\u001b[0;34m\u001b[0m\u001b[0m\n",
      "\u001b[0;32m~/anaconda3/envs/latestPy/lib/python3.9/site-packages/sklearn/ensemble/_gb.py\u001b[0m in \u001b[0;36m_check_initialized\u001b[0;34m(self)\u001b[0m\n\u001b[1;32m    357\u001b[0m     \u001b[0;32mdef\u001b[0m \u001b[0m_check_initialized\u001b[0m\u001b[0;34m(\u001b[0m\u001b[0mself\u001b[0m\u001b[0;34m)\u001b[0m\u001b[0;34m:\u001b[0m\u001b[0;34m\u001b[0m\u001b[0;34m\u001b[0m\u001b[0m\n\u001b[1;32m    358\u001b[0m         \u001b[0;34m\"\"\"Check that the estimator is initialized, raising an error if not.\"\"\"\u001b[0m\u001b[0;34m\u001b[0m\u001b[0;34m\u001b[0m\u001b[0m\n\u001b[0;32m--> 359\u001b[0;31m         \u001b[0mcheck_is_fitted\u001b[0m\u001b[0;34m(\u001b[0m\u001b[0mself\u001b[0m\u001b[0;34m)\u001b[0m\u001b[0;34m\u001b[0m\u001b[0;34m\u001b[0m\u001b[0m\n\u001b[0m\u001b[1;32m    360\u001b[0m \u001b[0;34m\u001b[0m\u001b[0m\n\u001b[1;32m    361\u001b[0m     \u001b[0;34m@\u001b[0m\u001b[0mabstractmethod\u001b[0m\u001b[0;34m\u001b[0m\u001b[0;34m\u001b[0m\u001b[0m\n",
      "\u001b[0;32m~/anaconda3/envs/latestPy/lib/python3.9/site-packages/sklearn/utils/validation.py\u001b[0m in \u001b[0;36minner_f\u001b[0;34m(*args, **kwargs)\u001b[0m\n\u001b[1;32m     61\u001b[0m             \u001b[0mextra_args\u001b[0m \u001b[0;34m=\u001b[0m \u001b[0mlen\u001b[0m\u001b[0;34m(\u001b[0m\u001b[0margs\u001b[0m\u001b[0;34m)\u001b[0m \u001b[0;34m-\u001b[0m \u001b[0mlen\u001b[0m\u001b[0;34m(\u001b[0m\u001b[0mall_args\u001b[0m\u001b[0;34m)\u001b[0m\u001b[0;34m\u001b[0m\u001b[0;34m\u001b[0m\u001b[0m\n\u001b[1;32m     62\u001b[0m             \u001b[0;32mif\u001b[0m \u001b[0mextra_args\u001b[0m \u001b[0;34m<=\u001b[0m \u001b[0;36m0\u001b[0m\u001b[0;34m:\u001b[0m\u001b[0;34m\u001b[0m\u001b[0;34m\u001b[0m\u001b[0m\n\u001b[0;32m---> 63\u001b[0;31m                 \u001b[0;32mreturn\u001b[0m \u001b[0mf\u001b[0m\u001b[0;34m(\u001b[0m\u001b[0;34m*\u001b[0m\u001b[0margs\u001b[0m\u001b[0;34m,\u001b[0m \u001b[0;34m**\u001b[0m\u001b[0mkwargs\u001b[0m\u001b[0;34m)\u001b[0m\u001b[0;34m\u001b[0m\u001b[0;34m\u001b[0m\u001b[0m\n\u001b[0m\u001b[1;32m     64\u001b[0m \u001b[0;34m\u001b[0m\u001b[0m\n\u001b[1;32m     65\u001b[0m             \u001b[0;31m# extra_args > 0\u001b[0m\u001b[0;34m\u001b[0m\u001b[0;34m\u001b[0m\u001b[0;34m\u001b[0m\u001b[0m\n",
      "\u001b[0;32m~/anaconda3/envs/latestPy/lib/python3.9/site-packages/sklearn/utils/validation.py\u001b[0m in \u001b[0;36mcheck_is_fitted\u001b[0;34m(estimator, attributes, msg, all_or_any)\u001b[0m\n\u001b[1;32m   1039\u001b[0m \u001b[0;34m\u001b[0m\u001b[0m\n\u001b[1;32m   1040\u001b[0m     \u001b[0;32mif\u001b[0m \u001b[0;32mnot\u001b[0m \u001b[0mattrs\u001b[0m\u001b[0;34m:\u001b[0m\u001b[0;34m\u001b[0m\u001b[0;34m\u001b[0m\u001b[0m\n\u001b[0;32m-> 1041\u001b[0;31m         \u001b[0;32mraise\u001b[0m \u001b[0mNotFittedError\u001b[0m\u001b[0;34m(\u001b[0m\u001b[0mmsg\u001b[0m \u001b[0;34m%\u001b[0m \u001b[0;34m{\u001b[0m\u001b[0;34m'name'\u001b[0m\u001b[0;34m:\u001b[0m \u001b[0mtype\u001b[0m\u001b[0;34m(\u001b[0m\u001b[0mestimator\u001b[0m\u001b[0;34m)\u001b[0m\u001b[0;34m.\u001b[0m\u001b[0m__name__\u001b[0m\u001b[0;34m}\u001b[0m\u001b[0;34m)\u001b[0m\u001b[0;34m\u001b[0m\u001b[0;34m\u001b[0m\u001b[0m\n\u001b[0m\u001b[1;32m   1042\u001b[0m \u001b[0;34m\u001b[0m\u001b[0m\n\u001b[1;32m   1043\u001b[0m \u001b[0;34m\u001b[0m\u001b[0m\n",
      "\u001b[0;31mNotFittedError\u001b[0m: This GradientBoostingClassifier instance is not fitted yet. Call 'fit' with appropriate arguments before using this estimator."
     ]
    }
   ],
   "source": [
    "model.predict(X_test)"
   ]
  }
 ],
 "metadata": {
  "kernelspec": {
   "display_name": "Python 3",
   "language": "python",
   "name": "python3"
  },
  "language_info": {
   "codemirror_mode": {
    "name": "ipython",
    "version": 3
   },
   "file_extension": ".py",
   "mimetype": "text/x-python",
   "name": "python",
   "nbconvert_exporter": "python",
   "pygments_lexer": "ipython3",
   "version": "3.9.2"
  },
  "toc": {
   "base_numbering": 1,
   "nav_menu": {},
   "number_sections": true,
   "sideBar": true,
   "skip_h1_title": true,
   "title_cell": "Table of Contents",
   "title_sidebar": "Contents",
   "toc_cell": true,
   "toc_position": {},
   "toc_section_display": true,
   "toc_window_display": true
  },
  "varInspector": {
   "cols": {
    "lenName": 16,
    "lenType": 16,
    "lenVar": 40
   },
   "kernels_config": {
    "python": {
     "delete_cmd_postfix": "",
     "delete_cmd_prefix": "del ",
     "library": "var_list.py",
     "varRefreshCmd": "print(var_dic_list())"
    },
    "r": {
     "delete_cmd_postfix": ") ",
     "delete_cmd_prefix": "rm(",
     "library": "var_list.r",
     "varRefreshCmd": "cat(var_dic_list()) "
    }
   },
   "types_to_exclude": [
    "module",
    "function",
    "builtin_function_or_method",
    "instance",
    "_Feature"
   ],
   "window_display": false
  }
 },
 "nbformat": 4,
 "nbformat_minor": 4
}
