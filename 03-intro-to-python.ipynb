{
 "cells": [
  {
   "cell_type": "markdown",
   "metadata": {
    "toc": true
   },
   "source": [
    "<h1>Table of Contents<span class=\"tocSkip\"></span></h1>\n",
    "<div class=\"toc\"><ul class=\"toc-item\"><li><span><a href=\"#Python-introduction\" data-toc-modified-id=\"Python-introduction-1\"><span class=\"toc-item-num\">1&nbsp;&nbsp;</span>Python introduction</a></span></li><li><span><a href=\"#Different-interfaces\" data-toc-modified-id=\"Different-interfaces-2\"><span class=\"toc-item-num\">2&nbsp;&nbsp;</span>Different interfaces</a></span><ul class=\"toc-item\"><li><span><a href=\"#Python-Shell\" data-toc-modified-id=\"Python-Shell-2.1\"><span class=\"toc-item-num\">2.1&nbsp;&nbsp;</span>Python Shell</a></span></li><li><span><a href=\"#Running-a-script\" data-toc-modified-id=\"Running-a-script-2.2\"><span class=\"toc-item-num\">2.2&nbsp;&nbsp;</span>Running a script</a></span></li><li><span><a href=\"#IDE's,-Jupyter,-etc..:\" data-toc-modified-id=\"IDE's,-Jupyter,-etc..:-2.3\"><span class=\"toc-item-num\">2.3&nbsp;&nbsp;</span>IDE's, Jupyter, etc..:</a></span></li></ul></li><li><span><a href=\"#Syntax\" data-toc-modified-id=\"Syntax-3\"><span class=\"toc-item-num\">3&nbsp;&nbsp;</span>Syntax</a></span><ul class=\"toc-item\"><li><span><a href=\"#Variables\" data-toc-modified-id=\"Variables-3.1\"><span class=\"toc-item-num\">3.1&nbsp;&nbsp;</span>Variables</a></span><ul class=\"toc-item\"><li><span><a href=\"#Variables-have-different-types\" data-toc-modified-id=\"Variables-have-different-types-3.1.1\"><span class=\"toc-item-num\">3.1.1&nbsp;&nbsp;</span>Variables have different types</a></span></li><li><span><a href=\"#Basic-Data-types-in-Python\" data-toc-modified-id=\"Basic-Data-types-in-Python-3.1.2\"><span class=\"toc-item-num\">3.1.2&nbsp;&nbsp;</span>Basic Data types in Python</a></span></li></ul></li></ul></li><li><span><a href=\"#Operators\" data-toc-modified-id=\"Operators-4\"><span class=\"toc-item-num\">4&nbsp;&nbsp;</span>Operators</a></span><ul class=\"toc-item\"><li><span><a href=\"#Types-of-Operators\" data-toc-modified-id=\"Types-of-Operators-4.1\"><span class=\"toc-item-num\">4.1&nbsp;&nbsp;</span>Types of Operators</a></span></li></ul></li><li><span><a href=\"#Conditions\" data-toc-modified-id=\"Conditions-5\"><span class=\"toc-item-num\">5&nbsp;&nbsp;</span>Conditions</a></span></li><li><span><a href=\"#Loops\" data-toc-modified-id=\"Loops-6\"><span class=\"toc-item-num\">6&nbsp;&nbsp;</span>Loops</a></span></li><li><span><a href=\"#Functions\" data-toc-modified-id=\"Functions-7\"><span class=\"toc-item-num\">7&nbsp;&nbsp;</span>Functions</a></span></li></ul></div>"
   ]
  },
  {
   "cell_type": "markdown",
   "metadata": {},
   "source": [
    "## Python introduction\n",
    "\n",
    "- Python is a programming language\n",
    "- A High Level Programming language\n",
    "> - It has a high-level of abstraction (i.e.: we don't have to worry about what is going on inside our CPU and on the hardware itself).\n",
    "> - It is closer to natural language (English) than Machine Language (Machine Code)\n",
    "- It follows a imperative paradigm\n",
    "> - It is meant as a set of orders (commands) for the computer to execute.\n",
    "- Python code is nothing more than text! An interpreter is needed in order for the code to be acctually executed by the computer."
   ]
  },
  {
   "cell_type": "markdown",
   "metadata": {},
   "source": [
    "![](https://i.imgur.com/c0PRvvI.png)"
   ]
  },
  {
   "cell_type": "markdown",
   "metadata": {},
   "source": [
    "## Different interfaces\n",
    "\n",
    "We can write and execute python code though different interfaces.\n",
    "\n",
    "### Python Shell\n",
    "Executing `python` or `python3` on a terminal will usually open a shell interface where we can write and execute scripts.\n",
    "\n",
    "![](images/python_shell.png)\n",
    "\n",
    "### Running a script\n",
    "We can alternatively have our python code stored on a file, with a `.py` extension to indicate it contains python source code.\n",
    "This is executable by running `python3 <file_name>` on the terminal.\n",
    "\n",
    "You can use any text editor to create your script, even the notepad.\n",
    "\n",
    "### IDE's, Jupyter, etc..:\n",
    "There are tools more optimized to write code, such as VScode, PyCharm, etc.\n",
    "\n",
    "And then there are jupyter notebooks, with their python integration, meaning you can write code and see the outputs and also write documentation and markdown cells to make the whole document (notebook) better looking."
   ]
  },
  {
   "cell_type": "code",
   "execution_count": 1,
   "metadata": {},
   "outputs": [],
   "source": [
    "print(\"Hello World!\")"
   ]
  },
  {
   "cell_type": "markdown",
   "metadata": {},
   "source": [
    "## Syntax\n",
    "\n",
    "### Variables\n",
    "- Elements, objects, values (data) that are asigned to a name.\n",
    "- \"Boxes\" that contain something\n",
    "\n",
    "`To create a variable, we asign a value to this variable`\n",
    "- The operator responsable to assign variables is `=`.\n",
    "- To assign a variable in python, we only need it's value.\n",
    "- There is no need of specifying the data type as in other programming languages\n",
    "- Variables are mutable. If we reasign over the same name, only the last value will be stored."
   ]
  },
  {
   "cell_type": "code",
   "execution_count": 2,
   "metadata": {},
   "outputs": [],
   "source": [
    "x = 1\n",
    "print(x)"
   ]
  },
  {
   "cell_type": "code",
   "execution_count": 3,
   "metadata": {},
   "outputs": [
    {
     "name": "stdout",
     "output_type": "stream",
     "text": [
      "hola\n"
     ]
    }
   ],
   "source": [
    "y = \"hola\"\n",
    "print(y)"
   ]
  },
  {
   "cell_type": "markdown",
   "metadata": {},
   "source": [
    "#### Variables have different types"
   ]
  },
  {
   "cell_type": "code",
   "execution_count": 4,
   "metadata": {},
   "outputs": [
    {
     "data": {
      "text/plain": [
       "int"
      ]
     },
     "execution_count": 4,
     "metadata": {},
     "output_type": "execute_result"
    }
   ],
   "source": [
    "type(x)"
   ]
  },
  {
   "cell_type": "code",
   "execution_count": 5,
   "metadata": {},
   "outputs": [
    {
     "data": {
      "text/plain": [
       "str"
      ]
     },
     "execution_count": 5,
     "metadata": {},
     "output_type": "execute_result"
    }
   ],
   "source": [
    "type(y)"
   ]
  },
  {
   "cell_type": "markdown",
   "metadata": {},
   "source": [
    "#### Basic Data types in Python\n",
    "- Numeric\n",
    ">- Integer (`int`)\n",
    ">- Decimal (`float`)\n",
    ">    - Floating decimal point\n",
    ">- Complex Number (`complex`)\n",
    "- Boolean (`bool`)\n",
    ">- True\n",
    ">- False\n",
    "- Sequences\n",
    ">- Ordered sequences.\n",
    ">- Elements may be accessed with their index.\n",
    ">- `lst[5]`\n",
    ">- Indexes always begin at 0.\n",
    ">- Arrays/List (`list`)\n",
    ">>`[1,2,3,4,5]`\n",
    ">>- With brackets (`[]`)\n",
    ">- Tuple (`tuple`)\n",
    ">>`(1,2,3,4,5)`\n",
    ">>- With parenthesis ( `()`)\n",
    ">- String (`str`)\n",
    ">>- Sequence of characters\n",
    ">>- With single or double quotation marks\n",
    ">>- `\" \"` `' '`\n",
    "- Set (`set`)\n",
    ">- Unordered\n",
    ">- Unique values\n",
    ">- With curly braces `{ }`\n",
    "- Dictionary (`dict`)\n",
    ">- Unordered\n",
    ">- Pairs of key:value\n",
    ">- Unique keys\n",
    ">- With curly braces `{key:value}`\n",
    "\n"
   ]
  },
  {
   "cell_type": "markdown",
   "metadata": {},
   "source": [
    "## Operators\n",
    "- Represent actions to be performed onto data (variables)\n",
    "### Types of Operators\n",
    "- Arithmetic Operators\n",
    "    - `+`, `-`, `*`, `/`, `//`, `%`, `**`\n",
    "- Assignment Operators\n",
    "    - `=`, `+=`, `-=`, `*=`, etc.\n",
    "- Comparison (Relational) Operators\n",
    "    - `<`, `>`, `<=`, `>=`, `==`, `!=`\n",
    "- Logic Operators\n",
    "    - `and`, `not`, `or`\n",
    "    - operate on boolean"
   ]
  },
  {
   "cell_type": "code",
   "execution_count": 6,
   "metadata": {},
   "outputs": [
    {
     "data": {
      "text/plain": [
       "10"
      ]
     },
     "execution_count": 6,
     "metadata": {},
     "output_type": "execute_result"
    }
   ],
   "source": [
    "7 + 3"
   ]
  },
  {
   "cell_type": "code",
   "execution_count": 7,
   "metadata": {},
   "outputs": [
    {
     "data": {
      "text/plain": [
       "'HelloWorld'"
      ]
     },
     "execution_count": 7,
     "metadata": {},
     "output_type": "execute_result"
    }
   ],
   "source": [
    "\"Hello\"+\"World\""
   ]
  },
  {
   "cell_type": "code",
   "execution_count": 8,
   "metadata": {},
   "outputs": [
    {
     "data": {
      "text/plain": [
       "2"
      ]
     },
     "execution_count": 8,
     "metadata": {},
     "output_type": "execute_result"
    }
   ],
   "source": [
    "# Modulus (%)\n",
    "50%4\n",
    "# Integer division\n",
    "# 50/ 4 = 12; remainder = 2"
   ]
  },
  {
   "cell_type": "markdown",
   "metadata": {},
   "source": [
    "## Conditions\n",
    "- `if...elif...else`\n",
    "- `elif` and `else` are not always present\n",
    "- These keywords evaluate if a condition is True or False.\n",
    "- Based on that evaluation, some blocks of code are executed or not."
   ]
  },
  {
   "cell_type": "code",
   "execution_count": 9,
   "metadata": {},
   "outputs": [
    {
     "data": {
      "text/plain": [
       "True"
      ]
     },
     "execution_count": 9,
     "metadata": {},
     "output_type": "execute_result"
    }
   ],
   "source": [
    "4 < 5"
   ]
  },
  {
   "cell_type": "code",
   "execution_count": 10,
   "metadata": {},
   "outputs": [
    {
     "name": "stdout",
     "output_type": "stream",
     "text": [
      "This person can ride\n"
     ]
    }
   ],
   "source": [
    "# Roller coaster\n",
    "h = 1.70\n",
    "if h > 1.60:\n",
    "    print(\"This person can ride\")"
   ]
  },
  {
   "cell_type": "code",
   "execution_count": 11,
   "metadata": {},
   "outputs": [
    {
     "name": "stdout",
     "output_type": "stream",
     "text": [
      "Try the merry-go-round\n"
     ]
    }
   ],
   "source": [
    "h = 1.55\n",
    "if h > 1.60:\n",
    "    print(\"This person can ride\")\n",
    "else:\n",
    "    print(\"Try the merry-go-round\")"
   ]
  },
  {
   "cell_type": "markdown",
   "metadata": {},
   "source": [
    "## Loops\n",
    "- Reapet a block of code until a given condition is met.\n",
    "- `for`\n",
    "    - Condition: End of iterable (e.g.: end of list, end of range, etc..)\n",
    "    - Number of iterations (repetitions) is known before hand\n",
    "- `while`\n",
    "    - Condition: Statement writen by programmer\n",
    "    - Number of iterations uknown beforehand\n",
    "    - condition must be variable and updated in block of code."
   ]
  },
  {
   "cell_type": "code",
   "execution_count": 12,
   "metadata": {},
   "outputs": [
    {
     "name": "stdout",
     "output_type": "stream",
     "text": [
      "0\n",
      "5\n",
      "10\n",
      "15\n",
      "20\n",
      "25\n",
      "30\n",
      "35\n",
      "40\n",
      "45\n",
      "50\n"
     ]
    }
   ],
   "source": [
    "for i in range(51):\n",
    "    if i % 5 == 0:\n",
    "        print(i)"
   ]
  },
  {
   "cell_type": "code",
   "execution_count": 13,
   "metadata": {},
   "outputs": [
    {
     "name": "stdout",
     "output_type": "stream",
     "text": [
      "5005\n"
     ]
    }
   ],
   "source": [
    "volume_tank = 0\n",
    "max_volume = 5000\n",
    "\n",
    "while volume_tank < max_volume:\n",
    "    volume_tank += 13\n",
    "    # volume_tank = volume_tank + 10\n",
    "print(volume_tank)"
   ]
  },
  {
   "cell_type": "markdown",
   "metadata": {},
   "source": [
    "## Functions\n",
    "- \"Operation\" defined on a block of code\n",
    "- User defined functions\n",
    "- Build-in functions\n",
    "    - `min`, `max`, `sum`, `print`, `zip`, `range`, `enumerate`, ..."
   ]
  },
  {
   "cell_type": "code",
   "execution_count": 14,
   "metadata": {},
   "outputs": [
    {
     "data": {
      "text/plain": [
       "1"
      ]
     },
     "execution_count": 14,
     "metadata": {},
     "output_type": "execute_result"
    }
   ],
   "source": [
    "lst = [3,6,2,8,5,6,7,1,3,4,5]\n",
    "min(lst)"
   ]
  },
  {
   "cell_type": "code",
   "execution_count": 15,
   "metadata": {},
   "outputs": [
    {
     "data": {
      "text/plain": [
       "11"
      ]
     },
     "execution_count": 15,
     "metadata": {},
     "output_type": "execute_result"
    }
   ],
   "source": [
    "len(lst)"
   ]
  },
  {
   "cell_type": "code",
   "execution_count": 16,
   "metadata": {},
   "outputs": [
    {
     "data": {
      "text/plain": [
       "{1, 2, 3, 4, 5, 6, 7, 8}"
      ]
     },
     "execution_count": 16,
     "metadata": {},
     "output_type": "execute_result"
    }
   ],
   "source": [
    "set(lst)"
   ]
  },
  {
   "cell_type": "code",
   "execution_count": 23,
   "metadata": {},
   "outputs": [],
   "source": [
    "def beautify(string):\n",
    "    result = '~'*len(string)+\"\\n\" \n",
    "    result += string + \"\\n\"\n",
    "    result += '~'*len(string)\n",
    "    return result"
   ]
  },
  {
   "cell_type": "code",
   "execution_count": 24,
   "metadata": {},
   "outputs": [
    {
     "name": "stdout",
     "output_type": "stream",
     "text": [
      "~~~~~~~~~~~~\n",
      "Hello, World\n",
      "~~~~~~~~~~~~\n"
     ]
    }
   ],
   "source": [
    "st = \"Hello, World\"\n",
    "print(beautify(st))"
   ]
  }
 ],
 "metadata": {
  "kernelspec": {
   "display_name": "Python 3",
   "language": "python",
   "name": "python3"
  },
  "language_info": {
   "codemirror_mode": {
    "name": "ipython",
    "version": 3
   },
   "file_extension": ".py",
   "mimetype": "text/x-python",
   "name": "python",
   "nbconvert_exporter": "python",
   "pygments_lexer": "ipython3",
   "version": "3.8.6"
  },
  "toc": {
   "base_numbering": 1,
   "nav_menu": {},
   "number_sections": true,
   "sideBar": true,
   "skip_h1_title": true,
   "title_cell": "Table of Contents",
   "title_sidebar": "Contents",
   "toc_cell": true,
   "toc_position": {
    "height": "calc(100% - 180px)",
    "left": "10px",
    "top": "150px",
    "width": "226.55px"
   },
   "toc_section_display": true,
   "toc_window_display": true
  }
 },
 "nbformat": 4,
 "nbformat_minor": 4
}
