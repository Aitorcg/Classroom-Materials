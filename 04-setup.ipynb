{
 "cells": [
  {
   "cell_type": "markdown",
   "metadata": {},
   "source": [
    "# Setup\n",
    "\n",
    "`Read the instructions and the links! Always read the outputs on the terminal to make sure there are no errors`"
   ]
  },
  {
   "cell_type": "markdown",
   "metadata": {
    "toc": true
   },
   "source": [
    "<h1>Table of Contents<span class=\"tocSkip\"></span></h1>\n",
    "<div class=\"toc\"><ul class=\"toc-item\"><li><span><a href=\"#Terminal\" data-toc-modified-id=\"Terminal-1\"><span class=\"toc-item-num\">1&nbsp;&nbsp;</span>Terminal</a></span><ul class=\"toc-item\"><li><span><a href=\"#Windows\" data-toc-modified-id=\"Windows-1.1\"><span class=\"toc-item-num\">1.1&nbsp;&nbsp;</span>Windows</a></span></li><li><span><a href=\"#Ubuntu\" data-toc-modified-id=\"Ubuntu-1.2\"><span class=\"toc-item-num\">1.2&nbsp;&nbsp;</span>Ubuntu</a></span></li><li><span><a href=\"#Mac\" data-toc-modified-id=\"Mac-1.3\"><span class=\"toc-item-num\">1.3&nbsp;&nbsp;</span>Mac</a></span></li></ul></li><li><span><a href=\"#Visual-Studio-Code\" data-toc-modified-id=\"Visual-Studio-Code-2\"><span class=\"toc-item-num\">2&nbsp;&nbsp;</span>Visual Studio Code</a></span><ul class=\"toc-item\"><li><span><a href=\"#Windows\" data-toc-modified-id=\"Windows-2.1\"><span class=\"toc-item-num\">2.1&nbsp;&nbsp;</span>Windows</a></span></li><li><span><a href=\"#Ubuntu\" data-toc-modified-id=\"Ubuntu-2.2\"><span class=\"toc-item-num\">2.2&nbsp;&nbsp;</span>Ubuntu</a></span></li><li><span><a href=\"#Mac\" data-toc-modified-id=\"Mac-2.3\"><span class=\"toc-item-num\">2.3&nbsp;&nbsp;</span>Mac</a></span></li></ul></li></ul></div>"
   ]
  },
  {
   "cell_type": "markdown",
   "metadata": {},
   "source": [
    "## Terminal\n",
    "### Windows\n",
    "- You must use Git Bash\n",
    "https://gitforwindows.org/\n",
    "- Alternatively, for more customization, you can use [Hyper](https://hyper.is/#installation)\n",
    "- Hyper has many possibilities, but can be a little challenging to configure.\n",
    "- [This](https://gist.github.com/coco-napky/404220405435b3d0373e37ec43e54a23) is a good begining to set it to work with bash in windows.\n",
    "- Investigate and read a lot, there are also YouTube tutorials.\n",
    "\n",
    "### Ubuntu\n",
    "- If you want a cooler terminal, you can install zsh and oh-my-zsh\n",
    "- Install [zsh](https://github.com/ohmyzsh/ohmyzsh/wiki/Installing-ZSH)\n",
    "> `sudo apt install zsh`\n",
    "- Install oh-my-zsh\n",
    "> `sh -c \"$(wget -O- https://raw.githubusercontent.com/ohmyzsh/ohmyzsh/master/tools/install.sh)\"`\n",
    "- Install powerline-fonts\n",
    "> `sudo apt-get install fonts-powerline`\n",
    "- Edit the file `~/.zshrc`\n",
    "> find the parameter `ZSH_THEME`\n",
    "> change it to `ZSH_THEME=\"agnoster\"`\n",
    "\n",
    "### Mac\n",
    "- Install Homebrew\n",
    "> `/bin/bash -c \"$(curl -fsSL https://raw.githubusercontent.com/Homebrew/install/HEAD/install.sh)\"`\n",
    "- Install iterm2\n",
    "> `brew cask install iterm2`\n",
    "- If you don't have zsh already (should be the default shell in updated macOS), just install it with the following commands\n",
    "> `brew install zsh`\n",
    "> `chsh -s /usr/local/bin/zsh`\n",
    "- Install oh-my-zsh\n",
    "> `sh -c \"$(curl -fsSL https://raw.githubusercontent.com/ohmyzsh/ohmyzsh/master/tools/install.sh)\"`\n",
    "- Install powerline-fonts\n",
    "> `https://github.com/powerline/fonts`\n",
    "- Edit the file `~/.zshrc`\n",
    "> find the parameter `ZSH_THEME`\n",
    "> change it to `ZSH_THEME=\"agnoster\"`"
   ]
  },
  {
   "cell_type": "markdown",
   "metadata": {},
   "source": [
    "## Visual Studio Code\n",
    "\n",
    "### Windows\n",
    "- Download and install\n",
    "- [VScode](https://code.visualstudio.com/)\n",
    "\n",
    "### Ubuntu\n",
    "- Download and install\n",
    "- [VScode](https://code.visualstudio.com/)\n",
    "\n",
    "### Mac\n",
    "- Download and install\n",
    "- [VScode](https://code.visualstudio.com/)"
   ]
  }
 ],
 "metadata": {
  "kernelspec": {
   "display_name": "Python 3",
   "language": "python",
   "name": "python3"
  },
  "language_info": {
   "codemirror_mode": {
    "name": "ipython",
    "version": 3
   },
   "file_extension": ".py",
   "mimetype": "text/x-python",
   "name": "python",
   "nbconvert_exporter": "python",
   "pygments_lexer": "ipython3",
   "version": "3.8.6"
  },
  "toc": {
   "base_numbering": 1,
   "nav_menu": {},
   "number_sections": true,
   "sideBar": true,
   "skip_h1_title": true,
   "title_cell": "Table of Contents",
   "title_sidebar": "Contents",
   "toc_cell": true,
   "toc_position": {
    "height": "calc(100% - 180px)",
    "left": "10px",
    "top": "150px",
    "width": "226.55px"
   },
   "toc_section_display": true,
   "toc_window_display": true
  }
 },
 "nbformat": 4,
 "nbformat_minor": 4
}
