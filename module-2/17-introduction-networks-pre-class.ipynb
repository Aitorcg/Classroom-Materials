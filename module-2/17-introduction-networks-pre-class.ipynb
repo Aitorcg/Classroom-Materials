{
 "cells": [
  {
   "cell_type": "code",
   "execution_count": null,
   "metadata": {},
   "outputs": [],
   "source": [
    "import numpy as np\n",
    "import pandas as pd\n",
    "from matplotlib import pyplot as plt\n",
    "%config Inlinebackend.figure_format = 'retina'\n",
    "import seaborn as sns\n",
    "sns.set_context('poster')\n",
    "sns.set(rc={'figure.figsize': (16., 9.)})\n",
    "sns.set_style('whitegrid')"
   ]
  },
  {
   "cell_type": "code",
   "execution_count": null,
   "metadata": {},
   "outputs": [],
   "source": [
    "%%capture\n",
    "#!pip install networkx\n",
    "\n",
    "# If an error saying \"Random state is incorrect\" appears, \n",
    "# run the line below, and stop the jupyter server from the terminal,\n",
    "# start it again and refresh the browser tab.\n",
    "#!pip install \"decorator<4\""
   ]
  },
  {
   "cell_type": "code",
   "execution_count": null,
   "metadata": {},
   "outputs": [],
   "source": [
    "# Let´s welcome a new library!\n",
    "import networkx as nx"
   ]
  },
  {
   "cell_type": "code",
   "execution_count": null,
   "metadata": {},
   "outputs": [],
   "source": [
    "# Let's create a function to help us. (You don't need to know right now what they do.)\n",
    "def display_centrality_graph(graph, centrality_values, new_range_max=10000, new_range_min=300):\n",
    "    node_sizes = [v for (n, v) in centrality_values.items()]\n",
    "\n",
    "    new_range = new_range_max - new_range_min\n",
    "    old_range_min = min(node_sizes)\n",
    "    old_range_max = max(node_sizes)\n",
    "    old_range = old_range_max - old_range_min\n",
    "    node_sizes = [(new_range_min + (((v - old_range_min) / old_range) * new_range)) for v in node_sizes]\n",
    "\n",
    "    plt.figure(figsize=(15, 9))\n",
    "    plt.axis(\"off\")\n",
    "    nx.draw_networkx(G=graph, node_size=node_sizes, node_color='g', font_color='k', alpha=0.9, font_size=20)"
   ]
  },
  {
   "cell_type": "markdown",
   "metadata": {},
   "source": [
    "# Networks\n",
    "\n",
    "Today we are going to learn about networks.\n",
    "\n",
    "## What are networks and why should we care?\n",
    "\n",
    "Networks are a way of representing relationship between elements:\n",
    "- relationships between people,\n",
    "- distances between cities,\n",
    "- connections between computers...\n",
    "\n",
    "Networks, sometimes called *graphs*, are composed by two things: **nodes** and **links**.\n",
    "\n",
    "Nodes (or vertices) represent the objects, the links (or edges) the connections between them.\n",
    "\n",
    "How do they look and how do we use them in Python?"
   ]
  },
  {
   "cell_type": "code",
   "execution_count": null,
   "metadata": {},
   "outputs": [],
   "source": []
  },
  {
   "cell_type": "code",
   "execution_count": null,
   "metadata": {},
   "outputs": [],
   "source": []
  },
  {
   "cell_type": "code",
   "execution_count": null,
   "metadata": {},
   "outputs": [],
   "source": []
  },
  {
   "cell_type": "markdown",
   "metadata": {},
   "source": [
    "# Centrality\n",
    "\n",
    "We can study many things in a network. For example, we can study **how important** a node is. That's what we call *centrality*: the more central a node is, the more important it is in the network.\n",
    "\n",
    "Imagine that you need to know the most influential person among a set of people in a party, and you only know the connections between those people. You should look at how central the people are to find it!\n",
    "\n",
    "Let's see this with a real world example:\n",
    "\n",
    "## The importance of being central: The Medici\n",
    "\n",
    "We analyse the network of marriage links between the main Florentine families. Two families were in conflict: the Medici and the Strozzi. Power and money were the reasons. The Medici family did not have greatest wealth or most seats in the legislature, yet it rose to power. Through marriages, the Medici family had a position of centrality in the social network, crucial for communication, brokering deals, etc.\n",
    "\n",
    "\n",
    "You can read more about the rise of the Medici in the original paper from Padgett: *Padgett, John F. 1994. Marriage and Elite Structure in Renaissance Florence, 1282-1500; in the Social Science History Association*."
   ]
  },
  {
   "cell_type": "code",
   "execution_count": null,
   "metadata": {},
   "outputs": [],
   "source": []
  },
  {
   "cell_type": "code",
   "execution_count": null,
   "metadata": {},
   "outputs": [],
   "source": []
  },
  {
   "cell_type": "markdown",
   "metadata": {},
   "source": [
    "What we observe above is:\n",
    "- a set of nodes (with the family names on top)\n",
    "- lines between them which mean relationships (in this case, marriages)\n",
    "- all the nodes have the same size\n",
    "\n",
    "\n",
    "There are many different ways of measuring centrality: with the degree, with the centrality, with the betweeness... Let's look at them!"
   ]
  },
  {
   "cell_type": "markdown",
   "metadata": {},
   "source": [
    "## Degree centrality\n",
    "\n",
    "A way of measuring how **central** or important a node is, is by looking at its degree. The degree is defined as the number of edges pointing to a node. We measure the degree of each node.\n",
    "\n",
    "(*Note*: you can find more information about these centrality measures [here](https://en.wikipedia.org/wiki/Centrality#Degree_centrality).)\n",
    "\n",
    "Networkx has some neat functions for computing centrality measures. For example, for the degree centrality:"
   ]
  },
  {
   "cell_type": "code",
   "execution_count": null,
   "metadata": {},
   "outputs": [],
   "source": []
  },
  {
   "cell_type": "markdown",
   "metadata": {},
   "source": [
    "Visually, we can plot the network and make the nodes bigger when they are more central."
   ]
  },
  {
   "cell_type": "code",
   "execution_count": null,
   "metadata": {},
   "outputs": [],
   "source": []
  },
  {
   "cell_type": "markdown",
   "metadata": {},
   "source": [
    "What we see is that the Medici family has the largest node, meaning it has the largest degree centrality (has the most links/edges).\n",
    "\n",
    "Using this measure, the Medici is the most important family."
   ]
  },
  {
   "cell_type": "markdown",
   "metadata": {},
   "source": [
    "## Closeness centrality\n",
    "\n",
    "The closeness centrality (or closeness) of a node is the average length of the shortest path between the node and all other nodes in the graph. Thus the more central a node is, the closer (or better connected) it is to all other nodes.\n",
    "\n",
    "We can compute it as:\n",
    "$$C(x)= \\frac{1}{\\sum_y d(y,x)}$$"
   ]
  },
  {
   "cell_type": "code",
   "execution_count": null,
   "metadata": {},
   "outputs": [],
   "source": []
  },
  {
   "cell_type": "code",
   "execution_count": null,
   "metadata": {},
   "outputs": [],
   "source": []
  },
  {
   "cell_type": "markdown",
   "metadata": {},
   "source": [
    "We see there are some families that have a good closeness measure (their node is big). But the biggest is, again, the Medici."
   ]
  },
  {
   "cell_type": "markdown",
   "metadata": {},
   "source": [
    "## Exercise\n",
    "\n",
    "Create a functiion to pass a centrality measure and return those values ordered from most to least central."
   ]
  },
  {
   "cell_type": "code",
   "execution_count": null,
   "metadata": {},
   "outputs": [],
   "source": []
  },
  {
   "cell_type": "code",
   "execution_count": null,
   "metadata": {},
   "outputs": [],
   "source": []
  },
  {
   "cell_type": "markdown",
   "metadata": {},
   "source": [
    "Are you curious on how to actually compute the shortest distance between two nodes? Take a look at this video explaining a famous algorithm to calculate it! The [Dijkstra´s algorithm](https://www.youtube.com/watch?v=GazC3A4OQTE&t=550s)"
   ]
  },
  {
   "cell_type": "markdown",
   "metadata": {},
   "source": [
    "## Eigenvector centrality\n",
    "\n",
    "Eigenvector centrality (also called eigencentrality) is a measure of the **influence of a node in a network**.  It is a way of measuring how important a node is by assigning relative scores to all nodes in the network based on the concept that connections to high-scoring nodes contribute more to the score of the node in question than equal connections to low-scoring nodes. \n",
    "\n",
    "Google's PageRank (the algorithm Google uses to show you pages when you search) are variants of the eigenvector centrality.\n",
    "\n",
    "The formal definition is: \n",
    "For a given graph $G:=(V,E)$ with $|V|$ number of vertices let $A = (a_{v,t})$ be the adjacency matrix, i.e. $a_{v,t} = 1$ if vertex $v$ is linked to vertex $t$, and $a_{v,t} = 0$ otherwise. The relative centrality score of vertex $v$ can be defined:\n",
    "\n",
    "$$x_v = \\frac{1}{\\lambda} \\sum_{t \\in M(v)}x_t = \\frac{1}{\\lambda} \\sum_{t \\in G} a_{v,t}x_t$$\n",
    "\n",
    "where $M(v)$ is a set of the neighbors of $v$ and $\\lambda$ is a constant. With a small rearrangement this can be rewritten in vector notation as the eigenvector equation\n",
    "$$\\mathbf{Ax} = {\\lambda}\\mathbf{x}.$$"
   ]
  },
  {
   "cell_type": "code",
   "execution_count": null,
   "metadata": {},
   "outputs": [],
   "source": []
  },
  {
   "cell_type": "code",
   "execution_count": null,
   "metadata": {},
   "outputs": [],
   "source": []
  },
  {
   "cell_type": "markdown",
   "metadata": {},
   "source": [
    "## Betweenness centrality\n",
    "\n",
    "Betweenness centrality is the last measure we are going to see. it quantifies the number of times a node acts as a bridge along the shortest path between two other nodes. \n",
    "\n",
    "The betweenness of a vertex $v$ in a graph $G:=(V,E)$ with $V$ vertices is computed as follows:\n",
    "\n",
    "* For each pair of vertices $(s,t)$, compute the shortest paths between them.\n",
    "* For each pair of vertices $(s,t)$, determine the fraction of shortest paths that pass through the vertex in question (here, vertex $v$).\n",
    "* Sum this fraction over all pairs of vertices $(s,t)$."
   ]
  },
  {
   "cell_type": "code",
   "execution_count": null,
   "metadata": {},
   "outputs": [],
   "source": []
  },
  {
   "cell_type": "code",
   "execution_count": null,
   "metadata": {},
   "outputs": [],
   "source": []
  },
  {
   "cell_type": "markdown",
   "metadata": {},
   "source": [
    "This centrality measure shows us which family acts as a bridge between two other families. It is an important measure even today: being able to act as an intermediary between to parts is crucial in many fields (marketing, sales...)."
   ]
  },
  {
   "cell_type": "markdown",
   "metadata": {},
   "source": [
    "## Recap\n",
    "We have observed in all the networks that the Medici family has the largest node, which means that it is the most central / important: the Medici had the most power because it had the most links (degree centrality), their connections were the shortest connections between nodes (closeness centrality), they were the most influential (eigenvector centrality), and they acted as bridges in the shortest paths between nodes (betweeness centrality)."
   ]
  },
  {
   "cell_type": "markdown",
   "metadata": {},
   "source": [
    " "
   ]
  },
  {
   "cell_type": "markdown",
   "metadata": {},
   "source": [
    " \n"
   ]
  },
  {
   "cell_type": "markdown",
   "metadata": {},
   "source": [
    " "
   ]
  },
  {
   "cell_type": "markdown",
   "metadata": {},
   "source": [
    " "
   ]
  },
  {
   "cell_type": "markdown",
   "metadata": {},
   "source": [
    "There's another interesting analysis we can perform on a network: community analysis. This is a way of finding communities just by the structure of the network.\n",
    "\n",
    "\n",
    "# Detecting communities: The Zackary Karate Club\n",
    "\n",
    "A social network of a karate club was studied by Wayne W. Zachary for a period of three years from 1970 to 1972. The network captures 34 members of a karate club, documenting links between pairs of members who interacted outside the club. During the study a conflict arose between the administrator \"John A\" and instructor \"Mr. Hi\" (pseudonyms), which led to the split of the club into two. Half of the members formed a new club around Mr. Hi; members from the other part found a new instructor or gave up karate. \n",
    "\n",
    "Based on collected data, Zachary correctly assigned all but one member of the club to the groups they actually joined after the split.\n"
   ]
  },
  {
   "cell_type": "markdown",
   "metadata": {},
   "source": [
    "This is the initial network:"
   ]
  },
  {
   "cell_type": "code",
   "execution_count": null,
   "metadata": {},
   "outputs": [],
   "source": []
  },
  {
   "cell_type": "code",
   "execution_count": null,
   "metadata": {},
   "outputs": [],
   "source": []
  },
  {
   "cell_type": "markdown",
   "metadata": {},
   "source": [
    "The Girvan–Newman algorithm detects communities by progressively removing edges from the original network. The connected components of the remaining network are the communities. Instead of trying to construct a measure that tells us which edges are the most central to communities, the Girvan–Newman algorithm focuses on edges that are most likely \"between\" communities (like bridges).\n",
    "\n",
    "The algorithm's steps for community detection are summarized below\n",
    "\n",
    "* The betweeness of all existing edges in the network is calculated first.\n",
    "* The edge(s) with the highest betweeness are removed.\n",
    "* The betweeness of all edges affected by the removal is recalculated.\n",
    "* Steps 2 and 3 are repeated until no edges remain."
   ]
  },
  {
   "cell_type": "code",
   "execution_count": null,
   "metadata": {},
   "outputs": [],
   "source": [
    "from networkx.algorithms.community.centrality import girvan_newman\n",
    "import itertools"
   ]
  },
  {
   "cell_type": "code",
   "execution_count": null,
   "metadata": {},
   "outputs": [],
   "source": []
  },
  {
   "cell_type": "markdown",
   "metadata": {},
   "source": [
    "We can plot the network with different colors:"
   ]
  },
  {
   "cell_type": "code",
   "execution_count": null,
   "metadata": {},
   "outputs": [],
   "source": []
  },
  {
   "cell_type": "code",
   "execution_count": null,
   "metadata": {},
   "outputs": [],
   "source": [
    "plt.figure(figsize=(15, 9))\n",
    "plt.axis(\"off\")\n",
    "\n",
    "# We select blue if the node is in the first comminuty and green if it is in the second.\n",
    "node_colors = ['b' if (n in communities[0]) else 'g' for n in G.nodes()]\n",
    "\n",
    "nx.draw_networkx(G=G, pos=pos,node_size=2000, node_color=node_colors, font_color='k', alpha=0.9, font_size=18)"
   ]
  },
  {
   "cell_type": "code",
   "execution_count": null,
   "metadata": {},
   "outputs": [],
   "source": [
    "# Back to the Medici\n",
    "G = nx.florentine_families_graph()\n",
    "pos=nx.spring_layout(G)\n",
    "comp = girvan_newman(G)\n",
    "\n",
    "# Here, we can tweak the number and see how many communities in can find.\n",
    "for communities in itertools.islice(comp, 2):\n",
    "    tuple(sorted(c) for c in communities)\n",
    "\n",
    "plt.figure(figsize=(15, 15))\n",
    "plt.axis(\"off\")\n",
    "\n",
    "# create the network without the nodes\n",
    "params = {'G': G, 'pos': pos, 'node_size': 3000, 'alpha': 0.9}\n",
    "nx.draw_networkx(**params, font_color='k', font_size=18)\n",
    "\n",
    "colors = ['r','g', 'b', 'orange', 'yellow']\n",
    "\n",
    "# for each community list, draw the nodes, giving it a specific color.\n",
    "for x in range(len(communities)):\n",
    "    nx.draw_networkx_nodes(**params, nodelist=communities[x], node_color=colors[x])"
   ]
  },
  {
   "cell_type": "markdown",
   "metadata": {},
   "source": [
    "## Game of Thrones Network\n",
    "\n",
    "Data and original idea are taken from this [blog entry](https://networkofthrones.wordpress.com/)"
   ]
  },
  {
   "cell_type": "code",
   "execution_count": null,
   "metadata": {},
   "outputs": [],
   "source": [
    "got_data = pd.read_csv('../data/GOT-edges.csv')\n",
    "got_data"
   ]
  },
  {
   "cell_type": "code",
   "execution_count": null,
   "metadata": {},
   "outputs": [],
   "source": [
    "# Remove non important columns\n",
    "got_data.drop(['Type', 'id', 'weight'], axis=1, inplace=True)\n",
    "got_data"
   ]
  },
  {
   "cell_type": "code",
   "execution_count": null,
   "metadata": {},
   "outputs": [],
   "source": [
    "# We can create a graph from a pandas dataframe as if it were an edge list.\n",
    "G = nx.from_pandas_edgelist(got_data,  source='Source', target='Target')"
   ]
  },
  {
   "cell_type": "markdown",
   "metadata": {},
   "source": [
    "## Centrality measures in GOT\n",
    "\n",
    "Who's the most important character according to the centrality measures we've seen?"
   ]
  },
  {
   "cell_type": "code",
   "execution_count": null,
   "metadata": {},
   "outputs": [],
   "source": [
    "dict(sorted(nx.degree_centrality(G).items(), key=lambda item: item[1], reverse=True))"
   ]
  },
  {
   "cell_type": "code",
   "execution_count": null,
   "metadata": {},
   "outputs": [],
   "source": [
    "dict(sorted(nx.closeness_centrality(G).items(), key=lambda item: item[1], reverse=True))"
   ]
  },
  {
   "cell_type": "code",
   "execution_count": null,
   "metadata": {},
   "outputs": [],
   "source": [
    "dict(sorted(nx.eigenvector_centrality(G).items(), key=lambda item: item[1], reverse=True))"
   ]
  },
  {
   "cell_type": "code",
   "execution_count": null,
   "metadata": {},
   "outputs": [],
   "source": [
    "dict(sorted(nx.betweenness_centrality(G).items(), key=lambda item: item[1], reverse=True))"
   ]
  },
  {
   "cell_type": "markdown",
   "metadata": {},
   "source": [
    "## Exercise\n",
    "\n",
    "Plot the communities in the GOT data. Try to plot the network using 3 colors (that means, 3 communities)."
   ]
  },
  {
   "cell_type": "code",
   "execution_count": null,
   "metadata": {},
   "outputs": [],
   "source": [
    "k = 3\n",
    "G = nx.from_pandas_edgelist(got_data,  source='Source', target='Target')\n",
    "\n",
    "# ..."
   ]
  },
  {
   "cell_type": "markdown",
   "metadata": {},
   "source": [
    "## Extra: GOT-recommender system\n",
    "\n",
    "You noticed that Facebook suggests you friends. There are many algorithms, but one of these is based on the “Open Triangles” which is a concept in social network theory. Triadic closure is the property among three nodes A, B, and C, such that if a strong tie exists between A-B and A-C, there is a weak or strong tie between B-C. This property is too extreme to hold true across very large, complex networks, but it is a useful simplification of reality that can be used to understand and predict networks.\n",
    "\n",
    "Let’s try to make the top ten suggestions based on the “Open Triangles”. You can see that in less than 20 lines you can make a recommender system, similar to the one in Instagram. (Extracted from this [blog-post](https://predictivehacks.com/social-network-analysis-of-game-of-thrones/).)"
   ]
  },
  {
   "cell_type": "code",
   "execution_count": null,
   "metadata": {},
   "outputs": [],
   "source": [
    "# Import necessary modules\n",
    "from itertools import combinations\n",
    "from collections import defaultdict\n",
    "\n",
    "recommended = defaultdict(int)\n",
    " \n",
    "# Iterate over all the nodes in G\n",
    "for n, d in G.nodes(data = True):\n",
    "    # Iterate over all possible triangle relationship combinations\n",
    "    for n1, n2 in combinations(G.neighbors(n), 2):\n",
    "        # Check whether n1 and n2 do not have an edge\n",
    "        if not G.has_edge(n1, n2):\n",
    "            # Increment recommended\n",
    "            recommended[(n1, n2)] += 1\n",
    "\n",
    "# Identify the top 10 pairs of users\n",
    "all_counts = sorted(recommended.values())\n",
    "top10_pairs = [pair for pair, count in recommended.items() if count > all_counts[-10]]\n",
    "print(top10_pairs)"
   ]
  },
  {
   "cell_type": "code",
   "execution_count": null,
   "metadata": {},
   "outputs": [],
   "source": []
  },
  {
   "cell_type": "markdown",
   "metadata": {},
   "source": [
    "🤔🤔🤔🤔🤔 \n",
    "\n",
    "What do you observe? Is there something interesting? Do Bran-Stark and Jaime-Lannister *not* coincide (physically) in the books?"
   ]
  },
  {
   "cell_type": "markdown",
   "metadata": {},
   "source": [
    "# References: \n",
    "\n",
    "* [Network science book by Albert Laszlo Barabasi](http://networksciencebook.com/)\n",
    "* [Networkx documentation](https://networkx.org/)\n",
    "\n",
    "Special thanks to [María Pereda](https://mpereda.github.io/) and [Alberto Antonioni](https://sites.google.com/site/antonionialberto/home) for some of their materials in this session!"
   ]
  }
 ],
 "metadata": {
  "kernelspec": {
   "display_name": "Python 3",
   "language": "python",
   "name": "python3"
  },
  "language_info": {
   "codemirror_mode": {
    "name": "ipython",
    "version": 3
   },
   "file_extension": ".py",
   "mimetype": "text/x-python",
   "name": "python",
   "nbconvert_exporter": "python",
   "pygments_lexer": "ipython3",
   "version": "3.9.2"
  },
  "toc": {
   "base_numbering": 1,
   "nav_menu": {
    "height": "20px",
    "width": "281px"
   },
   "number_sections": true,
   "sideBar": true,
   "skip_h1_title": true,
   "title_cell": "Table of Contents",
   "title_sidebar": "Contents",
   "toc_cell": true,
   "toc_position": {
    "height": "calc(100% - 180px)",
    "left": "10px",
    "top": "150px",
    "width": "165px"
   },
   "toc_section_display": true,
   "toc_window_display": true
  },
  "varInspector": {
   "cols": {
    "lenName": 16,
    "lenType": 16,
    "lenVar": 40
   },
   "kernels_config": {
    "python": {
     "delete_cmd_postfix": "",
     "delete_cmd_prefix": "del ",
     "library": "var_list.py",
     "varRefreshCmd": "print(var_dic_list())"
    },
    "r": {
     "delete_cmd_postfix": ") ",
     "delete_cmd_prefix": "rm(",
     "library": "var_list.r",
     "varRefreshCmd": "cat(var_dic_list()) "
    }
   },
   "types_to_exclude": [
    "module",
    "function",
    "builtin_function_or_method",
    "instance",
    "_Feature"
   ],
   "window_display": false
  }
 },
 "nbformat": 4,
 "nbformat_minor": 4
}
