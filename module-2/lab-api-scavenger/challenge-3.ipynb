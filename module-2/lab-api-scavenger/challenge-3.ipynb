{
 "cells": [
  {
   "cell_type": "markdown",
   "id": "defensive-clock",
   "metadata": {},
   "source": [
    "# Challenge 3: Hidden Cold Joke\n",
    "\n",
    "Using Python, call Github API to find out the cold joke contained in the 24 secret files in the following repo:\n",
    "\n",
    "https://github.com/ironhack-datalabs/scavenger\n",
    "\n",
    "The filenames of the secret files contain .scavengerhunt and they are scattered in different directories of this repo. The secret files are named from .0001.scavengerhunt to .0024.scavengerhunt. They are scattered randomly throughout this repo. You need to search for these files by calling the Github API, not searching the local files on your computer.\n",
    "\n",
    "\n",
    "After you find out the secrete files:\n",
    "\n",
    "Sort the filenames ascendingly.\n",
    "\n",
    "Read the content of each secret files into an array of strings.\n",
    "\n",
    "Concatenate the strings in the array separating each two with a whitespace.\n",
    "\n",
    "Print out the joke."
   ]
  },
  {
   "cell_type": "markdown",
   "id": "universal-length",
   "metadata": {},
   "source": [
    "⚠️ **Remember to limit your output before submission**."
   ]
  },
  {
   "cell_type": "code",
   "execution_count": 1,
   "id": "toxic-trading",
   "metadata": {},
   "outputs": [
    {
     "data": {
      "text/plain": [
       "True"
      ]
     },
     "execution_count": 1,
     "metadata": {},
     "output_type": "execute_result"
    }
   ],
   "source": [
    "import json\n",
    "import requests\n",
    "import os\n",
    "from dotenv import load_dotenv\n",
    "load_dotenv()"
   ]
  },
  {
   "cell_type": "code",
   "execution_count": 2,
   "id": "static-stopping",
   "metadata": {},
   "outputs": [],
   "source": [
    "def requestGithub(url):\n",
    "    api_key = os.getenv(\"token\")\n",
    "    if not api_key:\n",
    "        raise ValueError (\"Necesitas un TOKEEEEN \")\n",
    "    print (f\"Estoy haciendo request a {url}\")\n",
    "    parametros = {\"Authorization\": f\"{api_key}\"}\n",
    "    response = requests.get(url = url, headers = parametros).json()\n",
    "    print(\"tamos redii\")\n",
    "    return response"
   ]
  },
  {
   "cell_type": "code",
   "execution_count": 12,
   "id": "loved-listening",
   "metadata": {},
   "outputs": [],
   "source": [
    "url = \"https://api.github.com/repos/ironhack-datalabs/scavenger/contents/\""
   ]
  },
  {
   "cell_type": "code",
   "execution_count": 5,
   "id": "finished-webster",
   "metadata": {},
   "outputs": [
    {
     "name": "stdout",
     "output_type": "stream",
     "text": [
      "Estoy haciendo request a https://api.github.com/repos/ironhack-datalabs/scavenger/contents\n",
      "tamos redii\n"
     ]
    }
   ],
   "source": [
    "response = requestGithub(url)"
   ]
  },
  {
   "cell_type": "code",
   "execution_count": 13,
   "id": "occasional-health",
   "metadata": {},
   "outputs": [],
   "source": [
    "rutas = [a[\"path\"] for a in response[1:]]"
   ]
  },
  {
   "cell_type": "code",
   "execution_count": 15,
   "id": "stone-camping",
   "metadata": {},
   "outputs": [
    {
     "name": "stdout",
     "output_type": "stream",
     "text": [
      "Estoy haciendo request a https://api.github.com/repos/ironhack-datalabs/scavenger/contents/15024\n",
      "tamos redii\n",
      "Estoy haciendo request a https://api.github.com/repos/ironhack-datalabs/scavenger/contents/15534\n",
      "tamos redii\n",
      "Estoy haciendo request a https://api.github.com/repos/ironhack-datalabs/scavenger/contents/17020\n",
      "tamos redii\n",
      "Estoy haciendo request a https://api.github.com/repos/ironhack-datalabs/scavenger/contents/30351\n",
      "tamos redii\n",
      "Estoy haciendo request a https://api.github.com/repos/ironhack-datalabs/scavenger/contents/40303\n",
      "tamos redii\n",
      "Estoy haciendo request a https://api.github.com/repos/ironhack-datalabs/scavenger/contents/44639\n",
      "tamos redii\n",
      "Estoy haciendo request a https://api.github.com/repos/ironhack-datalabs/scavenger/contents/45525\n",
      "tamos redii\n",
      "Estoy haciendo request a https://api.github.com/repos/ironhack-datalabs/scavenger/contents/47222\n",
      "tamos redii\n",
      "Estoy haciendo request a https://api.github.com/repos/ironhack-datalabs/scavenger/contents/47830\n",
      "tamos redii\n",
      "Estoy haciendo request a https://api.github.com/repos/ironhack-datalabs/scavenger/contents/49418\n",
      "tamos redii\n",
      "Estoy haciendo request a https://api.github.com/repos/ironhack-datalabs/scavenger/contents/50896\n",
      "tamos redii\n",
      "Estoy haciendo request a https://api.github.com/repos/ironhack-datalabs/scavenger/contents/55417\n",
      "tamos redii\n",
      "Estoy haciendo request a https://api.github.com/repos/ironhack-datalabs/scavenger/contents/55685\n",
      "tamos redii\n",
      "Estoy haciendo request a https://api.github.com/repos/ironhack-datalabs/scavenger/contents/60224\n",
      "tamos redii\n",
      "Estoy haciendo request a https://api.github.com/repos/ironhack-datalabs/scavenger/contents/64880\n",
      "tamos redii\n",
      "Estoy haciendo request a https://api.github.com/repos/ironhack-datalabs/scavenger/contents/66032\n",
      "tamos redii\n",
      "Estoy haciendo request a https://api.github.com/repos/ironhack-datalabs/scavenger/contents/68848\n",
      "tamos redii\n",
      "Estoy haciendo request a https://api.github.com/repos/ironhack-datalabs/scavenger/contents/70751\n",
      "tamos redii\n",
      "Estoy haciendo request a https://api.github.com/repos/ironhack-datalabs/scavenger/contents/70985\n",
      "tamos redii\n",
      "Estoy haciendo request a https://api.github.com/repos/ironhack-datalabs/scavenger/contents/88596\n",
      "tamos redii\n",
      "Estoy haciendo request a https://api.github.com/repos/ironhack-datalabs/scavenger/contents/89046\n",
      "tamos redii\n",
      "Estoy haciendo request a https://api.github.com/repos/ironhack-datalabs/scavenger/contents/89338\n",
      "tamos redii\n",
      "Estoy haciendo request a https://api.github.com/repos/ironhack-datalabs/scavenger/contents/91701\n",
      "tamos redii\n",
      "Estoy haciendo request a https://api.github.com/repos/ironhack-datalabs/scavenger/contents/97881\n",
      "tamos redii\n",
      "Estoy haciendo request a https://api.github.com/repos/ironhack-datalabs/scavenger/contents/98750\n",
      "tamos redii\n"
     ]
    }
   ],
   "source": [
    "lalista = []\n",
    "for ruta in rutas:\n",
    "    response = requestGithub(url+f\"{ruta}\")\n",
    "    lalista.append(response)"
   ]
  },
  {
   "cell_type": "code",
   "execution_count": 17,
   "id": "matched-shepherd",
   "metadata": {},
   "outputs": [
    {
     "data": {
      "text/plain": [
       "[{'name': '.0006.scavengerhunt',\n",
       "  'path': '15024/.0006.scavengerhunt',\n",
       "  'sha': '1c9064284a24b3486015eafdb391b141c27ada2b',\n",
       "  'size': 3,\n",
       "  'url': 'https://api.github.com/repos/ironhack-datalabs/scavenger/contents/15024/.0006.scavengerhunt?ref=master',\n",
       "  'html_url': 'https://github.com/ironhack-datalabs/scavenger/blob/master/15024/.0006.scavengerhunt',\n",
       "  'git_url': 'https://api.github.com/repos/ironhack-datalabs/scavenger/git/blobs/1c9064284a24b3486015eafdb391b141c27ada2b',\n",
       "  'download_url': 'https://raw.githubusercontent.com/ironhack-datalabs/scavenger/master/15024/.0006.scavengerhunt',\n",
       "  'type': 'file',\n",
       "  '_links': {'self': 'https://api.github.com/repos/ironhack-datalabs/scavenger/contents/15024/.0006.scavengerhunt?ref=master',\n",
       "   'git': 'https://api.github.com/repos/ironhack-datalabs/scavenger/git/blobs/1c9064284a24b3486015eafdb391b141c27ada2b',\n",
       "   'html': 'https://github.com/ironhack-datalabs/scavenger/blob/master/15024/.0006.scavengerhunt'}},\n",
       " {'name': '40',\n",
       "  'path': '15024/40',\n",
       "  'sha': 'e69de29bb2d1d6434b8b29ae775ad8c2e48c5391',\n",
       "  'size': 0,\n",
       "  'url': 'https://api.github.com/repos/ironhack-datalabs/scavenger/contents/15024/40?ref=master',\n",
       "  'html_url': 'https://github.com/ironhack-datalabs/scavenger/blob/master/15024/40',\n",
       "  'git_url': 'https://api.github.com/repos/ironhack-datalabs/scavenger/git/blobs/e69de29bb2d1d6434b8b29ae775ad8c2e48c5391',\n",
       "  'download_url': 'https://raw.githubusercontent.com/ironhack-datalabs/scavenger/master/15024/40',\n",
       "  'type': 'file',\n",
       "  '_links': {'self': 'https://api.github.com/repos/ironhack-datalabs/scavenger/contents/15024/40?ref=master',\n",
       "   'git': 'https://api.github.com/repos/ironhack-datalabs/scavenger/git/blobs/e69de29bb2d1d6434b8b29ae775ad8c2e48c5391',\n",
       "   'html': 'https://github.com/ironhack-datalabs/scavenger/blob/master/15024/40'}},\n",
       " {'name': '74',\n",
       "  'path': '15024/74',\n",
       "  'sha': 'e69de29bb2d1d6434b8b29ae775ad8c2e48c5391',\n",
       "  'size': 0,\n",
       "  'url': 'https://api.github.com/repos/ironhack-datalabs/scavenger/contents/15024/74?ref=master',\n",
       "  'html_url': 'https://github.com/ironhack-datalabs/scavenger/blob/master/15024/74',\n",
       "  'git_url': 'https://api.github.com/repos/ironhack-datalabs/scavenger/git/blobs/e69de29bb2d1d6434b8b29ae775ad8c2e48c5391',\n",
       "  'download_url': 'https://raw.githubusercontent.com/ironhack-datalabs/scavenger/master/15024/74',\n",
       "  'type': 'file',\n",
       "  '_links': {'self': 'https://api.github.com/repos/ironhack-datalabs/scavenger/contents/15024/74?ref=master',\n",
       "   'git': 'https://api.github.com/repos/ironhack-datalabs/scavenger/git/blobs/e69de29bb2d1d6434b8b29ae775ad8c2e48c5391',\n",
       "   'html': 'https://github.com/ironhack-datalabs/scavenger/blob/master/15024/74'}},\n",
       " {'name': '99',\n",
       "  'path': '15024/99',\n",
       "  'sha': 'e69de29bb2d1d6434b8b29ae775ad8c2e48c5391',\n",
       "  'size': 0,\n",
       "  'url': 'https://api.github.com/repos/ironhack-datalabs/scavenger/contents/15024/99?ref=master',\n",
       "  'html_url': 'https://github.com/ironhack-datalabs/scavenger/blob/master/15024/99',\n",
       "  'git_url': 'https://api.github.com/repos/ironhack-datalabs/scavenger/git/blobs/e69de29bb2d1d6434b8b29ae775ad8c2e48c5391',\n",
       "  'download_url': 'https://raw.githubusercontent.com/ironhack-datalabs/scavenger/master/15024/99',\n",
       "  'type': 'file',\n",
       "  '_links': {'self': 'https://api.github.com/repos/ironhack-datalabs/scavenger/contents/15024/99?ref=master',\n",
       "   'git': 'https://api.github.com/repos/ironhack-datalabs/scavenger/git/blobs/e69de29bb2d1d6434b8b29ae775ad8c2e48c5391',\n",
       "   'html': 'https://github.com/ironhack-datalabs/scavenger/blob/master/15024/99'}}]"
      ]
     },
     "execution_count": 17,
     "metadata": {},
     "output_type": "execute_result"
    }
   ],
   "source": [
    "lalista[0]"
   ]
  },
  {
   "cell_type": "code",
   "execution_count": null,
   "id": "interested-probe",
   "metadata": {},
   "outputs": [],
   "source": []
  }
 ],
 "metadata": {
  "kernelspec": {
   "display_name": "Python 3",
   "language": "python",
   "name": "python3"
  },
  "language_info": {
   "codemirror_mode": {
    "name": "ipython",
    "version": 3
   },
   "file_extension": ".py",
   "mimetype": "text/x-python",
   "name": "python",
   "nbconvert_exporter": "python",
   "pygments_lexer": "ipython3",
   "version": "3.8.5"
  },
  "toc": {
   "base_numbering": 1,
   "nav_menu": {},
   "number_sections": true,
   "sideBar": true,
   "skip_h1_title": true,
   "title_cell": "Table of Contents",
   "title_sidebar": "Contents",
   "toc_cell": false,
   "toc_position": {},
   "toc_section_display": true,
   "toc_window_display": true
  }
 },
 "nbformat": 4,
 "nbformat_minor": 5
}
