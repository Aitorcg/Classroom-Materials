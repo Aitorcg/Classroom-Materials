{
 "cells": [
  {
   "cell_type": "markdown",
   "metadata": {},
   "source": [
    "# MySQL"
   ]
  },
  {
   "cell_type": "markdown",
   "metadata": {
    "toc": true
   },
   "source": [
    "<h1>Table of Contents<span class=\"tocSkip\"></span></h1>\n",
    "<div class=\"toc\"><ul class=\"toc-item\"><li><span><a href=\"#What-is-a-database?\" data-toc-modified-id=\"What-is-a-database?-1\"><span class=\"toc-item-num\">1&nbsp;&nbsp;</span>What is a database?</a></span></li><li><span><a href=\"#CRUD\" data-toc-modified-id=\"CRUD-2\"><span class=\"toc-item-num\">2&nbsp;&nbsp;</span>CRUD</a></span></li><li><span><a href=\"#Tabular-Data\" data-toc-modified-id=\"Tabular-Data-3\"><span class=\"toc-item-num\">3&nbsp;&nbsp;</span>Tabular Data</a></span></li><li><span><a href=\"#Table\" data-toc-modified-id=\"Table-4\"><span class=\"toc-item-num\">4&nbsp;&nbsp;</span>Table</a></span><ul class=\"toc-item\"><li><span><a href=\"#Records\" data-toc-modified-id=\"Records-4.1\"><span class=\"toc-item-num\">4.1&nbsp;&nbsp;</span>Records</a></span></li><li><span><a href=\"#Columns\" data-toc-modified-id=\"Columns-4.2\"><span class=\"toc-item-num\">4.2&nbsp;&nbsp;</span>Columns</a></span></li><li><span><a href=\"#Organization\" data-toc-modified-id=\"Organization-4.3\"><span class=\"toc-item-num\">4.3&nbsp;&nbsp;</span>Organization</a></span></li></ul></li><li><span><a href=\"#Relational-Database\" data-toc-modified-id=\"Relational-Database-5\"><span class=\"toc-item-num\">5&nbsp;&nbsp;</span>Relational Database</a></span><ul class=\"toc-item\"><li><span><a href=\"#Connecting-records\" data-toc-modified-id=\"Connecting-records-5.1\"><span class=\"toc-item-num\">5.1&nbsp;&nbsp;</span>Connecting records</a></span></li><li><span><a href=\"#Types-of-relations\" data-toc-modified-id=\"Types-of-relations-5.2\"><span class=\"toc-item-num\">5.2&nbsp;&nbsp;</span>Types of relations</a></span><ul class=\"toc-item\"><li><span><a href=\"#1:1\" data-toc-modified-id=\"1:1-5.2.1\"><span class=\"toc-item-num\">5.2.1&nbsp;&nbsp;</span>1:1</a></span></li><li><span><a href=\"#1:n\" data-toc-modified-id=\"1:n-5.2.2\"><span class=\"toc-item-num\">5.2.2&nbsp;&nbsp;</span>1:n</a></span></li><li><span><a href=\"#m:n\" data-toc-modified-id=\"m:n-5.2.3\"><span class=\"toc-item-num\">5.2.3&nbsp;&nbsp;</span>m:n</a></span></li></ul></li></ul></li><li><span><a href=\"#Database-Setup\" data-toc-modified-id=\"Database-Setup-6\"><span class=\"toc-item-num\">6&nbsp;&nbsp;</span>Database Setup</a></span><ul class=\"toc-item\"><li><span><a href=\"#Database-Managment-System-(DBMS)\" data-toc-modified-id=\"Database-Managment-System-(DBMS)-6.1\"><span class=\"toc-item-num\">6.1&nbsp;&nbsp;</span>Database Managment System (DBMS)</a></span></li><li><span><a href=\"#Language\" data-toc-modified-id=\"Language-6.2\"><span class=\"toc-item-num\">6.2&nbsp;&nbsp;</span>Language</a></span></li><li><span><a href=\"#Interface\" data-toc-modified-id=\"Interface-6.3\"><span class=\"toc-item-num\">6.3&nbsp;&nbsp;</span>Interface</a></span></li></ul></li><li><span><a href=\"#Designing-Databases\" data-toc-modified-id=\"Designing-Databases-7\"><span class=\"toc-item-num\">7&nbsp;&nbsp;</span>Designing Databases</a></span><ul class=\"toc-item\"><li><span><a href=\"#Tables\" data-toc-modified-id=\"Tables-7.1\"><span class=\"toc-item-num\">7.1&nbsp;&nbsp;</span>Tables</a></span></li><li><span><a href=\"#Relations\" data-toc-modified-id=\"Relations-7.2\"><span class=\"toc-item-num\">7.2&nbsp;&nbsp;</span>Relations</a></span></li></ul></li><li><span><a href=\"#Further-Materials\" data-toc-modified-id=\"Further-Materials-8\"><span class=\"toc-item-num\">8&nbsp;&nbsp;</span>Further Materials</a></span></li></ul></div>"
   ]
  },
  {
   "cell_type": "markdown",
   "metadata": {},
   "source": [
    "## What is a database?\n",
    "- Collection of data in a format of easy accesibility"
   ]
  },
  {
   "cell_type": "markdown",
   "metadata": {},
   "source": [
    "## CRUD\n",
    "For easy accessibility, mantainment and for data to be useful, a database must allow us to execute the four basic functions of persisten storage.\n",
    ">- Create\n",
    ">- Read\n",
    ">- Update\n",
    ">- Delete"
   ]
  },
  {
   "cell_type": "markdown",
   "metadata": {},
   "source": [
    "## Tabular Data\n",
    "So far, we've seen some different ways to store data, such as lists, dictionaries, text files, etc.\n",
    "\n",
    "And all throughout our life, not only on programming, we will se a lot of different ways to organize information.\n",
    "\n",
    "For example, if we look at a family tree or a taxonomical diagram, it contains a lot of information related to each other on  a `hierarchical` manner.\n",
    "\n",
    "![](https://miro.medium.com/max/5484/1*Z68UG1eIK9GASUEb1nSbzg.png)"
   ]
  },
  {
   "cell_type": "markdown",
   "metadata": {},
   "source": [
    "However, there is one particular way of organizing and storing data that is the most present in our life, and that is `tabular data`.\n",
    "\n",
    "Let's look at a few examples.\n",
    "\n",
    "![](https://www.sidis.net/phonebookD2.jpg)\n",
    "\n",
    "_A phone book_\n",
    "\n",
    "![](https://scrubbing.in/wp-content/uploads/2010/03/Nutrition-Label.jpg)\n",
    "\n",
    "_On packaging of food_\n",
    "\n",
    "![](https://cdn.vertex42.com/calendars/2021/March-2021-calendar.png)\n",
    "_Even a calendar is organized as a table._"
   ]
  },
  {
   "cell_type": "markdown",
   "metadata": {},
   "source": [
    "This is exactly the organization we will be using in SQL, `tabular` data, which means all our data will be stored in `tables`\n",
    "\n",
    "![](https://zentut.com//wp-content/uploads/2012/10/SQL-INNER-JOIN-3-tables-example.png)"
   ]
  },
  {
   "cell_type": "markdown",
   "metadata": {},
   "source": [
    "## Table\n",
    "A table is a 2 dimensional array of information, that is, a matrix.\n",
    "\n",
    "### Records\n",
    "On the horizontal axis, we have `rows`, also known as `records`.\n",
    "\n",
    "Each record contains information on an **individual**, of which the table contains a collection.\n",
    "\n",
    "For example, on the table above, we have information on different products. Each row represents a single product.\n",
    "\n",
    "And on an address book, each record represents a person or contact.\n",
    "\n",
    "### Columns\n",
    "On the vertical, the `columns`, that represent **attributes** of each record.\n",
    "\n",
    "Check the example above, each column contains a single piece of information for each record. \n",
    "\n",
    "### Organization\n",
    "- Table\n",
    "\n",
    "On a SQL database, each table will contain elements of a single type (for example: a table of Users, Products, Contacts, Addresses, etc.)\n",
    "\n",
    "We are not able to mix different types of records on the same table, because each column is \"prepared\" to receive a specific type of information.\n",
    "\n",
    "- Columns\n",
    "\n",
    "Each column on a table will contain a characteristic of the objects recorded. Each column can receive a specific data type (string, float, int, bool, etc.). Also, a column may or may not contain `null` values. On mySQL, we must define beforehand these posibilities. And don't forget that the information stored on a column must be relevant and somewhat permanent! In some cases, information such as `age` doesn't make much sense to store it in a column, for it will change constantly. And this data can be easily calculated with a permanent column of `date of birth`.\n",
    "\n",
    "- Records\n",
    "\n",
    "The records will be each element stored in our table. In mySQL, each record must have a `unique` identifier, an `id` that represents only this single row. This is called a `Primary Key`."
   ]
  },
  {
   "cell_type": "markdown",
   "metadata": {},
   "source": [
    "## Relational Database\n",
    "In most cases, we will use databases to store a lot of data. And different data!\n",
    "\n",
    "In order to do that, we can't simply try to put all the information on a single table. \n",
    "\n",
    "Records of different types is kept on different tables, but this data is connected somehow, therefore we say it is `related` and it is a `relational database`. \n",
    "\n",
    "### Connecting records\n",
    "To make the relation clear and connect the records properly, we must have a connecting attribute between the rows on both tables. Even though this connection could be based on any column, it is a good procedure to use the `primary key`. \n",
    "\n",
    "Since it is a unique value, no relation would be ambigous, for there wouldn't be any other row with the same value. When we have a primary key from a different table as a column, it is called a `foreign key`.\n",
    "\n",
    "For example, if we have a table of Customers and a different table of Addresses, we can have the `primary key` of the customers on the Address table to represent which address belongs to which person. This foreign key will be a new column, for exemple `customer_id`.\n",
    "\n",
    "The address or addresses belonging to the customer with the `id` **003** will be the owner of all addresses with the value **003** on the `customer_id` column.\n",
    "\n",
    "In this case, we refer to the _Addresses_ table as the `child table`, whereas _Customers_ is the `parent table`."
   ]
  },
  {
   "cell_type": "markdown",
   "metadata": {},
   "source": [
    "### Types of relations\n",
    "Tables may have multiple relations, both as child or as parent.\n",
    "\n",
    "On the example above, there could also be tables for Orders and CreditCard information.\n",
    "\n",
    "This means that not only a table can be part of multiple relations, but that a record may be related with one or more rows of a given table.\n",
    "\n",
    "We refer to each type of relation by the number of connections between the records of parent and child table.\n",
    "\n",
    "#### 1:1\n",
    "Each element of parent table relates to a single element of the child table.\n",
    "\n",
    "These relations are like splitting a table into two. It allows us to have less columns on a particular table. Also useful in cases where we expect columns to have lots of nulls, this way we can only have records for these columns for not null data on a different table.\n",
    "\n",
    "#### 1:n\n",
    "Allows us to have one record of parent table on multiple records of child table. \n",
    "\n",
    "On the example above, if each Customer can have multiple Addresses, this would be the type of relation.\n",
    "\n",
    "#### m:n\n",
    "Each record of either table relates to multiple records of the other table.\n",
    "\n",
    "In SQL, this is not a direct relation. A new table is required in order to have a table like this, this is called an intermediate table.\n",
    "\n",
    "_The relations on a database may be represented on a schema such as the one bellow._\n",
    "\n",
    "![](https://dev.mysql.com/doc/employee/en/images/employees-schema.png)"
   ]
  },
  {
   "cell_type": "markdown",
   "metadata": {},
   "source": [
    "## Database Setup\n",
    "There are three parts in our using of a database, all three are used in combination.\n",
    "\n",
    "### Database Managment System (DBMS)\n",
    "- Also known as Database Engine\n",
    "\n",
    "This is the piece of software that allows us to communicate with the database in order to create, read, update and delete data. This is our database server.\n",
    "\n",
    "It is the intermediate between us and the data, the librarian that controls where and how everything is stored.\n",
    "\n",
    "### Language\n",
    "In order to make the previously mentioned communication optimized, a specific language can be very useful. This is where `SQL` comes in hand.\n",
    "\n",
    "SQL is a `declarative` programming language (different from Python, which is an imperative programming language).\n",
    "\n",
    "- Imperative Paradigm\n",
    "We write a series of orders, or commands, instructing the computer the steps we wish it to execute.\n",
    "\n",
    "- Declarative Paradigm\n",
    "We describe what we want done, but we do not specify a procedure. Luckly, the DBMS knows how to do each of the things we need.\n",
    "\n",
    ">\"In SQL, all that matter is `WHAT` we want, not `HOW` it's done\""
   ]
  },
  {
   "cell_type": "markdown",
   "metadata": {},
   "source": [
    "### Interface\n",
    "Now that we know who will take all our requests (DBMS) and we know how to speak with it (SQL), we need to choose a medium through which we will communicate. \n",
    "\n",
    "Think of it as communicating with our mySQL librarian. It it the recipient, we will speak SQL, but we can speak out loud, send a mail, a whatsapp, or a telegram.\n",
    "The choice of medium are the different interfaces.\n",
    "\n",
    "All the same operations can be done in either interface, only the appearance will be different.\n",
    "\n",
    "On the terminal, we can access the `mysql` shell. It is a very simple, but fully operative way of using mysql.\n",
    "\n",
    "We can write a program on a different language, such as python, and incorporate using mysql into it. This way, our interface will be some library such as `sqlalchemy`.\n",
    "\n",
    "Finally, we have the `GUI (Graphical User Interface)`, what we usually call an App, application, program, etc. It is a fancy window with lots of options and easily usable tools. This is the category in which are `Sequel Pro` and `mySQL Workbench`."
   ]
  },
  {
   "cell_type": "markdown",
   "metadata": {},
   "source": [
    "## Designing Databases\n",
    "\n",
    "Designing databases is an art form of it's own, but for some applications, we ourselves will have to do it.\n",
    "\n",
    "We can divide it into two main points:\n",
    "\n",
    "### Tables\n",
    "- Each table must contain data on a specific type of \"object\", e.g.: user, customer, sale, car, product, invoice, publisher, etc.\n",
    "- The columns represent the fields (\"characteristics\") we want to record. `REMEMBER: `This information should be information related to that object and \"non-calculable\". Store `date_of_birth` instead of `age`. Age changes and we don't want to have to update our database all the time. Also don't record things such as `number_of_purchases`, unless necessary. This is information that derives from other columns and tables. ;)\n",
    "- Give descriptive names\n",
    "- Remember Primary Keys\n",
    "- Set columns attributes PK, NN, AI, Default\n",
    "    - Primary Key\n",
    "    - Not Null\n",
    "    - Auto Increment\n",
    "    - Default value\n",
    "\n",
    "### Relations\n",
    "There are different kinds of relations, but first, let's remember a few concepts.\n",
    "\n",
    "- Primary key\n",
    "\n",
    "Is the unique identifying column on a table.\n",
    "\n",
    "- Foreign key\n",
    "\n",
    "Primary key \"borrowed\" on the second table to relate them.\n",
    "\n",
    "- Parent table\n",
    "\n",
    "The \"og\" original owner of the primary key.\n",
    "\n",
    "- Child table\n",
    "\n",
    "The table that borrows a key from parent\n",
    "\n",
    "- Identifying relation\n",
    "\n",
    "Foreign key is part of child table primary keys\n",
    "\n",
    "- Non identifying relation\n",
    "\n",
    "Foreign key is not part of child tabler primary key\n",
    "\n",
    "**Types of relations: **\n",
    "- 1:1\n",
    "    - Like a table split in two\n",
    "- 1:n\n",
    "    - The most common type of relation\n",
    "- m:n\n",
    "    - Creates intermediate table, child of both tables we want to connect.\n",
    "    - Relations are 1:n between parent and child.\n",
    "\n",
    "```\n",
    "Each table may have multiple parents and multiple children.\n",
    "```\n",
    "\n",
    "We will begin with simple databases, but keep in mind that there are no limits as to how complex they might need to be. Check the scary diagram bellow for the database at the [Protein Data Bank](http://pdb.org), a worldwide archive of structural data about biological molecules, mostly proteins.\n",
    "\n",
    "![](https://www.ibm.com/developerworks/data/library/techarticle/dm-1109proteindatadb2purexml/pdb_scheme_large.jpg)"
   ]
  },
  {
   "cell_type": "markdown",
   "metadata": {},
   "source": [
    "## Further Materials\n",
    "\n",
    "[Sally Sequel](https://www.youtube.com/watch?v=27axs9dO7AE), the lego SQL DBMS. ;)"
   ]
  }
 ],
 "metadata": {
  "kernelspec": {
   "display_name": "Python 3",
   "language": "python",
   "name": "python3"
  },
  "language_info": {
   "codemirror_mode": {
    "name": "ipython",
    "version": 3
   },
   "file_extension": ".py",
   "mimetype": "text/x-python",
   "name": "python",
   "nbconvert_exporter": "python",
   "pygments_lexer": "ipython3",
   "version": "3.8.6"
  },
  "toc": {
   "base_numbering": 1,
   "nav_menu": {},
   "number_sections": true,
   "sideBar": true,
   "skip_h1_title": true,
   "title_cell": "Table of Contents",
   "title_sidebar": "Contents",
   "toc_cell": true,
   "toc_position": {},
   "toc_section_display": true,
   "toc_window_display": false
  }
 },
 "nbformat": 4,
 "nbformat_minor": 4
}
